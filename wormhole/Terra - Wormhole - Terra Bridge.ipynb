{
 "cells": [
  {
   "cell_type": "markdown",
   "metadata": {},
   "source": [
    "# Title"
   ]
  },
  {
   "cell_type": "markdown",
   "metadata": {},
   "source": [
    "### Wormhole\n",
    "\n",
    "\n",
    "### Terra Bridge\n",
    "\n",
    "\n",
    "\n",
    "\n",
    "### Objective\n",
    "\n",
    "\n",
    "### Data\n",
    "\n",
    "\n",
    "### Query\n",
    "The query used to retrieve the relevant data can be found [here](https://app.flipsidecrypto.com/velocity/queries/5027ee2e-4de7-41dd-8686-072046b3ce8b). Some main points to highlight:\n",
    "* \n",
    "* \n",
    "* "
   ]
  },
  {
   "cell_type": "code",
   "execution_count": 89,
   "metadata": {},
   "outputs": [],
   "source": [
    "tokens = {\n",
    "    'terra14tl83xcwqjy0ken9peu4pjjuu755lrry2uy25r': {'symbol':'whWETH',\n",
    "                                                    'asset_chain':2},\n",
    "    'terra1ce06wkrdm4vl6t0hvc0g86rsy27pu8yadg3dva': {'symbol':'whUSDT',\n",
    "                                                    'asset_chain':2},\n",
    "    'terra1e6mq63y64zcxz8xyu5van4tgkhemj3r86yvgu4':{'symbol':'wh',\n",
    "                                                    'asset_chain':1},\n",
    "       'terra190tqwgqx7s8qrknz6kckct7v607cu068gfujpk':{'symbol':'whSOL',\n",
    "                                                    'asset_chain':1},\n",
    "       'terra1hd9n65snaluvf7en0p4hqzse9eqecejz2k8rl5':{'symbol':'wh',\n",
    "                                                    'asset_chain':1},\n",
    "       'terra19phjr9363x44yukx6dl6d4zvn2wqc8gpkk0tm7':{'symbol':'whETH',\n",
    "                                                    'asset_chain':1},\n",
    "       'terra1tuleqeucunvs9rga3dq5h35ew3ml8uv9a4snzx':{'symbol':'whMIR',\n",
    "                                                    'asset_chain':4},\n",
    "       'terra19t8cxscre0jss7nejqy29c97fkg7els3v8zujg':{'symbol':'wh',\n",
    "                                                    'asset_chain':1},\n",
    "       'terra1kcthelkax4j9x8d3ny6sdag0qmxxynl3qtcrpy':{'symbol':'MINE',\n",
    "                                                    'asset_chain':3},\n",
    "       'terra16q5pke2vueu23y8punvj70h0cp0s0rc7vrzl57':{'symbol':'wh',\n",
    "                                                    'asset_chain':1},\n",
    "       'terra15gwkyepfc6xgca5t5zefzwy42uts8l2m4g40k6':{'symbol':'MIR',\n",
    "                                                    'asset_chain':3},\n",
    "       'terra14z56l0fp2lsf86zy3hty2z47ezkhnthtr9yq76':{'symbol':'ANC',\n",
    "                                                    'asset_chain':3},\n",
    "       'terra1k7tstwhf25wm45x329ny84xe4n2z2nnq9ekuv2':{'symbol':'wh',\n",
    "                                                    'asset_chain':1},\n",
    "       'terra1gdapfuda0dxtjc98raemhszntcxty7chyr0wpd':{'symbol':'whORION',\n",
    "                                                    'asset_chain':1},\n",
    "       'terra1aa7upykmmqqc63l924l5qfap8mrmx5rfdm0v55':{'symbol':'whWBTC',\n",
    "                                                    'asset_chain':2},\n",
    "       'terra1mddcdx0ujx89f38gu7zspk2r2ffdl5enyz2u03':{'symbol':'ORION',\n",
    "                                                    'asset_chain':3},\n",
    "       'terra1cetg5wruw2wsdjp7j46rj44xdel00z006e9yg8':{'symbol':'whWBNB',\n",
    "                                                    'asset_chain':4},\n",
    "       'terra1xu3nyee55dfe5vxqtg9m4rkex8u2t6n2etl08h':{'symbol':'whUSDT',\n",
    "                                                    'asset_chain':5},\n",
    "       'terra127ww0al7uj9vyg7cv2gtcqenhrjzlnq5vaq6dh':{'symbol':'whUST',\n",
    "                                                    'asset_chain':5},\n",
    "       'terra1fme0uqgjucph3kelyejm6yuj60e4te8647gx6v':{'symbol':'whLUNA',\n",
    "                                                    'asset_chain':5},\n",
    "       'terra1vlqeghv5mt5udh96kt5zxlh2wkh8q4kewkr0dd':{'symbol':'whUSDT',\n",
    "                                                    'asset_chain':4},\n",
    "       'terra1kkyyh7vganlpkj0gkc2rfmhy858ma4rtwywe3x':{'symbol':'whUSDC',\n",
    "                                                    'asset_chain':5},\n",
    "       'terra132zppkzw88j35hpwxkrpzymujekky3wcuru65n':{'symbol':'whATOM',\n",
    "                                                    'asset_chain':4}\n",
    "}"
   ]
  },
  {
   "cell_type": "markdown",
   "metadata": {},
   "source": [
    "### Chain IDs:\n",
    "* 1 -> Solana\n",
    "* 2 -> Ethereum\n",
    "* 3 -> Terra\n",
    "* 4 -> BSC\n",
    "* 5 -> Polygon"
   ]
  },
  {
   "cell_type": "code",
   "execution_count": 57,
   "metadata": {},
   "outputs": [],
   "source": [
    "chain_ids = ['Solana', 'Ethereum', 'Terra', 'BSC', 'Polygon']"
   ]
  },
  {
   "cell_type": "markdown",
   "metadata": {},
   "source": [
    "## Analysis"
   ]
  },
  {
   "cell_type": "markdown",
   "metadata": {},
   "source": [
    "**Imports**"
   ]
  },
  {
   "cell_type": "code",
   "execution_count": 1,
   "metadata": {},
   "outputs": [],
   "source": [
    "import pandas as pd\n",
    "import seaborn as sns\n",
    "import matplotlib\n",
    "import matplotlib.pyplot as plt\n",
    "matplotlib.rcParams['figure.figsize'] = (15.0, 5.0)\n",
    "pd.set_option('display.max_columns', 120)\n",
    "pd.options.display.max_colwidth = 10000"
   ]
  },
  {
   "cell_type": "code",
   "execution_count": 4,
   "metadata": {},
   "outputs": [],
   "source": [
    "url_wh_receive = 'https://api.flipsidecrypto.com/api/v2/queries/657279fb-8a07-4089-bf08-307fb7f1325d/data/latest'\n",
    "url_wh_send = 'https://api.flipsidecrypto.com/api/v2/queries/6cecbc05-4540-4c33-9557-585aec1af791/data/latest'"
   ]
  },
  {
   "cell_type": "code",
   "execution_count": 52,
   "metadata": {},
   "outputs": [],
   "source": [
    "wh_receive_raw = pd.read_json(url_wh_receive)\n",
    "wh_send_raw = pd.read_json(url_wh_send)"
   ]
  },
  {
   "cell_type": "code",
   "execution_count": 15,
   "metadata": {},
   "outputs": [],
   "source": [
    "wh_receive = wh_receive_raw[['AMOUNT', 'BLOCK_TIMESTAMP', 'CHAIN_ID',\n",
    "       'DENOM', 'ORIGINAL_SENDER', 'RECIPIENT', 'SENDER',\n",
    "       'TX_ID', 'TX_MODULE', 'TX_STATUS', 'TX_TYPE']]\n",
    "wh_receive = wh_receive[wh_receive.TX_STATUS == 'SUCCEEDED']\n",
    "wh_receive.columns = [s.lower() for s in wh_receive.columns]"
   ]
  },
  {
   "cell_type": "code",
   "execution_count": 93,
   "metadata": {},
   "outputs": [
    {
     "name": "stderr",
     "output_type": "stream",
     "text": [
      "<ipython-input-93-7a287166e421>:18: SettingWithCopyWarning: \n",
      "A value is trying to be set on a copy of a slice from a DataFrame.\n",
      "Try using .loc[row_indexer,col_indexer] = value instead\n",
      "\n",
      "See the caveats in the documentation: https://pandas.pydata.org/pandas-docs/stable/user_guide/indexing.html#returning-a-view-versus-a-copy\n",
      "  wh_send['token_addr_name'] = wh_send.token_contract_addr.apply(lambda x:\n"
     ]
    }
   ],
   "source": [
    "wh_send_raw = wh_send_raw[wh_send_raw.TX_STATUS == 'SUCCEEDED']\n",
    "wh_send = wh_send_raw[['BLOCK_TIMESTAMP',\n",
    "       'MSG_VALUE:EXECUTE_MSG:INITIATE_TRANSFER:ASSET:AMOUNT',\n",
    "       'MSG_VALUE:EXECUTE_MSG:INITIATE_TRANSFER:ASSET:INFO:NATIVE_TOKEN:DENOM',\n",
    "       'MSG_VALUE:EXECUTE_MSG:INITIATE_TRANSFER:ASSET:INFO:TOKEN:CONTRACT_ADDR',\n",
    "       'MSG_VALUE:EXECUTE_MSG:INITIATE_TRANSFER:RECIPIENT_CHAIN',\n",
    "       'MSG_VALUE:SENDER', 'TX_ID']]\n",
    "wh_send.columns = ['block_timestamp',\n",
    "       'amount',\n",
    "       'denom',\n",
    "       'token_contract_addr',\n",
    "       'recipient_chain',\n",
    "       'sender', 'tx_id']\n",
    "wh_send.token_contract_addr=wh_send.token_contract_addr.apply(lambda x: x.replace(\"\\\"\",\"\") if x else '')\n",
    "wh_send.denom=wh_send.denom.apply(lambda x: x.replace(\"\\\"\",\"\") if x else '')\n",
    "wh_send.amount=wh_send.amount.apply(lambda x: x.replace(\"\\\"\",\"\") if x else '')\n",
    "wh_send.sender=wh_send.sender.apply(lambda x: x.replace(\"\\\"\",\"\") if x else '')\n",
    "wh_send['token_addr_name'] = wh_send.token_contract_addr.apply(lambda x: \n",
    "                                            f\"{tokens[x]['symbol']}_{tokens[x]['asset_chain']}\" if x in tokens else '')"
   ]
  },
  {
   "cell_type": "code",
   "execution_count": 94,
   "metadata": {},
   "outputs": [
    {
     "data": {
      "text/plain": [
       "whWETH_2     69\n",
       "whSOL_1      41\n",
       "wh_1         39\n",
       "whORION_1    21\n",
       "whETH_1      11\n",
       "ORION_3       8\n",
       "MIR_3         6\n",
       "whUSDT_2      6\n",
       "whMIR_4       4\n",
       "ANC_3         3\n",
       "whUST_5       3\n",
       "whWBNB_4      1\n",
       "whUSDT_4      1\n",
       "whUSDT_5      1\n",
       "whLUNA_5      1\n",
       "whWBTC_2      1\n",
       "whATOM_4      1\n",
       "MINE_3        1\n",
       "whUSDC_5      1\n",
       "Name: token_addr_name, dtype: int64"
      ]
     },
     "execution_count": 94,
     "metadata": {},
     "output_type": "execute_result"
    }
   ],
   "source": [
    "wh_send[wh_send.token_addr_name != ''].token_addr_name.value_counts()"
   ]
  },
  {
   "cell_type": "code",
   "execution_count": 95,
   "metadata": {},
   "outputs": [
    {
     "data": {
      "text/plain": [
       "Solana      2425\n",
       "BSC          321\n",
       "Ethereum     121\n",
       "Polygon       24\n",
       "Name: recipient_chain, dtype: int64"
      ]
     },
     "execution_count": 95,
     "metadata": {},
     "output_type": "execute_result"
    }
   ],
   "source": [
    "wh_send.recipient_chain.apply(lambda n: chain_ids[n-1]).value_counts()"
   ]
  },
  {
   "cell_type": "code",
   "execution_count": 96,
   "metadata": {},
   "outputs": [
    {
     "data": {
      "text/plain": [
       "Index(['block_timestamp', 'amount', 'denom', 'token_contract_addr',\n",
       "       'recipient_chain', 'sender', 'tx_id', 'token_addr_name'],\n",
       "      dtype='object')"
      ]
     },
     "execution_count": 96,
     "metadata": {},
     "output_type": "execute_result"
    }
   ],
   "source": [
    "wh_send.columns"
   ]
  },
  {
   "cell_type": "code",
   "execution_count": 97,
   "metadata": {},
   "outputs": [
    {
     "name": "stderr",
     "output_type": "stream",
     "text": [
      "<ipython-input-97-98d1215aa1be>:1: SettingWithCopyWarning: \n",
      "A value is trying to be set on a copy of a slice from a DataFrame.\n",
      "Try using .loc[row_indexer,col_indexer] = value instead\n",
      "\n",
      "See the caveats in the documentation: https://pandas.pydata.org/pandas-docs/stable/user_guide/indexing.html#returning-a-view-versus-a-copy\n",
      "  wh_send['token_name'] = wh_send.apply(lambda r: r.denom if r.denom else r.token_addr_name, axis=1)\n"
     ]
    }
   ],
   "source": [
    "wh_send['token_name'] = wh_send.apply(lambda r: r.denom if r.denom else r.token_addr_name, axis=1)"
   ]
  },
  {
   "cell_type": "code",
   "execution_count": 98,
   "metadata": {},
   "outputs": [
    {
     "data": {
      "text/plain": [
       "uusd         2328\n",
       "uluna         344\n",
       "whWETH_2       69\n",
       "whSOL_1        41\n",
       "wh_1           39\n",
       "whORION_1      21\n",
       "whETH_1        11\n",
       "ORION_3         8\n",
       "whUSDT_2        6\n",
       "MIR_3           6\n",
       "whMIR_4         4\n",
       "ANC_3           3\n",
       "whUST_5         3\n",
       "whLUNA_5        1\n",
       "MINE_3          1\n",
       "whATOM_4        1\n",
       "whUSDT_5        1\n",
       "whWBTC_2        1\n",
       "whUSDC_5        1\n",
       "whUSDT_4        1\n",
       "whWBNB_4        1\n",
       "Name: token_name, dtype: int64"
      ]
     },
     "execution_count": 98,
     "metadata": {},
     "output_type": "execute_result"
    }
   ],
   "source": [
    "wh_send.token_name.value_counts()"
   ]
  }
 ],
 "metadata": {
  "kernelspec": {
   "display_name": "Python 3",
   "language": "python",
   "name": "python3"
  },
  "language_info": {
   "codemirror_mode": {
    "name": "ipython",
    "version": 3
   },
   "file_extension": ".py",
   "mimetype": "text/x-python",
   "name": "python",
   "nbconvert_exporter": "python",
   "pygments_lexer": "ipython3",
   "version": "3.8.2"
  }
 },
 "nbformat": 4,
 "nbformat_minor": 4
}
