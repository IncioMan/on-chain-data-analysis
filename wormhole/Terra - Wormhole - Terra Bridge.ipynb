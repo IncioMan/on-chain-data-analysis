{
 "cells": [
  {
   "cell_type": "markdown",
   "metadata": {},
   "source": [
    "# Title"
   ]
  },
  {
   "cell_type": "markdown",
   "metadata": {},
   "source": [
    "### Wormhole\n",
    "\n",
    "\n",
    "### Terra Bridge\n",
    "\n",
    "\n",
    "\n",
    "\n",
    "### Objective\n",
    "\n",
    "As Wormhole has added Terra support with the Columbus 5 upgrade, analyze the initial activity: \n",
    "* How many users are engaging, what tokens are they receiving vs sending? \n",
    "* Which destinations/sources are most popular? \n",
    "* What is the adoption rate, i.e. how rapidly are users choosing to use Wormhole over the Terra-specific Bridge? \n",
    "* Anything else you observe of interest?\n",
    "\n",
    "\n",
    "### Data\n",
    "\n",
    "\n",
    "### Query\n",
    "The query used to retrieve the relevant data can be found [here](https://app.flipsidecrypto.com/velocity/queries/5027ee2e-4de7-41dd-8686-072046b3ce8b). Some main points to highlight:\n",
    "* \n",
    "* \n",
    "* "
   ]
  },
  {
   "cell_type": "code",
   "execution_count": 172,
   "metadata": {},
   "outputs": [],
   "source": [
    "tokens = {\n",
    "    'terra14tl83xcwqjy0ken9peu4pjjuu755lrry2uy25r': {'symbol':'whWETH',\n",
    "                                                    'asset_chain':2},\n",
    "    'terra1ce06wkrdm4vl6t0hvc0g86rsy27pu8yadg3dva': {'symbol':'whUSDT',\n",
    "                                                    'asset_chain':2},\n",
    "    'terra1e6mq63y64zcxz8xyu5van4tgkhemj3r86yvgu4':{'symbol':'wh',\n",
    "                                                    'asset_chain':1},\n",
    "       'terra190tqwgqx7s8qrknz6kckct7v607cu068gfujpk':{'symbol':'whSOL',\n",
    "                                                    'asset_chain':1},\n",
    "       'terra1hd9n65snaluvf7en0p4hqzse9eqecejz2k8rl5':{'symbol':'wh',\n",
    "                                                    'asset_chain':1},\n",
    "       'terra19phjr9363x44yukx6dl6d4zvn2wqc8gpkk0tm7':{'symbol':'whETH',\n",
    "                                                    'asset_chain':1},\n",
    "       'terra1tuleqeucunvs9rga3dq5h35ew3ml8uv9a4snzx':{'symbol':'whMIR',\n",
    "                                                    'asset_chain':4},\n",
    "       'terra19t8cxscre0jss7nejqy29c97fkg7els3v8zujg':{'symbol':'wh',\n",
    "                                                    'asset_chain':1},\n",
    "       'terra1kcthelkax4j9x8d3ny6sdag0qmxxynl3qtcrpy':{'symbol':'MINE',\n",
    "                                                    'asset_chain':3},\n",
    "       'terra16q5pke2vueu23y8punvj70h0cp0s0rc7vrzl57':{'symbol':'wh',\n",
    "                                                    'asset_chain':1},\n",
    "       'terra15gwkyepfc6xgca5t5zefzwy42uts8l2m4g40k6':{'symbol':'MIR',\n",
    "                                                    'asset_chain':3},\n",
    "       'terra14z56l0fp2lsf86zy3hty2z47ezkhnthtr9yq76':{'symbol':'ANC',\n",
    "                                                    'asset_chain':3},\n",
    "       'terra1k7tstwhf25wm45x329ny84xe4n2z2nnq9ekuv2':{'symbol':'wh',\n",
    "                                                    'asset_chain':1},\n",
    "       'terra1gdapfuda0dxtjc98raemhszntcxty7chyr0wpd':{'symbol':'whORION',\n",
    "                                                    'asset_chain':1},\n",
    "       'terra1aa7upykmmqqc63l924l5qfap8mrmx5rfdm0v55':{'symbol':'whWBTC',\n",
    "                                                    'asset_chain':2},\n",
    "       'terra1mddcdx0ujx89f38gu7zspk2r2ffdl5enyz2u03':{'symbol':'ORION',\n",
    "                                                    'asset_chain':3},\n",
    "       'terra1cetg5wruw2wsdjp7j46rj44xdel00z006e9yg8':{'symbol':'whWBNB',\n",
    "                                                    'asset_chain':4},\n",
    "       'terra1xu3nyee55dfe5vxqtg9m4rkex8u2t6n2etl08h':{'symbol':'whUSDT',\n",
    "                                                    'asset_chain':5},\n",
    "       'terra127ww0al7uj9vyg7cv2gtcqenhrjzlnq5vaq6dh':{'symbol':'whUST',\n",
    "                                                    'asset_chain':5},\n",
    "       'terra1fme0uqgjucph3kelyejm6yuj60e4te8647gx6v':{'symbol':'whLUNA',\n",
    "                                                    'asset_chain':5},\n",
    "       'terra1vlqeghv5mt5udh96kt5zxlh2wkh8q4kewkr0dd':{'symbol':'whUSDT',\n",
    "                                                    'asset_chain':4},\n",
    "       'terra1kkyyh7vganlpkj0gkc2rfmhy858ma4rtwywe3x':{'symbol':'whUSDC',\n",
    "                                                    'asset_chain':5},\n",
    "       'terra132zppkzw88j35hpwxkrpzymujekky3wcuru65n':{'symbol':'whATOM',\n",
    "                                                    'asset_chain':4}\n",
    "}"
   ]
  },
  {
   "cell_type": "markdown",
   "metadata": {},
   "source": [
    "### Chain IDs:\n",
    "* 1 -> Solana\n",
    "* 2 -> Ethereum\n",
    "* 3 -> Terra\n",
    "* 4 -> BSC\n",
    "* 5 -> Polygon"
   ]
  },
  {
   "cell_type": "code",
   "execution_count": 173,
   "metadata": {},
   "outputs": [],
   "source": [
    "chain_ids = ['Solana', 'Ethereum', 'Terra', 'BSC', 'Polygon']"
   ]
  },
  {
   "cell_type": "markdown",
   "metadata": {},
   "source": [
    "## Analysis"
   ]
  },
  {
   "cell_type": "markdown",
   "metadata": {},
   "source": [
    "**Imports**"
   ]
  },
  {
   "cell_type": "code",
   "execution_count": 232,
   "metadata": {},
   "outputs": [],
   "source": [
    "import pandas as pd\n",
    "import seaborn as sns\n",
    "import matplotlib\n",
    "import matplotlib.pyplot as plt\n",
    "pd.options.mode.chained_assignment = None\n",
    "matplotlib.rcParams['figure.figsize'] = (15.0, 5.0)\n",
    "pd.set_option('display.max_columns', 120)\n",
    "pd.options.display.max_colwidth = 10000"
   ]
  },
  {
   "cell_type": "code",
   "execution_count": 233,
   "metadata": {},
   "outputs": [],
   "source": [
    "url_wh_receive = 'https://api.flipsidecrypto.com/api/v2/queries/657279fb-8a07-4089-bf08-307fb7f1325d/data/latest'\n",
    "url_wh_send = 'https://api.flipsidecrypto.com/api/v2/queries/6cecbc05-4540-4c33-9557-585aec1af791/data/latest'"
   ]
  },
  {
   "cell_type": "code",
   "execution_count": 234,
   "metadata": {},
   "outputs": [],
   "source": [
    "wh_receive_raw = pd.read_json(url_wh_receive)\n",
    "wh_send_raw = pd.read_json(url_wh_send)"
   ]
  },
  {
   "cell_type": "code",
   "execution_count": 235,
   "metadata": {},
   "outputs": [],
   "source": [
    "wh_receive = wh_receive_raw[['AMOUNT', 'BLOCK_TIMESTAMP', 'CHAIN_ID',\n",
    "       'DENOM', 'ORIGINAL_SENDER', 'RECIPIENT', 'SENDER',\n",
    "       'TX_ID', 'TX_MODULE', 'TX_STATUS', 'TX_TYPE']]\n",
    "wh_receive = wh_receive[wh_receive.TX_STATUS == 'SUCCEEDED']\n",
    "wh_receive.columns = [s.lower() for s in wh_receive.columns]"
   ]
  },
  {
   "cell_type": "code",
   "execution_count": 236,
   "metadata": {},
   "outputs": [],
   "source": [
    "wh_send_raw = wh_send_raw[wh_send_raw.TX_STATUS == 'SUCCEEDED']\n",
    "wh_send = wh_send_raw[['BLOCK_TIMESTAMP',\n",
    "       'MSG_VALUE:EXECUTE_MSG:INITIATE_TRANSFER:ASSET:AMOUNT',\n",
    "       'MSG_VALUE:EXECUTE_MSG:INITIATE_TRANSFER:ASSET:INFO:NATIVE_TOKEN:DENOM',\n",
    "       'MSG_VALUE:EXECUTE_MSG:INITIATE_TRANSFER:ASSET:INFO:TOKEN:CONTRACT_ADDR',\n",
    "       'MSG_VALUE:EXECUTE_MSG:INITIATE_TRANSFER:RECIPIENT_CHAIN',\n",
    "       'MSG_VALUE:SENDER', 'TX_ID']]\n",
    "wh_send.columns = ['block_timestamp',\n",
    "       'amount',\n",
    "       'denom',\n",
    "       'token_contract_addr',\n",
    "       'recipient_chain',\n",
    "       'sender', 'tx_id']\n",
    "wh_send.block_timestamp = pd.to_datetime(wh_send.block_timestamp)\n",
    "wh_send.token_contract_addr=wh_send.token_contract_addr.apply(lambda x: x.replace(\"\\\"\",\"\") if x else '')\n",
    "wh_send.denom=wh_send.denom.apply(lambda x: x.replace(\"\\\"\",\"\") if x else '')\n",
    "wh_send.amount=wh_send.amount.apply(lambda x: x.replace(\"\\\"\",\"\") if x else '').astype('int64')\n",
    "wh_send.sender=wh_send.sender.apply(lambda x: x.replace(\"\\\"\",\"\") if x else '')\n",
    "wh_send['token_addr_name'] = wh_send.token_contract_addr.apply(lambda x: \n",
    "                                            f\"{tokens[x]['symbol']}_{chain_ids[tokens[x]['asset_chain']-1]}\" if x in tokens else '')"
   ]
  },
  {
   "cell_type": "code",
   "execution_count": 237,
   "metadata": {},
   "outputs": [],
   "source": [
    "wh_send['month_day'] = wh_send.block_timestamp.apply(lambda b: f\"{b.month}_{'{:02}'.format(b.day)}\")"
   ]
  },
  {
   "cell_type": "code",
   "execution_count": 238,
   "metadata": {},
   "outputs": [
    {
     "data": {
      "text/plain": [
       "2891"
      ]
     },
     "execution_count": 238,
     "metadata": {},
     "output_type": "execute_result"
    }
   ],
   "source": [
    "wh_send.tx_id.count()"
   ]
  },
  {
   "cell_type": "code",
   "execution_count": 239,
   "metadata": {},
   "outputs": [
    {
     "data": {
      "text/plain": [
       "1485"
      ]
     },
     "execution_count": 239,
     "metadata": {},
     "output_type": "execute_result"
    }
   ],
   "source": [
    "len(wh_send.sender.unique())"
   ]
  },
  {
   "cell_type": "code",
   "execution_count": 240,
   "metadata": {},
   "outputs": [
    {
     "data": {
      "text/plain": [
       "terra1vrq3yzujgmfrqyp6der9w8j3audmw497tgpytl    52\n",
       "terra1zhgnqk9gq295qtqqa9j5shmm7lkp9e66m937jr    36\n",
       "terra1dtzfwgzt8xa70zkm8gqzwz0n4zrqtngdpqejx5    25\n",
       "terra143nl3cv60s8uyyg4m3a5se5vphv0wct6mpcadk    25\n",
       "terra1nckkt3jx9xna820c4zjfyedz97vel0g6s8sh35    23\n",
       "                                                ..\n",
       "terra16tqwjfa8cdseh0xyv5929zya4hdpqdt0832k9u     1\n",
       "terra1rqkx43uw4dnlxc3lukv4jetcjc23qxecmqfzaq     1\n",
       "terra16y9quzrk7y3dkv3k7pfu4zqvn9zqkankv26ncl     1\n",
       "terra1yymclxkxtzp4zsk2na0gvmmwv36tpht490xarn     1\n",
       "terra1wrx893xfphqaedsu3zdvkc9jwvq279uskjk96f     1\n",
       "Name: sender, Length: 1485, dtype: int64"
      ]
     },
     "execution_count": 240,
     "metadata": {},
     "output_type": "execute_result"
    }
   ],
   "source": [
    "wh_send.sender.value_counts()"
   ]
  },
  {
   "cell_type": "code",
   "execution_count": 241,
   "metadata": {},
   "outputs": [
    {
     "data": {
      "text/plain": [
       "Solana      2425\n",
       "BSC          321\n",
       "Ethereum     121\n",
       "Polygon       24\n",
       "Name: recipient_chain, dtype: int64"
      ]
     },
     "execution_count": 241,
     "metadata": {},
     "output_type": "execute_result"
    }
   ],
   "source": [
    "wh_send.recipient_chain.apply(lambda n: chain_ids[n-1]).value_counts()"
   ]
  },
  {
   "cell_type": "code",
   "execution_count": 242,
   "metadata": {},
   "outputs": [],
   "source": [
    "wh_send['token_name'] = wh_send.apply(lambda r: r.denom if r.denom else r.token_addr_name, axis=1)"
   ]
  },
  {
   "cell_type": "code",
   "execution_count": 243,
   "metadata": {},
   "outputs": [
    {
     "data": {
      "text/plain": [
       "<AxesSubplot:>"
      ]
     },
     "execution_count": 243,
     "metadata": {},
     "output_type": "execute_result"
    },
    {
     "data": {
      "image/png": "[encoded data removed]",
      "text/plain": [
       "<Figure size 1080x360 with 1 Axes>"
      ]
     },
     "metadata": {
      "needs_background": "light"
     },
     "output_type": "display_data"
    }
   ],
   "source": [
    "wh_send.token_name.value_counts().plot(kind='bar')"
   ]
  },
  {
   "cell_type": "code",
   "execution_count": 244,
   "metadata": {},
   "outputs": [
    {
     "data": {
      "text/plain": [
       "<AxesSubplot:>"
      ]
     },
     "execution_count": 244,
     "metadata": {},
     "output_type": "execute_result"
    },
    {
     "data": {
      "image/png": "[encoded data removed]",
      "text/plain": [
       "<Figure size 1080x360 with 1 Axes>"
      ]
     },
     "metadata": {
      "needs_background": "light"
     },
     "output_type": "display_data"
    }
   ],
   "source": [
    "daily_txs = wh_send.month_day.value_counts()\n",
    "daily_txs['10_08'] = 0\n",
    "daily_txs['10_09'] = 0\n",
    "daily_txs['10_10'] = 0\n",
    "daily_txs['10_11'] = 0\n",
    "daily_txs['10_16'] = 0\n",
    "daily_txs['10_17'] = 0\n",
    "daily_txs.sort_index().plot(kind='bar')"
   ]
  },
  {
   "cell_type": "code",
   "execution_count": 245,
   "metadata": {},
   "outputs": [
    {
     "data": {
      "text/plain": [
       "112.92"
      ]
     },
     "execution_count": 245,
     "metadata": {},
     "output_type": "execute_result"
    }
   ],
   "source": [
    "daily_txs[daily_txs.index > '10_19'].mean()"
   ]
  },
  {
   "cell_type": "code",
   "execution_count": 246,
   "metadata": {},
   "outputs": [
    {
     "data": {
      "text/plain": [
       "<AxesSubplot:xlabel='month_day'>"
      ]
     },
     "execution_count": 246,
     "metadata": {},
     "output_type": "execute_result"
    },
    {
     "data": {
      "image/png": "[encoded data removed]",
      "text/plain": [
       "<Figure size 1080x360 with 1 Axes>"
      ]
     },
     "metadata": {
      "needs_background": "light"
     },
     "output_type": "display_data"
    }
   ],
   "source": [
    "tmp = wh_send[wh_send.token_name == 'uusd'].sort_values(by=\"amount\", ascending=False)[10:]\n",
    "daily_uusd = (tmp[tmp.token_name == 'uusd'].groupby('month_day').sum().amount/1000000)\n",
    "daily_uusd['10_08'] = 0\n",
    "daily_uusd['10_09'] = 0\n",
    "daily_uusd['10_10'] = 0\n",
    "daily_uusd['10_11'] = 0\n",
    "daily_uusd['10_16'] = 0\n",
    "daily_uusd['10_17'] = 0\n",
    "daily_uusd.sort_index().plot(kind='bar')"
   ]
  },
  {
   "cell_type": "code",
   "execution_count": 247,
   "metadata": {},
   "outputs": [
    {
     "data": {
      "text/html": [
       "<div>\n",
       "<style scoped>\n",
       "    .dataframe tbody tr th:only-of-type {\n",
       "        vertical-align: middle;\n",
       "    }\n",
       "\n",
       "    .dataframe tbody tr th {\n",
       "        vertical-align: top;\n",
       "    }\n",
       "\n",
       "    .dataframe thead th {\n",
       "        text-align: right;\n",
       "    }\n",
       "</style>\n",
       "<table border=\"1\" class=\"dataframe\">\n",
       "  <thead>\n",
       "    <tr style=\"text-align: right;\">\n",
       "      <th></th>\n",
       "      <th>block_timestamp</th>\n",
       "      <th>amount</th>\n",
       "      <th>denom</th>\n",
       "      <th>token_contract_addr</th>\n",
       "      <th>recipient_chain</th>\n",
       "      <th>sender</th>\n",
       "      <th>tx_id</th>\n",
       "      <th>token_addr_name</th>\n",
       "      <th>month_day</th>\n",
       "      <th>token_name</th>\n",
       "    </tr>\n",
       "  </thead>\n",
       "  <tbody>\n",
       "    <tr>\n",
       "      <th>873</th>\n",
       "      <td>2021-10-14 02:07:07+00:00</td>\n",
       "      <td>41999990000000</td>\n",
       "      <td>uusd</td>\n",
       "      <td></td>\n",
       "      <td>2</td>\n",
       "      <td>terra1dtzfwgzt8xa70zkm8gqzwz0n4zrqtngdpqejx5</td>\n",
       "      <td>C1213BE51F64E9F320C0D39B0AAF36C289CF586BE2496E80463B95BED87CB22D</td>\n",
       "      <td></td>\n",
       "      <td>10_14</td>\n",
       "      <td>uusd</td>\n",
       "    </tr>\n",
       "    <tr>\n",
       "      <th>671</th>\n",
       "      <td>2021-10-30 00:08:27+00:00</td>\n",
       "      <td>30000000000000</td>\n",
       "      <td>uusd</td>\n",
       "      <td></td>\n",
       "      <td>1</td>\n",
       "      <td>terra1dtzfwgzt8xa70zkm8gqzwz0n4zrqtngdpqejx5</td>\n",
       "      <td>EA2EF5D68656CE6EECF9A692A17EA16460CE3C0F50AEA05C5A8D27FAE1226F6D</td>\n",
       "      <td></td>\n",
       "      <td>10_30</td>\n",
       "      <td>uusd</td>\n",
       "    </tr>\n",
       "    <tr>\n",
       "      <th>997</th>\n",
       "      <td>2021-10-19 02:37:19+00:00</td>\n",
       "      <td>30000000000000</td>\n",
       "      <td>uusd</td>\n",
       "      <td></td>\n",
       "      <td>1</td>\n",
       "      <td>terra1dtzfwgzt8xa70zkm8gqzwz0n4zrqtngdpqejx5</td>\n",
       "      <td>10559288DADEDCEADC403D4E49EF61164AD7C181FCF4079DFCB5243F83736D2E</td>\n",
       "      <td></td>\n",
       "      <td>10_19</td>\n",
       "      <td>uusd</td>\n",
       "    </tr>\n",
       "    <tr>\n",
       "      <th>845</th>\n",
       "      <td>2021-10-14 05:05:58+00:00</td>\n",
       "      <td>8100000000000</td>\n",
       "      <td>uusd</td>\n",
       "      <td></td>\n",
       "      <td>2</td>\n",
       "      <td>terra1dtzfwgzt8xa70zkm8gqzwz0n4zrqtngdpqejx5</td>\n",
       "      <td>4E079FFBFDF7B9956B7816582A334DE4679C93F26A67E6D649146EC3288BEE8A</td>\n",
       "      <td></td>\n",
       "      <td>10_14</td>\n",
       "      <td>uusd</td>\n",
       "    </tr>\n",
       "    <tr>\n",
       "      <th>3093</th>\n",
       "      <td>2021-11-04 16:51:14+00:00</td>\n",
       "      <td>5000000000000</td>\n",
       "      <td>uusd</td>\n",
       "      <td></td>\n",
       "      <td>1</td>\n",
       "      <td>terra1qggut0tm799s0sy65cnzdela3yj2rfamd2sssf</td>\n",
       "      <td>3B276F4801818D28C178DACA3E9B894B88302678B0D68861BF5160BB34B82E5C</td>\n",
       "      <td></td>\n",
       "      <td>11_04</td>\n",
       "      <td>uusd</td>\n",
       "    </tr>\n",
       "  </tbody>\n",
       "</table>\n",
       "</div>"
      ],
      "text/plain": [
       "               block_timestamp          amount denom token_contract_addr  \\\n",
       "873  2021-10-14 02:07:07+00:00  41999990000000  uusd                       \n",
       "671  2021-10-30 00:08:27+00:00  30000000000000  uusd                       \n",
       "997  2021-10-19 02:37:19+00:00  30000000000000  uusd                       \n",
       "845  2021-10-14 05:05:58+00:00   8100000000000  uusd                       \n",
       "3093 2021-11-04 16:51:14+00:00   5000000000000  uusd                       \n",
       "\n",
       "      recipient_chain                                        sender  \\\n",
       "873                 2  terra1dtzfwgzt8xa70zkm8gqzwz0n4zrqtngdpqejx5   \n",
       "671                 1  terra1dtzfwgzt8xa70zkm8gqzwz0n4zrqtngdpqejx5   \n",
       "997                 1  terra1dtzfwgzt8xa70zkm8gqzwz0n4zrqtngdpqejx5   \n",
       "845                 2  terra1dtzfwgzt8xa70zkm8gqzwz0n4zrqtngdpqejx5   \n",
       "3093                1  terra1qggut0tm799s0sy65cnzdela3yj2rfamd2sssf   \n",
       "\n",
       "                                                                 tx_id  \\\n",
       "873   C1213BE51F64E9F320C0D39B0AAF36C289CF586BE2496E80463B95BED87CB22D   \n",
       "671   EA2EF5D68656CE6EECF9A692A17EA16460CE3C0F50AEA05C5A8D27FAE1226F6D   \n",
       "997   10559288DADEDCEADC403D4E49EF61164AD7C181FCF4079DFCB5243F83736D2E   \n",
       "845   4E079FFBFDF7B9956B7816582A334DE4679C93F26A67E6D649146EC3288BEE8A   \n",
       "3093  3B276F4801818D28C178DACA3E9B894B88302678B0D68861BF5160BB34B82E5C   \n",
       "\n",
       "     token_addr_name month_day token_name  \n",
       "873                      10_14       uusd  \n",
       "671                      10_30       uusd  \n",
       "997                      10_19       uusd  \n",
       "845                      10_14       uusd  \n",
       "3093                     11_04       uusd  "
      ]
     },
     "execution_count": 247,
     "metadata": {},
     "output_type": "execute_result"
    }
   ],
   "source": [
    "wh_send[wh_send.token_name == 'uusd'].sort_values(by=\"amount\", ascending=False).head()"
   ]
  },
  {
   "cell_type": "code",
   "execution_count": 248,
   "metadata": {},
   "outputs": [
    {
     "data": {
      "text/plain": [
       "block_timestamp                                               2021-10-14 02:07:07+00:00\n",
       "amount                                                                   41999990000000\n",
       "denom                                                                              uusd\n",
       "token_contract_addr                                                                    \n",
       "recipient_chain                                                                       2\n",
       "sender                                     terra1dtzfwgzt8xa70zkm8gqzwz0n4zrqtngdpqejx5\n",
       "tx_id                  C1213BE51F64E9F320C0D39B0AAF36C289CF586BE2496E80463B95BED87CB22D\n",
       "token_addr_name                                                                        \n",
       "month_day                                                                         10_14\n",
       "token_name                                                                         uusd\n",
       "Name: 873, dtype: object"
      ]
     },
     "execution_count": 248,
     "metadata": {},
     "output_type": "execute_result"
    }
   ],
   "source": [
    "wh_send.loc[873]"
   ]
  },
  {
   "cell_type": "code",
   "execution_count": 249,
   "metadata": {},
   "outputs": [
    {
     "data": {
      "text/plain": [
       "<AxesSubplot:>"
      ]
     },
     "execution_count": 249,
     "metadata": {},
     "output_type": "execute_result"
    },
    {
     "data": {
      "image/png": "[encoded data removed]",
      "text/plain": [
       "<Figure size 1080x360 with 1 Axes>"
      ]
     },
     "metadata": {
      "needs_background": "light"
     },
     "output_type": "display_data"
    }
   ],
   "source": [
    "wh_send[\"recipient_chain_name\"]=wh_send.recipient_chain.apply(lambda x: chain_ids[x-1])\n",
    "wh_send[\"recipient_chain_name\"].value_counts().plot(kind='barh')"
   ]
  },
  {
   "cell_type": "code",
   "execution_count": null,
   "metadata": {},
   "outputs": [],
   "source": []
  }
 ],
 "metadata": {
  "kernelspec": {
   "display_name": "Python 3",
   "language": "python",
   "name": "python3"
  },
  "language_info": {
   "codemirror_mode": {
    "name": "ipython",
    "version": 3
   },
   "file_extension": ".py",
   "mimetype": "text/x-python",
   "name": "python",
   "nbconvert_exporter": "python",
   "pygments_lexer": "ipython3",
   "version": "3.8.2"
  }
 },
 "nbformat": 4,
 "nbformat_minor": 4
}
