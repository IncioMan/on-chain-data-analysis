{
 "cells": [
  {
   "cell_type": "markdown",
   "metadata": {},
   "source": [
    "# Pylon Lottery - Galactic Punk"
   ]
  },
  {
   "cell_type": "markdown",
   "metadata": {},
   "source": [
    "### Pylon Lottery\n",
    "The pylon lottery is a mechanism implemented in the [Pylon](https://pylon.money/) protocol, in which users can deposit UST in exchange for lottey tickets. Each 10 UST deposited is rewarded with 1 ticket. The longer the UST remain in the pool, the more tickets the user is rewarded. At the end of the lottey period, a winning ticket is extracted from the ones rewarded to users and the lucky user owning the winning ticket wins the price.\n",
    "\n",
    "### Galactic Punks\n",
    "I quote from the pylon [protocol page](https://gateway.pylon.money/nft/galactic-punks): *\"Galactic Punks are 10,921 randomly generated NFTs on the Terra blockchain. Attributes metadata will be revealed alongside rarity rankings.\"*\n",
    "\n",
    "\n",
    "### Objective\n",
    "In this notebook we will explore the Terra blockchain data to obtain insights in the participation in the Lottery. In specific, we will try to answer the two following questions:\n",
    "* How much UST has been deposited into the lottery since it’s inception?\n",
    "* What has been the average UST deposit amount?\n",
    "\n",
    "### Data\n",
    "The data has been kindly provided by [Flipside](https://app.flipsidecrypto.com/velocity) and the query used to retrieve the relevant data can be found [here](https://app.flipsidecrypto.com/velocity/queries/5027ee2e-4de7-41dd-8686-072046b3ce8b)."
   ]
  },
  {
   "cell_type": "markdown",
   "metadata": {},
   "source": [
    "## Analysis"
   ]
  },
  {
   "cell_type": "markdown",
   "metadata": {},
   "source": [
    "**Imports**"
   ]
  },
  {
   "cell_type": "code",
   "execution_count": 202,
   "metadata": {},
   "outputs": [],
   "source": [
    "import pandas as pd\n",
    "import seaborn as sns\n",
    "import matplotlib\n",
    "import matplotlib.pyplot as plt\n",
    "matplotlib.rcParams['figure.figsize'] = (15.0, 5.0)\n",
    "pd.set_option('display.max_columns', 120)\n",
    "pd.options.display.max_colwidth = 10000"
   ]
  },
  {
   "cell_type": "code",
   "execution_count": 203,
   "metadata": {},
   "outputs": [],
   "source": [
    "pylon_gp_df = pd.read_json('https://api.flipsidecrypto.com/api/v2/queries/5027ee2e-4de7-41dd-8686-072046b3ce8b/data/latest')"
   ]
  },
  {
   "cell_type": "code",
   "execution_count": 204,
   "metadata": {},
   "outputs": [
    {
     "data": {
      "text/html": [
       "<div>\n",
       "<style scoped>\n",
       "    .dataframe tbody tr th:only-of-type {\n",
       "        vertical-align: middle;\n",
       "    }\n",
       "\n",
       "    .dataframe tbody tr th {\n",
       "        vertical-align: top;\n",
       "    }\n",
       "\n",
       "    .dataframe thead th {\n",
       "        text-align: right;\n",
       "    }\n",
       "</style>\n",
       "<table border=\"1\" class=\"dataframe\">\n",
       "  <thead>\n",
       "    <tr style=\"text-align: right;\">\n",
       "      <th></th>\n",
       "      <th>BLOCK_TIMESTAMP</th>\n",
       "      <th>MSG_VALUE:COINS</th>\n",
       "      <th>MSG_VALUE:CONTRACT</th>\n",
       "      <th>MSG_VALUE:EXECUTE_MSG</th>\n",
       "      <th>MSG_VALUE:EXECUTE_MSG:SEND:AMOUNT</th>\n",
       "      <th>MSG_VALUE:EXECUTE_MSG:SEND:DENOM</th>\n",
       "      <th>MSG_VALUE:SENDER</th>\n",
       "      <th>TX_ID</th>\n",
       "      <th>TYPE_OP</th>\n",
       "    </tr>\n",
       "  </thead>\n",
       "  <tbody>\n",
       "    <tr>\n",
       "      <th>0</th>\n",
       "      <td>2021-11-06T12:04:10Z</td>\n",
       "      <td>[]</td>\n",
       "      <td>\"terra126zhrrpkckjs82elgutz5qmqa4zjndfwk5dr2t\"</td>\n",
       "      <td>{\\n  \"send\": {\\n    \"amount\": \"600013160\",\\n    \"contract\": \"terra10jrv8wy6s06mku9t6yawt2yr09wjlqsw0qk0vf\",\\n    \"msg\": \"eyJkZXBvc2l0Ijp7fX0=\"\\n  }\\n}</td>\n",
       "      <td>\"600013160\"</td>\n",
       "      <td>NaN</td>\n",
       "      <td>\"terra16mvrn4at74pcv5sn5k3znhlp8d03cpplqgh5uh\"</td>\n",
       "      <td>3D0EFEEACDF74EB52557D7B33C6E41C21886C33DF3C6508D9F397F300A4DCF62</td>\n",
       "      <td>DEPOSIT</td>\n",
       "    </tr>\n",
       "    <tr>\n",
       "      <th>1</th>\n",
       "      <td>2021-11-06T22:17:19Z</td>\n",
       "      <td>[]</td>\n",
       "      <td>\"terra126zhrrpkckjs82elgutz5qmqa4zjndfwk5dr2t\"</td>\n",
       "      <td>{\\n  \"send\": {\\n    \"amount\": \"274006177\",\\n    \"contract\": \"terra10jrv8wy6s06mku9t6yawt2yr09wjlqsw0qk0vf\",\\n    \"msg\": \"eyJkZXBvc2l0Ijp7fX0=\"\\n  }\\n}</td>\n",
       "      <td>\"274006177\"</td>\n",
       "      <td>NaN</td>\n",
       "      <td>\"terra1kne4ul6n405w769k2p6swx7x4ep30rv24099r8\"</td>\n",
       "      <td>57C8DC3E7B31AC96DD24B761DFE139AC4CD77AEF9B8678E6FD2FD56CF0F34F93</td>\n",
       "      <td>DEPOSIT</td>\n",
       "    </tr>\n",
       "  </tbody>\n",
       "</table>\n",
       "</div>"
      ],
      "text/plain": [
       "        BLOCK_TIMESTAMP MSG_VALUE:COINS  \\\n",
       "0  2021-11-06T12:04:10Z              []   \n",
       "1  2021-11-06T22:17:19Z              []   \n",
       "\n",
       "                               MSG_VALUE:CONTRACT  \\\n",
       "0  \"terra126zhrrpkckjs82elgutz5qmqa4zjndfwk5dr2t\"   \n",
       "1  \"terra126zhrrpkckjs82elgutz5qmqa4zjndfwk5dr2t\"   \n",
       "\n",
       "                                                                                                                                    MSG_VALUE:EXECUTE_MSG  \\\n",
       "0  {\\n  \"send\": {\\n    \"amount\": \"600013160\",\\n    \"contract\": \"terra10jrv8wy6s06mku9t6yawt2yr09wjlqsw0qk0vf\",\\n    \"msg\": \"eyJkZXBvc2l0Ijp7fX0=\"\\n  }\\n}   \n",
       "1  {\\n  \"send\": {\\n    \"amount\": \"274006177\",\\n    \"contract\": \"terra10jrv8wy6s06mku9t6yawt2yr09wjlqsw0qk0vf\",\\n    \"msg\": \"eyJkZXBvc2l0Ijp7fX0=\"\\n  }\\n}   \n",
       "\n",
       "  MSG_VALUE:EXECUTE_MSG:SEND:AMOUNT  MSG_VALUE:EXECUTE_MSG:SEND:DENOM  \\\n",
       "0                       \"600013160\"                               NaN   \n",
       "1                       \"274006177\"                               NaN   \n",
       "\n",
       "                                 MSG_VALUE:SENDER  \\\n",
       "0  \"terra16mvrn4at74pcv5sn5k3znhlp8d03cpplqgh5uh\"   \n",
       "1  \"terra1kne4ul6n405w769k2p6swx7x4ep30rv24099r8\"   \n",
       "\n",
       "                                                              TX_ID  TYPE_OP  \n",
       "0  3D0EFEEACDF74EB52557D7B33C6E41C21886C33DF3C6508D9F397F300A4DCF62  DEPOSIT  \n",
       "1  57C8DC3E7B31AC96DD24B761DFE139AC4CD77AEF9B8678E6FD2FD56CF0F34F93  DEPOSIT  "
      ]
     },
     "execution_count": 204,
     "metadata": {},
     "output_type": "execute_result"
    }
   ],
   "source": [
    "pylon_gp_df.head(2)"
   ]
  },
  {
   "cell_type": "markdown",
   "metadata": {},
   "source": [
    "**Data cleaning and preparation**"
   ]
  },
  {
   "cell_type": "code",
   "execution_count": 205,
   "metadata": {},
   "outputs": [],
   "source": [
    "pylon_gp_df.columns = [\"block_timestamp\",\"coins\",\"contract\",\"execute_msg\",\"send_amount\",\"send_denom\",\"sender\",\"tx_id\",\"type_op\"]\n",
    "pylon_gp_df=pylon_gp_df.drop(\"coins\", axis=1)\n",
    "pylon_gp_df.send_amount=pylon_gp_df.send_amount.apply(lambda x: x.replace(\"\\\"\",\"\")).fillna(0).astype('float64')\n",
    "pylon_gp_df.sender=pylon_gp_df.sender.apply(lambda x: x.replace(\"\\\"\",\"\"))\n",
    "pylon_gp_df.contract=pylon_gp_df.contract.apply(lambda x: x.replace(\"\\\"\",\"\"))\n",
    "pylon_gp_df.block_timestamp = pd.to_datetime(pylon_gp_df.block_timestamp)\n",
    "pylon_gp_df[\"month_day\"] = pylon_gp_df.block_timestamp.apply(lambda t: f\"{t.month}-{t.day}\")\n",
    "pylon_gp_df = pylon_gp_df.sort_values(by='block_timestamp')"
   ]
  },
  {
   "cell_type": "code",
   "execution_count": 206,
   "metadata": {},
   "outputs": [
    {
     "data": {
      "text/html": [
       "<div>\n",
       "<style scoped>\n",
       "    .dataframe tbody tr th:only-of-type {\n",
       "        vertical-align: middle;\n",
       "    }\n",
       "\n",
       "    .dataframe tbody tr th {\n",
       "        vertical-align: top;\n",
       "    }\n",
       "\n",
       "    .dataframe thead th {\n",
       "        text-align: right;\n",
       "    }\n",
       "</style>\n",
       "<table border=\"1\" class=\"dataframe\">\n",
       "  <thead>\n",
       "    <tr style=\"text-align: right;\">\n",
       "      <th></th>\n",
       "      <th>block_timestamp</th>\n",
       "      <th>contract</th>\n",
       "      <th>execute_msg</th>\n",
       "      <th>send_amount</th>\n",
       "      <th>send_denom</th>\n",
       "      <th>sender</th>\n",
       "      <th>tx_id</th>\n",
       "      <th>type_op</th>\n",
       "      <th>month_day</th>\n",
       "    </tr>\n",
       "  </thead>\n",
       "  <tbody>\n",
       "    <tr>\n",
       "      <th>1840</th>\n",
       "      <td>2021-10-27 13:00:05+00:00</td>\n",
       "      <td>terra126zhrrpkckjs82elgutz5qmqa4zjndfwk5dr2t</td>\n",
       "      <td>{\\n  \"send\": {\\n    \"amount\": \"99997274\",\\n    \"contract\": \"terra10jrv8wy6s06mku9t6yawt2yr09wjlqsw0qk0vf\",\\n    \"msg\": \"eyJkZXBvc2l0Ijp7fX0=\"\\n  }\\n}</td>\n",
       "      <td>99997274.0</td>\n",
       "      <td>NaN</td>\n",
       "      <td>terra1hzsem376yhguf406dq7qj0a203a6y2527zmkpd</td>\n",
       "      <td>1F4726146EA56E85A89712048235D6146297C3EBFE3D72814E1A68D70554FE54</td>\n",
       "      <td>DEPOSIT</td>\n",
       "      <td>10-27</td>\n",
       "    </tr>\n",
       "    <tr>\n",
       "      <th>1846</th>\n",
       "      <td>2021-10-27 13:00:05+00:00</td>\n",
       "      <td>terra126zhrrpkckjs82elgutz5qmqa4zjndfwk5dr2t</td>\n",
       "      <td>{\\n  \"send\": {\\n    \"amount\": \"9999728\",\\n    \"contract\": \"terra10jrv8wy6s06mku9t6yawt2yr09wjlqsw0qk0vf\",\\n    \"msg\": \"eyJkZXBvc2l0Ijp7fX0=\"\\n  }\\n}</td>\n",
       "      <td>9999728.0</td>\n",
       "      <td>NaN</td>\n",
       "      <td>terra1daktentky0kafchz7pn27ndztdv925xz8hw2dk</td>\n",
       "      <td>EE694C1835CFAD59B558B71A2AA73A352A7BE233A5A8F6F8CCCD0B8DB1141B52</td>\n",
       "      <td>DEPOSIT</td>\n",
       "      <td>10-27</td>\n",
       "    </tr>\n",
       "  </tbody>\n",
       "</table>\n",
       "</div>"
      ],
      "text/plain": [
       "               block_timestamp                                      contract  \\\n",
       "1840 2021-10-27 13:00:05+00:00  terra126zhrrpkckjs82elgutz5qmqa4zjndfwk5dr2t   \n",
       "1846 2021-10-27 13:00:05+00:00  terra126zhrrpkckjs82elgutz5qmqa4zjndfwk5dr2t   \n",
       "\n",
       "                                                                                                                                                execute_msg  \\\n",
       "1840  {\\n  \"send\": {\\n    \"amount\": \"99997274\",\\n    \"contract\": \"terra10jrv8wy6s06mku9t6yawt2yr09wjlqsw0qk0vf\",\\n    \"msg\": \"eyJkZXBvc2l0Ijp7fX0=\"\\n  }\\n}   \n",
       "1846   {\\n  \"send\": {\\n    \"amount\": \"9999728\",\\n    \"contract\": \"terra10jrv8wy6s06mku9t6yawt2yr09wjlqsw0qk0vf\",\\n    \"msg\": \"eyJkZXBvc2l0Ijp7fX0=\"\\n  }\\n}   \n",
       "\n",
       "      send_amount  send_denom                                        sender  \\\n",
       "1840   99997274.0         NaN  terra1hzsem376yhguf406dq7qj0a203a6y2527zmkpd   \n",
       "1846    9999728.0         NaN  terra1daktentky0kafchz7pn27ndztdv925xz8hw2dk   \n",
       "\n",
       "                                                                 tx_id  \\\n",
       "1840  1F4726146EA56E85A89712048235D6146297C3EBFE3D72814E1A68D70554FE54   \n",
       "1846  EE694C1835CFAD59B558B71A2AA73A352A7BE233A5A8F6F8CCCD0B8DB1141B52   \n",
       "\n",
       "      type_op month_day  \n",
       "1840  DEPOSIT     10-27  \n",
       "1846  DEPOSIT     10-27  "
      ]
     },
     "execution_count": 206,
     "metadata": {},
     "output_type": "execute_result"
    }
   ],
   "source": [
    "pylon_gp_df.head(2)"
   ]
  },
  {
   "cell_type": "markdown",
   "metadata": {},
   "source": [
    "### Question 1: How much UST has been deposited into the lottery since it’s inception?\n",
    "\n",
    "When interacting with the GP lottery smart contract, there are two operations that can be performed: deposit and withdraw.\n",
    "In order to calculate the total amount of UST deposited since its inception we have to first sum the amounts of UST deposited and the subtract the sum of all the UST withdrawn.\n",
    "\n",
    "We start by calculating the total amount deposited"
   ]
  },
  {
   "cell_type": "code",
   "execution_count": 210,
   "metadata": {},
   "outputs": [
    {
     "data": {
      "text/plain": [
       "9181487.540842"
      ]
     },
     "execution_count": 210,
     "metadata": {},
     "output_type": "execute_result"
    }
   ],
   "source": [
    "total_deposited = pylon_gp_df[pylon_gp_df.type_op == 'DEPOSIT'].send_amount.sum()/1000000\n",
    "total_deposited"
   ]
  },
  {
   "cell_type": "markdown",
   "metadata": {},
   "source": [
    "The total amount deposited since its inception is: 9,181,487.54 UST"
   ]
  },
  {
   "cell_type": "markdown",
   "metadata": {},
   "source": [
    "Now, let's calculate the total withdrawn since its inception:"
   ]
  },
  {
   "cell_type": "code",
   "execution_count": 211,
   "metadata": {},
   "outputs": [
    {
     "data": {
      "text/plain": [
       "5588898.694891"
      ]
     },
     "execution_count": 211,
     "metadata": {},
     "output_type": "execute_result"
    }
   ],
   "source": [
    "total_withdrawn = pylon_gp_df[pylon_gp_df.type_op == 'WITHDRAW'].send_amount.sum()/1000000\n",
    "total_withdrawn"
   ]
  },
  {
   "cell_type": "markdown",
   "metadata": {},
   "source": [
    "The total amount deposited since its inception is: 5,588,898.69 UST.\n",
    "\n",
    "Now we can calculate the net deposit into the lottery pool to date."
   ]
  },
  {
   "cell_type": "code",
   "execution_count": 212,
   "metadata": {},
   "outputs": [
    {
     "data": {
      "text/plain": [
       "3592588.845951"
      ]
     },
     "execution_count": 212,
     "metadata": {},
     "output_type": "execute_result"
    }
   ],
   "source": [
    "total_deposited - total_withdrawn"
   ]
  },
  {
   "cell_type": "markdown",
   "metadata": {},
   "source": [
    "The net deposit into the lottery to date is therefore: 3,592,588.84 UST"
   ]
  },
  {
   "cell_type": "markdown",
   "metadata": {},
   "source": [
    "### Question 2: What has been the average UST deposit amount?"
   ]
  },
  {
   "cell_type": "markdown",
   "metadata": {},
   "source": [
    "As explained earlier, there are two operations possibile. We therefore filter only the deposit operations and calculate the average amount in UST per deposit."
   ]
  },
  {
   "cell_type": "code",
   "execution_count": 216,
   "metadata": {},
   "outputs": [
    {
     "data": {
      "text/plain": [
       "1977.916316424386"
      ]
     },
     "execution_count": 216,
     "metadata": {},
     "output_type": "execute_result"
    }
   ],
   "source": [
    "pylon_gp_df[pylon_gp_df.type_op == 'DEPOSIT'].send_amount.mean()/1000000"
   ]
  },
  {
   "cell_type": "markdown",
   "metadata": {},
   "source": [
    "The average amount is therefore 1977 UST"
   ]
  }
 ],
 "metadata": {
  "kernelspec": {
   "display_name": "Python 3",
   "language": "python",
   "name": "python3"
  },
  "language_info": {
   "codemirror_mode": {
    "name": "ipython",
    "version": 3
   },
   "file_extension": ".py",
   "mimetype": "text/x-python",
   "name": "python",
   "nbconvert_exporter": "python",
   "pygments_lexer": "ipython3",
   "version": "3.8.10"
  }
 },
 "nbformat": 4,
 "nbformat_minor": 4
}
