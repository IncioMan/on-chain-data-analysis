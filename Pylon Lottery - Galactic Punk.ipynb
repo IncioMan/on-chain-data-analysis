{
 "cells": [
  {
   "cell_type": "markdown",
   "metadata": {},
   "source": [
    "# Pylon Lottery - Galactic Punk"
   ]
  },
  {
   "cell_type": "markdown",
   "metadata": {},
   "source": [
    "### Pylon Lottery\n",
    "The pylon lottery is a mechanism implemented in the [Pylon](https://pylon.money/) protocol, in which users can deposit UST in exchange for lottey tickets. \n",
    "\n",
    "Each 10 UST deposited is rewarded with 1 ticket. The longer the UST remain in the pool, the more tickets the user is rewarded. At the end of the lottey period, a winning ticket is extracted from the ones rewarded to users and the lucky user owning the winning ticket wins the price. All the deposited UST are then returned to the depositors.\n",
    "\n",
    "In this analysis we focus on the Pylon lottery which has Galactic Punk NFTs as rewards.\n",
    "\n",
    "### Galactic Punks\n",
    "I quote from the pylon [protocol page](https://gateway.pylon.money/nft/galactic-punks): \"*Galactic Punks are 10,921 randomly generated NFTs on the Terra blockchain. Attributes metadata will be revealed alongside rarity rankings. 10,921 unique characters generated from 7 categories of traits. Around 80 unique traits possible on each punk ranging from common to ultra rare.*\"\n",
    "\n",
    "\n",
    "### Objective\n",
    "In this notebook we will explore the Terra blockchain data to obtain insights in the participation in the Lottery. In specific, we will try to answer the two following questions:\n",
    "* How much UST has been deposited into the lottery since it’s inception?\n",
    "* What has been the average UST deposit amount?\n",
    "\n",
    "### Data\n",
    "The data has been kindly provided by [Flipside](https://app.flipsidecrypto.com/velocity) and the query used to retrieve the relevant data can be found [here](https://app.flipsidecrypto.com/velocity/queries/5027ee2e-4de7-41dd-8686-072046b3ce8b).\n",
    "* **Timeframe** The analysis has been performed on the 7th November 2021, and therefore the latest update of the data used is dated on the that day. However, as we can see in the data itself, the lottery first opened on the 27th of October and therefore the earliest data is dated accordingly.\n",
    "* **Data structure** each line represents one interaction with the GP pylon lottery smart contract. One interaction can either represent one deposit or one withdrawal\n",
    "* **Formatting** The amounts of UST is represented in uUST and we therefore divide the numbers by 1000000 to obtain the value in UST\n",
    "\n",
    "### Query\n",
    "The query used to retrieve the relevant data can be found [here](https://app.flipsidecrypto.com/velocity/queries/5027ee2e-4de7-41dd-8686-072046b3ce8b). Some main points to highlight:\n",
    "* Only the successful transactions have been filtered\n",
    "* Only the transactions interacting with the GP pylon lottery smart contract (**terra126zhrrpkckjs82elgutz5qmqa4zjndfwk5dr2t**) have been filtered\n",
    "* In order to understand which operation has been performed in the transaction (deposit or withdrawal) we have investigated the transactions in the Terra explorer and identified the field **contract** in the execute_mgs has the value (**terra10jrv8wy6s06mku9t6yawt2yr09wjlqsw0qk0vf**) in case of deposits and (**terra1jk0xh49ft2ls4u9dlfqweed8080u6ysumvmtcz**) withdrawals. We labeled the transactions accordingly. "
   ]
  },
  {
   "cell_type": "markdown",
   "metadata": {},
   "source": [
    "## Analysis"
   ]
  },
  {
   "cell_type": "markdown",
   "metadata": {},
   "source": [
    "**Imports**"
   ]
  },
  {
   "cell_type": "code",
   "execution_count": 232,
   "metadata": {},
   "outputs": [],
   "source": [
    "import pandas as pd\n",
    "import seaborn as sns\n",
    "import matplotlib\n",
    "import matplotlib.pyplot as plt\n",
    "matplotlib.rcParams['figure.figsize'] = (15.0, 5.0)\n",
    "pd.set_option('display.max_columns', 120)\n",
    "pd.options.display.max_colwidth = 10000"
   ]
  },
  {
   "cell_type": "code",
   "execution_count": 233,
   "metadata": {},
   "outputs": [],
   "source": [
    "pylon_gp_df = pd.read_json('https://api.flipsidecrypto.com/api/v2/queries/5027ee2e-4de7-41dd-8686-072046b3ce8b/data/latest')"
   ]
  },
  {
   "cell_type": "code",
   "execution_count": 234,
   "metadata": {},
   "outputs": [
    {
     "data": {
      "text/html": [
       "<div>\n",
       "<style scoped>\n",
       "    .dataframe tbody tr th:only-of-type {\n",
       "        vertical-align: middle;\n",
       "    }\n",
       "\n",
       "    .dataframe tbody tr th {\n",
       "        vertical-align: top;\n",
       "    }\n",
       "\n",
       "    .dataframe thead th {\n",
       "        text-align: right;\n",
       "    }\n",
       "</style>\n",
       "<table border=\"1\" class=\"dataframe\">\n",
       "  <thead>\n",
       "    <tr style=\"text-align: right;\">\n",
       "      <th></th>\n",
       "      <th>BLOCK_TIMESTAMP</th>\n",
       "      <th>MSG_VALUE:COINS</th>\n",
       "      <th>MSG_VALUE:CONTRACT</th>\n",
       "      <th>MSG_VALUE:EXECUTE_MSG</th>\n",
       "      <th>MSG_VALUE:EXECUTE_MSG:SEND:AMOUNT</th>\n",
       "      <th>MSG_VALUE:EXECUTE_MSG:SEND:DENOM</th>\n",
       "      <th>MSG_VALUE:SENDER</th>\n",
       "      <th>TX_ID</th>\n",
       "      <th>TYPE_OP</th>\n",
       "    </tr>\n",
       "  </thead>\n",
       "  <tbody>\n",
       "    <tr>\n",
       "      <th>0</th>\n",
       "      <td>2021-11-06T15:22:08Z</td>\n",
       "      <td>[]</td>\n",
       "      <td>\"terra126zhrrpkckjs82elgutz5qmqa4zjndfwk5dr2t\"</td>\n",
       "      <td>{\\n  \"send\": {\\n    \"amount\": \"300006513\",\\n    \"contract\": \"terra1jk0xh49ft2ls4u9dlfqweed8080u6ysumvmtcz\",\\n    \"msg\": \"eyJyZWRlZW0iOnt9fQ==\"\\n  }\\n}</td>\n",
       "      <td>\"300006513\"</td>\n",
       "      <td>NaN</td>\n",
       "      <td>\"terra18rwg4ljlsjdcpjv82luas7pnq6jtjjcu0jqwm5\"</td>\n",
       "      <td>86ABF3421E3685C0A9A37E8F2B164BB95D3CA1FBAF351D2BA57CC383ABE2A81C</td>\n",
       "      <td>WITHDRAW</td>\n",
       "    </tr>\n",
       "    <tr>\n",
       "      <th>1</th>\n",
       "      <td>2021-11-06T10:46:05Z</td>\n",
       "      <td>[]</td>\n",
       "      <td>\"terra126zhrrpkckjs82elgutz5qmqa4zjndfwk5dr2t\"</td>\n",
       "      <td>{\\n  \"send\": {\\n    \"amount\": \"250005091\",\\n    \"contract\": \"terra10jrv8wy6s06mku9t6yawt2yr09wjlqsw0qk0vf\",\\n    \"msg\": \"eyJkZXBvc2l0Ijp7fX0=\"\\n  }\\n}</td>\n",
       "      <td>\"250005091\"</td>\n",
       "      <td>NaN</td>\n",
       "      <td>\"terra16dn5f60uwfqaly6k4geckwr4xswya6ctw2ana6\"</td>\n",
       "      <td>9A5D1E71037E0203120400E697739F8CFD003F9908DF5B8DC2799C7DACB18D4A</td>\n",
       "      <td>DEPOSIT</td>\n",
       "    </tr>\n",
       "  </tbody>\n",
       "</table>\n",
       "</div>"
      ],
      "text/plain": [
       "        BLOCK_TIMESTAMP MSG_VALUE:COINS  \\\n",
       "0  2021-11-06T15:22:08Z              []   \n",
       "1  2021-11-06T10:46:05Z              []   \n",
       "\n",
       "                               MSG_VALUE:CONTRACT  \\\n",
       "0  \"terra126zhrrpkckjs82elgutz5qmqa4zjndfwk5dr2t\"   \n",
       "1  \"terra126zhrrpkckjs82elgutz5qmqa4zjndfwk5dr2t\"   \n",
       "\n",
       "                                                                                                                                    MSG_VALUE:EXECUTE_MSG  \\\n",
       "0  {\\n  \"send\": {\\n    \"amount\": \"300006513\",\\n    \"contract\": \"terra1jk0xh49ft2ls4u9dlfqweed8080u6ysumvmtcz\",\\n    \"msg\": \"eyJyZWRlZW0iOnt9fQ==\"\\n  }\\n}   \n",
       "1  {\\n  \"send\": {\\n    \"amount\": \"250005091\",\\n    \"contract\": \"terra10jrv8wy6s06mku9t6yawt2yr09wjlqsw0qk0vf\",\\n    \"msg\": \"eyJkZXBvc2l0Ijp7fX0=\"\\n  }\\n}   \n",
       "\n",
       "  MSG_VALUE:EXECUTE_MSG:SEND:AMOUNT  MSG_VALUE:EXECUTE_MSG:SEND:DENOM  \\\n",
       "0                       \"300006513\"                               NaN   \n",
       "1                       \"250005091\"                               NaN   \n",
       "\n",
       "                                 MSG_VALUE:SENDER  \\\n",
       "0  \"terra18rwg4ljlsjdcpjv82luas7pnq6jtjjcu0jqwm5\"   \n",
       "1  \"terra16dn5f60uwfqaly6k4geckwr4xswya6ctw2ana6\"   \n",
       "\n",
       "                                                              TX_ID   TYPE_OP  \n",
       "0  86ABF3421E3685C0A9A37E8F2B164BB95D3CA1FBAF351D2BA57CC383ABE2A81C  WITHDRAW  \n",
       "1  9A5D1E71037E0203120400E697739F8CFD003F9908DF5B8DC2799C7DACB18D4A   DEPOSIT  "
      ]
     },
     "execution_count": 234,
     "metadata": {},
     "output_type": "execute_result"
    }
   ],
   "source": [
    "pylon_gp_df.head(2)"
   ]
  },
  {
   "cell_type": "markdown",
   "metadata": {},
   "source": [
    "**Data cleaning and preparation**"
   ]
  },
  {
   "cell_type": "code",
   "execution_count": 235,
   "metadata": {},
   "outputs": [],
   "source": [
    "pylon_gp_df.columns = [\"block_timestamp\",\"coins\",\"contract\",\"execute_msg\",\"send_amount\",\"send_denom\",\"sender\",\"tx_id\",\"type_op\"]\n",
    "pylon_gp_df=pylon_gp_df.drop(\"coins\", axis=1)\n",
    "pylon_gp_df.send_amount=pylon_gp_df.send_amount.apply(lambda x: x.replace(\"\\\"\",\"\")).fillna(0).astype('float64')\n",
    "pylon_gp_df.sender=pylon_gp_df.sender.apply(lambda x: x.replace(\"\\\"\",\"\"))\n",
    "pylon_gp_df.contract=pylon_gp_df.contract.apply(lambda x: x.replace(\"\\\"\",\"\"))\n",
    "pylon_gp_df.block_timestamp = pd.to_datetime(pylon_gp_df.block_timestamp)\n",
    "pylon_gp_df[\"month_day\"] = pylon_gp_df.block_timestamp.apply(lambda t: f\"{t.month}-{t.day}\")\n",
    "pylon_gp_df = pylon_gp_df.sort_values(by='block_timestamp')"
   ]
  },
  {
   "cell_type": "code",
   "execution_count": 236,
   "metadata": {},
   "outputs": [
    {
     "data": {
      "text/html": [
       "<div>\n",
       "<style scoped>\n",
       "    .dataframe tbody tr th:only-of-type {\n",
       "        vertical-align: middle;\n",
       "    }\n",
       "\n",
       "    .dataframe tbody tr th {\n",
       "        vertical-align: top;\n",
       "    }\n",
       "\n",
       "    .dataframe thead th {\n",
       "        text-align: right;\n",
       "    }\n",
       "</style>\n",
       "<table border=\"1\" class=\"dataframe\">\n",
       "  <thead>\n",
       "    <tr style=\"text-align: right;\">\n",
       "      <th></th>\n",
       "      <th>block_timestamp</th>\n",
       "      <th>contract</th>\n",
       "      <th>execute_msg</th>\n",
       "      <th>send_amount</th>\n",
       "      <th>send_denom</th>\n",
       "      <th>sender</th>\n",
       "      <th>tx_id</th>\n",
       "      <th>type_op</th>\n",
       "      <th>month_day</th>\n",
       "    </tr>\n",
       "  </thead>\n",
       "  <tbody>\n",
       "    <tr>\n",
       "      <th>1412</th>\n",
       "      <td>2021-10-27 13:00:05+00:00</td>\n",
       "      <td>terra126zhrrpkckjs82elgutz5qmqa4zjndfwk5dr2t</td>\n",
       "      <td>{\\n  \"send\": {\\n    \"amount\": \"99997274\",\\n    \"contract\": \"terra10jrv8wy6s06mku9t6yawt2yr09wjlqsw0qk0vf\",\\n    \"msg\": \"eyJkZXBvc2l0Ijp7fX0=\"\\n  }\\n}</td>\n",
       "      <td>99997274.0</td>\n",
       "      <td>NaN</td>\n",
       "      <td>terra1hzsem376yhguf406dq7qj0a203a6y2527zmkpd</td>\n",
       "      <td>1F4726146EA56E85A89712048235D6146297C3EBFE3D72814E1A68D70554FE54</td>\n",
       "      <td>DEPOSIT</td>\n",
       "      <td>10-27</td>\n",
       "    </tr>\n",
       "    <tr>\n",
       "      <th>1413</th>\n",
       "      <td>2021-10-27 13:00:05+00:00</td>\n",
       "      <td>terra126zhrrpkckjs82elgutz5qmqa4zjndfwk5dr2t</td>\n",
       "      <td>{\\n  \"send\": {\\n    \"amount\": \"198994576\",\\n    \"contract\": \"terra10jrv8wy6s06mku9t6yawt2yr09wjlqsw0qk0vf\",\\n    \"msg\": \"eyJkZXBvc2l0Ijp7fX0=\"\\n  }\\n}</td>\n",
       "      <td>198994576.0</td>\n",
       "      <td>NaN</td>\n",
       "      <td>terra1h59hphet9gvdarr58twppla0qcln5g26w9dkyh</td>\n",
       "      <td>28066F8BC0052589E5663003AA44DC44A3A8DF8181369B4B4EB38274E2B802F5</td>\n",
       "      <td>DEPOSIT</td>\n",
       "      <td>10-27</td>\n",
       "    </tr>\n",
       "  </tbody>\n",
       "</table>\n",
       "</div>"
      ],
      "text/plain": [
       "               block_timestamp                                      contract  \\\n",
       "1412 2021-10-27 13:00:05+00:00  terra126zhrrpkckjs82elgutz5qmqa4zjndfwk5dr2t   \n",
       "1413 2021-10-27 13:00:05+00:00  terra126zhrrpkckjs82elgutz5qmqa4zjndfwk5dr2t   \n",
       "\n",
       "                                                                                                                                                 execute_msg  \\\n",
       "1412   {\\n  \"send\": {\\n    \"amount\": \"99997274\",\\n    \"contract\": \"terra10jrv8wy6s06mku9t6yawt2yr09wjlqsw0qk0vf\",\\n    \"msg\": \"eyJkZXBvc2l0Ijp7fX0=\"\\n  }\\n}   \n",
       "1413  {\\n  \"send\": {\\n    \"amount\": \"198994576\",\\n    \"contract\": \"terra10jrv8wy6s06mku9t6yawt2yr09wjlqsw0qk0vf\",\\n    \"msg\": \"eyJkZXBvc2l0Ijp7fX0=\"\\n  }\\n}   \n",
       "\n",
       "      send_amount  send_denom                                        sender  \\\n",
       "1412   99997274.0         NaN  terra1hzsem376yhguf406dq7qj0a203a6y2527zmkpd   \n",
       "1413  198994576.0         NaN  terra1h59hphet9gvdarr58twppla0qcln5g26w9dkyh   \n",
       "\n",
       "                                                                 tx_id  \\\n",
       "1412  1F4726146EA56E85A89712048235D6146297C3EBFE3D72814E1A68D70554FE54   \n",
       "1413  28066F8BC0052589E5663003AA44DC44A3A8DF8181369B4B4EB38274E2B802F5   \n",
       "\n",
       "      type_op month_day  \n",
       "1412  DEPOSIT     10-27  \n",
       "1413  DEPOSIT     10-27  "
      ]
     },
     "execution_count": 236,
     "metadata": {},
     "output_type": "execute_result"
    }
   ],
   "source": [
    "pylon_gp_df.head(2)"
   ]
  },
  {
   "cell_type": "markdown",
   "metadata": {},
   "source": [
    "### Question 1: How much UST has been deposited into the lottery since it’s inception?\n",
    "\n",
    "When interacting with the GP lottery smart contract, there are two operations that can be performed: deposit and withdraw.\n",
    "In order to calculate the total amount of UST deposited since its inception we have to first sum the amounts of UST deposited and the subtract the sum of all the UST withdrawn.\n",
    "\n",
    "We start by calculating the total amount deposited"
   ]
  },
  {
   "cell_type": "code",
   "execution_count": 237,
   "metadata": {},
   "outputs": [
    {
     "data": {
      "text/plain": [
       "9182037.559353"
      ]
     },
     "execution_count": 237,
     "metadata": {},
     "output_type": "execute_result"
    }
   ],
   "source": [
    "total_deposited = pylon_gp_df[pylon_gp_df.type_op == 'DEPOSIT'].send_amount.sum()/1000000\n",
    "total_deposited"
   ]
  },
  {
   "cell_type": "markdown",
   "metadata": {},
   "source": [
    "The total amount deposited since its inception is: 9182037 UST"
   ]
  },
  {
   "cell_type": "markdown",
   "metadata": {},
   "source": [
    "Now, let's calculate the total withdrawn since its inception:"
   ]
  },
  {
   "cell_type": "code",
   "execution_count": 238,
   "metadata": {},
   "outputs": [
    {
     "data": {
      "text/plain": [
       "5773096.696159"
      ]
     },
     "execution_count": 238,
     "metadata": {},
     "output_type": "execute_result"
    }
   ],
   "source": [
    "total_withdrawn = pylon_gp_df[pylon_gp_df.type_op == 'WITHDRAW'].send_amount.sum()/1000000\n",
    "total_withdrawn"
   ]
  },
  {
   "cell_type": "markdown",
   "metadata": {},
   "source": [
    "The total amount deposited since its inception is: 5773096 UST.\n",
    "\n",
    "Now we can calculate the net deposit into the lottery pool to date."
   ]
  },
  {
   "cell_type": "code",
   "execution_count": 230,
   "metadata": {},
   "outputs": [
    {
     "data": {
      "text/plain": [
       "3408940.863194"
      ]
     },
     "execution_count": 230,
     "metadata": {},
     "output_type": "execute_result"
    }
   ],
   "source": [
    "total_deposited - total_withdrawn"
   ]
  },
  {
   "cell_type": "markdown",
   "metadata": {},
   "source": [
    "The net deposit into the lottery to date is therefore: 3408940 UST"
   ]
  },
  {
   "cell_type": "markdown",
   "metadata": {},
   "source": [
    "### Question 2: What has been the average UST deposit amount?"
   ]
  },
  {
   "cell_type": "markdown",
   "metadata": {},
   "source": [
    "As explained earlier, there are two operations possibile. We therefore filter only the deposit operations and calculate the average amount in UST per deposit."
   ]
  },
  {
   "cell_type": "code",
   "execution_count": 231,
   "metadata": {},
   "outputs": [
    {
     "data": {
      "text/plain": [
       "1976.757278655113"
      ]
     },
     "execution_count": 231,
     "metadata": {},
     "output_type": "execute_result"
    }
   ],
   "source": [
    "pylon_gp_df[pylon_gp_df.type_op == 'DEPOSIT'].send_amount.mean()/1000000"
   ]
  },
  {
   "cell_type": "markdown",
   "metadata": {},
   "source": [
    "The average amount is therefore 1976 UST"
   ]
  }
 ],
 "metadata": {
  "kernelspec": {
   "display_name": "Python 3",
   "language": "python",
   "name": "python3"
  },
  "language_info": {
   "codemirror_mode": {
    "name": "ipython",
    "version": 3
   },
   "file_extension": ".py",
   "mimetype": "text/x-python",
   "name": "python",
   "nbconvert_exporter": "python",
   "pygments_lexer": "ipython3",
   "version": "3.8.10"
  }
 },
 "nbformat": 4,
 "nbformat_minor": 4
}
