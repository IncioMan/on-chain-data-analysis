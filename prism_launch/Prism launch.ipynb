{
 "cells": [
  {
   "cell_type": "code",
   "execution_count": 13,
   "metadata": {},
   "outputs": [
    {
     "data": {
      "text/plain": [
       "RendererRegistry.enable('default')"
      ]
     },
     "execution_count": 13,
     "metadata": {},
     "output_type": "execute_result"
    }
   ],
   "source": [
    "import pandas as pd\n",
    "import altair as alt\n",
    "alt.renderers.set_embed_options(theme='dark')\n"
   ]
  },
  {
   "cell_type": "code",
   "execution_count": 87,
   "metadata": {},
   "outputs": [],
   "source": [
    "def claim(claim_hash):\n",
    "    # load claims into df\n",
    "    df_claim = pd.read_json(\n",
    "        f\"https://api.flipsidecrypto.com/api/v2/queries/{claim_hash}/data/latest\",\n",
    "        convert_dates=[\"BLOCK_TIMESTAMP\"],\n",
    "    )\n",
    "    \n",
    "    if(len(df_claim.columns)==0):\n",
    "        return pd.DataFrame(columns = cols_claim[claim_hash])\n",
    "\n",
    "    return df_claim"
   ]
  },
  {
   "cell_type": "code",
   "execution_count": 184,
   "metadata": {},
   "outputs": [
    {
     "data": {
      "text/html": [
       "<div>\n",
       "<style scoped>\n",
       "    .dataframe tbody tr th:only-of-type {\n",
       "        vertical-align: middle;\n",
       "    }\n",
       "\n",
       "    .dataframe tbody tr th {\n",
       "        vertical-align: top;\n",
       "    }\n",
       "\n",
       "    .dataframe thead th {\n",
       "        text-align: right;\n",
       "    }\n",
       "</style>\n",
       "<table border=\"1\" class=\"dataframe\">\n",
       "  <thead>\n",
       "    <tr style=\"text-align: right;\">\n",
       "      <th></th>\n",
       "      <th>N° of deposit txs</th>\n",
       "      <th>N° of users</th>\n",
       "    </tr>\n",
       "  </thead>\n",
       "  <tbody>\n",
       "    <tr>\n",
       "      <th>0</th>\n",
       "      <td>1</td>\n",
       "      <td>5147</td>\n",
       "    </tr>\n",
       "    <tr>\n",
       "      <th>1</th>\n",
       "      <td>2</td>\n",
       "      <td>577</td>\n",
       "    </tr>\n",
       "    <tr>\n",
       "      <th>2</th>\n",
       "      <td>3</td>\n",
       "      <td>142</td>\n",
       "    </tr>\n",
       "    <tr>\n",
       "      <th>3</th>\n",
       "      <td>4</td>\n",
       "      <td>22</td>\n",
       "    </tr>\n",
       "    <tr>\n",
       "      <th>4</th>\n",
       "      <td>5</td>\n",
       "      <td>7</td>\n",
       "    </tr>\n",
       "    <tr>\n",
       "      <th>5</th>\n",
       "      <td>6</td>\n",
       "      <td>4</td>\n",
       "    </tr>\n",
       "    <tr>\n",
       "      <th>6</th>\n",
       "      <td>7</td>\n",
       "      <td>1</td>\n",
       "    </tr>\n",
       "    <tr>\n",
       "      <th>7</th>\n",
       "      <td>8</td>\n",
       "      <td>1</td>\n",
       "    </tr>\n",
       "    <tr>\n",
       "      <th>8</th>\n",
       "      <td>17</td>\n",
       "      <td>1</td>\n",
       "    </tr>\n",
       "    <tr>\n",
       "      <th>9</th>\n",
       "      <td>18</td>\n",
       "      <td>1</td>\n",
       "    </tr>\n",
       "  </tbody>\n",
       "</table>\n",
       "</div>"
      ],
      "text/plain": [
       "   N° of deposit txs  N° of users\n",
       "0                  1         5147\n",
       "1                  2          577\n",
       "2                  3          142\n",
       "3                  4           22\n",
       "4                  5            7\n",
       "5                  6            4\n",
       "6                  7            1\n",
       "7                  8            1\n",
       "8                 17            1\n",
       "9                 18            1"
      ]
     },
     "execution_count": 184,
     "metadata": {},
     "output_type": "execute_result"
    }
   ],
   "source": [
    "df = user_stats_df.rename(columns=cols_dict)[cols_dict['DEPOSIT_TXS']]\\\n",
    "    .value_counts().sort_index().reset_index().rename(columns={'index':cols_dict['DEPOSIT_TXS'],cols_dict['DEPOSIT_TXS']:'N° of users'})\n",
    "df"
   ]
  },
  {
   "cell_type": "code",
   "execution_count": 199,
   "metadata": {},
   "outputs": [
    {
     "data": {
      "text/html": [
       "\n",
       "<div id=\"altair-viz-a1db2de5f2c44ee18987f5cc32cc0cb9\"></div>\n",
       "<script type=\"text/javascript\">\n",
       "  var VEGA_DEBUG = (typeof VEGA_DEBUG == \"undefined\") ? {} : VEGA_DEBUG;\n",
       "  (function(spec, embedOpt){\n",
       "    let outputDiv = document.currentScript.previousElementSibling;\n",
       "    if (outputDiv.id !== \"altair-viz-a1db2de5f2c44ee18987f5cc32cc0cb9\") {\n",
       "      outputDiv = document.getElementById(\"altair-viz-a1db2de5f2c44ee18987f5cc32cc0cb9\");\n",
       "    }\n",
       "    const paths = {\n",
       "      \"vega\": \"https://cdn.jsdelivr.net/npm//vega@5?noext\",\n",
       "      \"vega-lib\": \"https://cdn.jsdelivr.net/npm//vega-lib?noext\",\n",
       "      \"vega-lite\": \"https://cdn.jsdelivr.net/npm//vega-lite@4.17.0?noext\",\n",
       "      \"vega-embed\": \"https://cdn.jsdelivr.net/npm//vega-embed@6?noext\",\n",
       "    };\n",
       "\n",
       "    function maybeLoadScript(lib, version) {\n",
       "      var key = `${lib.replace(\"-\", \"\")}_version`;\n",
       "      return (VEGA_DEBUG[key] == version) ?\n",
       "        Promise.resolve(paths[lib]) :\n",
       "        new Promise(function(resolve, reject) {\n",
       "          var s = document.createElement('script');\n",
       "          document.getElementsByTagName(\"head\")[0].appendChild(s);\n",
       "          s.async = true;\n",
       "          s.onload = () => {\n",
       "            VEGA_DEBUG[key] = version;\n",
       "            return resolve(paths[lib]);\n",
       "          };\n",
       "          s.onerror = () => reject(`Error loading script: ${paths[lib]}`);\n",
       "          s.src = paths[lib];\n",
       "        });\n",
       "    }\n",
       "\n",
       "    function showError(err) {\n",
       "      outputDiv.innerHTML = `<div class=\"error\" style=\"color:red;\">${err}</div>`;\n",
       "      throw err;\n",
       "    }\n",
       "\n",
       "    function displayChart(vegaEmbed) {\n",
       "      vegaEmbed(outputDiv, spec, embedOpt)\n",
       "        .catch(err => showError(`Javascript Error: ${err.message}<br>This usually means there's a typo in your chart specification. See the javascript console for the full traceback.`));\n",
       "    }\n",
       "\n",
       "    if(typeof define === \"function\" && define.amd) {\n",
       "      requirejs.config({paths});\n",
       "      require([\"vega-embed\"], displayChart, err => showError(`Error loading script: ${err.message}`));\n",
       "    } else {\n",
       "      maybeLoadScript(\"vega\", \"5\")\n",
       "        .then(() => maybeLoadScript(\"vega-lite\", \"4.17.0\"))\n",
       "        .then(() => maybeLoadScript(\"vega-embed\", \"6\"))\n",
       "        .catch(showError)\n",
       "        .then(() => displayChart(vegaEmbed));\n",
       "    }\n",
       "  })({\"config\": {\"view\": {\"continuousWidth\": 400, \"continuousHeight\": 300, \"strokeOpacity\": 0}}, \"data\": {\"name\": \"data-7895a93bab98754ebca3b1ec9c876e62\"}, \"mark\": {\"type\": \"line\", \"point\": true}, \"encoding\": {\"tooltip\": [{\"field\": \"N\\u00b0 of users\", \"type\": \"ordinal\"}, {\"field\": \"N\\u00b0 of deposit txs\", \"type\": \"quantitative\"}], \"x\": {\"field\": \"N\\u00b0 of deposit txs\", \"type\": \"ordinal\"}, \"y\": {\"field\": \"N\\u00b0 of users\", \"sort\": \"descending\", \"type\": \"ordinal\"}}, \"$schema\": \"https://vega.github.io/schema/vega-lite/v4.17.0.json\", \"datasets\": {\"data-7895a93bab98754ebca3b1ec9c876e62\": [{\"N\\u00b0 of deposit txs\": 1, \"N\\u00b0 of users\": 5147}, {\"N\\u00b0 of deposit txs\": 2, \"N\\u00b0 of users\": 577}, {\"N\\u00b0 of deposit txs\": 3, \"N\\u00b0 of users\": 142}, {\"N\\u00b0 of deposit txs\": 4, \"N\\u00b0 of users\": 22}, {\"N\\u00b0 of deposit txs\": 5, \"N\\u00b0 of users\": 7}, {\"N\\u00b0 of deposit txs\": 6, \"N\\u00b0 of users\": 4}, {\"N\\u00b0 of deposit txs\": 7, \"N\\u00b0 of users\": 1}, {\"N\\u00b0 of deposit txs\": 8, \"N\\u00b0 of users\": 1}, {\"N\\u00b0 of deposit txs\": 17, \"N\\u00b0 of users\": 1}, {\"N\\u00b0 of deposit txs\": 18, \"N\\u00b0 of users\": 1}]}}, {\"theme\": \"dark\", \"mode\": \"vega-lite\"});\n",
       "</script>"
      ],
      "text/plain": [
       "alt.Chart(...)"
      ]
     },
     "execution_count": 199,
     "metadata": {},
     "output_type": "execute_result"
    }
   ],
   "source": [
    "alt.Chart(df).mark_line(point = True).encode(\n",
    "    y=alt.Y('N° of users:O', sort=\"descending\"),\n",
    "    x=cols_dict['DEPOSIT_TXS']+\":O\",\n",
    "    tooltip=['N° of users:O',cols_dict['DEPOSIT_TXS']+\":Q\"]\n",
    ").configure_view(strokeOpacity=0)"
   ]
  },
  {
   "cell_type": "code",
   "execution_count": 96,
   "metadata": {},
   "outputs": [],
   "source": [
    "cols_claim = {\n",
    "    user_stats : ['DEPOSIT_AMOUNT', 'DEPOSIT_TXS', 'SENDER', 'WITHDRAWN_AMOUNT',\n",
    "       'WITHDRAW_TXS'],\n",
    "    deposits_bucket : ['BUCKET', 'N_USERS'],\n",
    "    prev_launches : ['PARTICIPANTS', 'PARTICIPATE_TYPE', 'TYPE'],\n",
    "    hourly_stats : ['DEPOSIT_AMOUNT', 'DEPOSIT_TX', 'DEP_USERS', 'HR', 'NET_AMOUNT',\n",
    "       'TOT_TXS', 'TOT_USERS', 'WITH_AMOUNT', 'WITH_TX', 'WITH_USERS'],\n",
    "    wallet_age : ['ADDRESS_COUNT', 'MIN_DATE']\n",
    "}"
   ]
  },
  {
   "cell_type": "code",
   "execution_count": 94,
   "metadata": {},
   "outputs": [
    {
     "data": {
      "text/plain": [
       "Index(['ADDRESS_COUNT', 'MIN_DATE'], dtype='object')"
      ]
     },
     "execution_count": 94,
     "metadata": {},
     "output_type": "execute_result"
    }
   ],
   "source": [
    "wallet_age_df.columns"
   ]
  },
  {
   "cell_type": "code",
   "execution_count": 170,
   "metadata": {},
   "outputs": [],
   "source": [
    "cols_dict = {\n",
    "    \"DEPOSIT_AMOUNT\":\"Amount deposited\",\n",
    "    \"DEPOSIT_TXS\":\"N° of deposit txs\",\n",
    "    \"DEP_USERS\":\"N° of depositing users\",\n",
    "    \"HR\":\"Time\",\n",
    "    \"NET_AMOUNT\":\"Net amount deposited\",\n",
    "    \"TOT_TXS\":\"N° of txs\",\n",
    "    \"TOT_USERS\":\"N° of users\",\n",
    "    \"WITH_AMOUNT\":\"Withdrawn amount\",\n",
    "    \"WITH_TXS\":\"N° of withdraw txs\",\n",
    "    \"WITH_USERS\":\"N° of withdrawing users\",\n",
    "    'AMOUNT':'Amount deposited (UST)',\n",
    "    'AVG_BALANCE_USD':'Average balance in the last 30 days (UST)',\n",
    "    'N_TXS':'N° of txs',\n",
    "    'SENDER':'User address',\n",
    "    'N_USERS':'N° of users',\n",
    "    'BUCKET':'Deposit range',\n",
    "    'bucket_name':'Deposit bucket',\n",
    "    'cumsum_ust':'Cumulative UST amount',\n",
    "    'MIN_DATE':'Date wallet creation',\n",
    "    'ADDRESS_COUNT':'Number of wallets'\n",
    "}"
   ]
  },
  {
   "cell_type": "code",
   "execution_count": 149,
   "metadata": {},
   "outputs": [],
   "source": [
    "user_stats = '499224b4-30a6-43d7-80b9-3a019cbb1d3d'\n",
    "deposits_bucket = 'b4953cda-a874-43fa-b78d-ceb0c1bfc3cf'\n",
    "deposits_bucket_df = claim(deposits_bucket)\n",
    "user_stats_df = claim(user_stats)\n",
    "deposits_bucket_df = claim(deposits_bucket)"
   ]
  },
  {
   "cell_type": "code",
   "execution_count": 177,
   "metadata": {},
   "outputs": [
    {
     "data": {
      "text/plain": [
       "Index(['NEW_USERS', 'TIME'], dtype='object')"
      ]
     },
     "execution_count": 177,
     "metadata": {},
     "output_type": "execute_result"
    }
   ],
   "source": [
    "claim('65179a1e-fd70-43eb-a9e4-ce14b716c928').columns"
   ]
  },
  {
   "cell_type": "code",
   "execution_count": 150,
   "metadata": {},
   "outputs": [
    {
     "data": {
      "text/html": [
       "<div>\n",
       "<style scoped>\n",
       "    .dataframe tbody tr th:only-of-type {\n",
       "        vertical-align: middle;\n",
       "    }\n",
       "\n",
       "    .dataframe tbody tr th {\n",
       "        vertical-align: top;\n",
       "    }\n",
       "\n",
       "    .dataframe thead th {\n",
       "        text-align: right;\n",
       "    }\n",
       "</style>\n",
       "<table border=\"1\" class=\"dataframe\">\n",
       "  <thead>\n",
       "    <tr style=\"text-align: right;\">\n",
       "      <th></th>\n",
       "      <th>BUCKET</th>\n",
       "      <th>N_USERS</th>\n",
       "    </tr>\n",
       "  </thead>\n",
       "  <tbody>\n",
       "    <tr>\n",
       "      <th>0</th>\n",
       "      <td>1</td>\n",
       "      <td>733</td>\n",
       "    </tr>\n",
       "    <tr>\n",
       "      <th>1</th>\n",
       "      <td>7</td>\n",
       "      <td>2</td>\n",
       "    </tr>\n",
       "    <tr>\n",
       "      <th>2</th>\n",
       "      <td>5</td>\n",
       "      <td>158</td>\n",
       "    </tr>\n",
       "    <tr>\n",
       "      <th>3</th>\n",
       "      <td>4</td>\n",
       "      <td>995</td>\n",
       "    </tr>\n",
       "    <tr>\n",
       "      <th>4</th>\n",
       "      <td>2</td>\n",
       "      <td>1733</td>\n",
       "    </tr>\n",
       "    <tr>\n",
       "      <th>5</th>\n",
       "      <td>3</td>\n",
       "      <td>2239</td>\n",
       "    </tr>\n",
       "    <tr>\n",
       "      <th>6</th>\n",
       "      <td>0</td>\n",
       "      <td>32</td>\n",
       "    </tr>\n",
       "    <tr>\n",
       "      <th>7</th>\n",
       "      <td>6</td>\n",
       "      <td>11</td>\n",
       "    </tr>\n",
       "  </tbody>\n",
       "</table>\n",
       "</div>"
      ],
      "text/plain": [
       "   BUCKET  N_USERS\n",
       "0       1      733\n",
       "1       7        2\n",
       "2       5      158\n",
       "3       4      995\n",
       "4       2     1733\n",
       "5       3     2239\n",
       "6       0       32\n",
       "7       6       11"
      ]
     },
     "execution_count": 150,
     "metadata": {},
     "output_type": "execute_result"
    }
   ],
   "source": [
    "deposits_bucket_df"
   ]
  },
  {
   "cell_type": "code",
   "execution_count": 151,
   "metadata": {},
   "outputs": [
    {
     "ename": "KeyError",
     "evalue": "'a7e8d448-9e50-45a7-97ea-a208e99e9276'",
     "output_type": "error",
     "traceback": [
      "\u001b[0;31m---------------------------------------------------------------------------\u001b[0m",
      "\u001b[0;31mKeyError\u001b[0m                                  Traceback (most recent call last)",
      "\u001b[0;32m<ipython-input-151-7d58a88c55be>\u001b[0m in \u001b[0;36m<module>\u001b[0;34m\u001b[0m\n\u001b[1;32m      1\u001b[0m \u001b[0mtest_empty\u001b[0m \u001b[0;34m=\u001b[0m \u001b[0;34m'a7e8d448-9e50-45a7-97ea-a208e99e9276'\u001b[0m\u001b[0;34m\u001b[0m\u001b[0;34m\u001b[0m\u001b[0m\n\u001b[0;32m----> 2\u001b[0;31m \u001b[0mtest_empty_df\u001b[0m \u001b[0;34m=\u001b[0m \u001b[0mclaim\u001b[0m\u001b[0;34m(\u001b[0m\u001b[0mtest_empty\u001b[0m\u001b[0;34m)\u001b[0m\u001b[0;34m\u001b[0m\u001b[0;34m\u001b[0m\u001b[0m\n\u001b[0m\u001b[1;32m      3\u001b[0m \u001b[0mtest_empty_df\u001b[0m\u001b[0;34m.\u001b[0m\u001b[0mcolumns\u001b[0m\u001b[0;34m\u001b[0m\u001b[0;34m\u001b[0m\u001b[0m\n",
      "\u001b[0;32m<ipython-input-87-3bce87ad5bed>\u001b[0m in \u001b[0;36mclaim\u001b[0;34m(claim_hash)\u001b[0m\n\u001b[1;32m      7\u001b[0m \u001b[0;34m\u001b[0m\u001b[0m\n\u001b[1;32m      8\u001b[0m     \u001b[0;32mif\u001b[0m\u001b[0;34m(\u001b[0m\u001b[0mlen\u001b[0m\u001b[0;34m(\u001b[0m\u001b[0mdf_claim\u001b[0m\u001b[0;34m.\u001b[0m\u001b[0mcolumns\u001b[0m\u001b[0;34m)\u001b[0m\u001b[0;34m==\u001b[0m\u001b[0;36m0\u001b[0m\u001b[0;34m)\u001b[0m\u001b[0;34m:\u001b[0m\u001b[0;34m\u001b[0m\u001b[0;34m\u001b[0m\u001b[0m\n\u001b[0;32m----> 9\u001b[0;31m         \u001b[0;32mreturn\u001b[0m \u001b[0mpd\u001b[0m\u001b[0;34m.\u001b[0m\u001b[0mDataFrame\u001b[0m\u001b[0;34m(\u001b[0m\u001b[0mcolumns\u001b[0m \u001b[0;34m=\u001b[0m \u001b[0mcols_claim\u001b[0m\u001b[0;34m[\u001b[0m\u001b[0mclaim_hash\u001b[0m\u001b[0;34m]\u001b[0m\u001b[0;34m)\u001b[0m\u001b[0;34m\u001b[0m\u001b[0;34m\u001b[0m\u001b[0m\n\u001b[0m\u001b[1;32m     10\u001b[0m \u001b[0;34m\u001b[0m\u001b[0m\n\u001b[1;32m     11\u001b[0m     \u001b[0;32mreturn\u001b[0m \u001b[0mdf_claim\u001b[0m\u001b[0;34m\u001b[0m\u001b[0;34m\u001b[0m\u001b[0m\n",
      "\u001b[0;31mKeyError\u001b[0m: 'a7e8d448-9e50-45a7-97ea-a208e99e9276'"
     ]
    }
   ],
   "source": [
    "test_empty = 'a7e8d448-9e50-45a7-97ea-a208e99e9276'\n",
    "test_empty_df = claim(test_empty)\n",
    "test_empty_df.columns"
   ]
  },
  {
   "cell_type": "code",
   "execution_count": null,
   "metadata": {},
   "outputs": [],
   "source": [
    "wallet_age = 'fb964d4e-3e67-4662-b9b1-413262737bcb'\n",
    "wallet_age_df = claim(wallet_age)"
   ]
  },
  {
   "cell_type": "code",
   "execution_count": 235,
   "metadata": {},
   "outputs": [],
   "source": [
    "dates_to_mark = pd.DataFrame([\n",
    "['2021-03-04', '2021-03-11',120,'Anchor launch'],\n",
    "['2021-09-24', '2021-10-01',120,'Columbus 5'],\n",
    "['2022-01-17', '2022-01-24',120,'Prism launch']], columns=['text_date','date','height','text']\n",
    ")"
   ]
  },
  {
   "cell_type": "code",
   "execution_count": 240,
   "metadata": {},
   "outputs": [
    {
     "data": {
      "text/html": [
       "\n",
       "<div id=\"altair-viz-9bdfe5fb18464d819ef51f9ec52693b1\"></div>\n",
       "<script type=\"text/javascript\">\n",
       "  var VEGA_DEBUG = (typeof VEGA_DEBUG == \"undefined\") ? {} : VEGA_DEBUG;\n",
       "  (function(spec, embedOpt){\n",
       "    let outputDiv = document.currentScript.previousElementSibling;\n",
       "    if (outputDiv.id !== \"altair-viz-9bdfe5fb18464d819ef51f9ec52693b1\") {\n",
       "      outputDiv = document.getElementById(\"altair-viz-9bdfe5fb18464d819ef51f9ec52693b1\");\n",
       "    }\n",
       "    const paths = {\n",
       "      \"vega\": \"https://cdn.jsdelivr.net/npm//vega@5?noext\",\n",
       "      \"vega-lib\": \"https://cdn.jsdelivr.net/npm//vega-lib?noext\",\n",
       "      \"vega-lite\": \"https://cdn.jsdelivr.net/npm//vega-lite@4.17.0?noext\",\n",
       "      \"vega-embed\": \"https://cdn.jsdelivr.net/npm//vega-embed@6?noext\",\n",
       "    };\n",
       "\n",
       "    function maybeLoadScript(lib, version) {\n",
       "      var key = `${lib.replace(\"-\", \"\")}_version`;\n",
       "      return (VEGA_DEBUG[key] == version) ?\n",
       "        Promise.resolve(paths[lib]) :\n",
       "        new Promise(function(resolve, reject) {\n",
       "          var s = document.createElement('script');\n",
       "          document.getElementsByTagName(\"head\")[0].appendChild(s);\n",
       "          s.async = true;\n",
       "          s.onload = () => {\n",
       "            VEGA_DEBUG[key] = version;\n",
       "            return resolve(paths[lib]);\n",
       "          };\n",
       "          s.onerror = () => reject(`Error loading script: ${paths[lib]}`);\n",
       "          s.src = paths[lib];\n",
       "        });\n",
       "    }\n",
       "\n",
       "    function showError(err) {\n",
       "      outputDiv.innerHTML = `<div class=\"error\" style=\"color:red;\">${err}</div>`;\n",
       "      throw err;\n",
       "    }\n",
       "\n",
       "    function displayChart(vegaEmbed) {\n",
       "      vegaEmbed(outputDiv, spec, embedOpt)\n",
       "        .catch(err => showError(`Javascript Error: ${err.message}<br>This usually means there's a typo in your chart specification. See the javascript console for the full traceback.`));\n",
       "    }\n",
       "\n",
       "    if(typeof define === \"function\" && define.amd) {\n",
       "      requirejs.config({paths});\n",
       "      require([\"vega-embed\"], displayChart, err => showError(`Error loading script: ${err.message}`));\n",
       "    } else {\n",
       "      maybeLoadScript(\"vega\", \"5\")\n",
       "        .then(() => maybeLoadScript(\"vega-lite\", \"4.17.0\"))\n",
       "        .then(() => maybeLoadScript(\"vega-embed\", \"6\"))\n",
       "        .catch(showError)\n",
       "        .then(() => displayChart(vegaEmbed));\n",
       "    }\n",
       "  })({\"config\": {\"view\": {\"continuousWidth\": 400, \"continuousHeight\": 300}}, \"layer\": [{\"data\": {\"name\": \"data-abaad8cfac37ba23113c9b7a06ecc8a5\"}, \"mark\": {\"type\": \"bar\", \"color\": \"#ffde85\"}, \"encoding\": {\"tooltip\": [{\"field\": \"Date wallet creation\", \"type\": \"nominal\"}, {\"field\": \"Number of wallets\", \"type\": \"quantitative\"}], \"x\": {\"axis\": {\"labelAngle\": 0, \"tickCount\": 10}, \"field\": \"Date wallet creation\", \"type\": \"temporal\"}, \"y\": {\"field\": \"Number of wallets\", \"type\": \"quantitative\"}}}, {\"data\": {\"name\": \"data-d47d5cfed558c7f8040a1ad6bc4ca45c\"}, \"mark\": {\"type\": \"rule\", \"color\": \"#fab0ba\"}, \"encoding\": {\"x\": {\"field\": \"date\", \"type\": \"temporal\"}}}, {\"data\": {\"name\": \"data-d47d5cfed558c7f8040a1ad6bc4ca45c\"}, \"mark\": {\"type\": \"text\", \"angle\": 270, \"color\": \"#fab0ba\"}, \"encoding\": {\"text\": {\"field\": \"text\", \"type\": \"nominal\"}, \"x\": {\"field\": \"text_date\", \"type\": \"temporal\"}, \"y\": {\"field\": \"height\", \"type\": \"quantitative\"}}}], \"width\": 600, \"$schema\": \"https://vega.github.io/schema/vega-lite/v4.17.0.json\", \"datasets\": {\"data-abaad8cfac37ba23113c9b7a06ecc8a5\": [{\"Number of wallets\": 14, \"Date wallet creation\": \"2021-05-13\"}, {\"Number of wallets\": 11, \"Date wallet creation\": \"2021-02-21\"}, {\"Number of wallets\": 6, \"Date wallet creation\": \"2021-05-27\"}, {\"Number of wallets\": 31, \"Date wallet creation\": \"2021-07-05\"}, {\"Number of wallets\": 12, \"Date wallet creation\": \"2021-04-17\"}, {\"Number of wallets\": 13, \"Date wallet creation\": \"2021-01-27\"}, {\"Number of wallets\": 15, \"Date wallet creation\": \"2021-10-17\"}, {\"Number of wallets\": 19, \"Date wallet creation\": \"2021-10-30\"}, {\"Number of wallets\": 35, \"Date wallet creation\": \"2021-11-22\"}, {\"Number of wallets\": 61, \"Date wallet creation\": \"2021-12-15\"}, {\"Number of wallets\": 124, \"Date wallet creation\": \"2021-12-17\"}, {\"Number of wallets\": 22, \"Date wallet creation\": \"2021-08-17\"}, {\"Number of wallets\": 9, \"Date wallet creation\": \"2021-09-06\"}, {\"Number of wallets\": 14, \"Date wallet creation\": \"2021-09-07\"}, {\"Number of wallets\": 27, \"Date wallet creation\": \"2021-12-08\"}, {\"Number of wallets\": 158, \"Date wallet creation\": \"2021-12-18\"}, {\"Number of wallets\": 9, \"Date wallet creation\": \"2021-04-25\"}, {\"Number of wallets\": 11, \"Date wallet creation\": \"2021-05-03\"}, {\"Number of wallets\": 12, \"Date wallet creation\": \"2021-07-19\"}, {\"Number of wallets\": 13, \"Date wallet creation\": \"2021-09-09\"}, {\"Number of wallets\": 17, \"Date wallet creation\": \"2021-09-13\"}, {\"Number of wallets\": 1, \"Date wallet creation\": \"2019-12-26\"}, {\"Number of wallets\": 9, \"Date wallet creation\": \"2021-08-07\"}, {\"Number of wallets\": 10, \"Date wallet creation\": \"2021-03-24\"}, {\"Number of wallets\": 6, \"Date wallet creation\": \"2021-05-17\"}, {\"Number of wallets\": 1, \"Date wallet creation\": \"2020-07-16\"}, {\"Number of wallets\": 4, \"Date wallet creation\": \"2020-12-29\"}, {\"Number of wallets\": 6, \"Date wallet creation\": \"2021-02-15\"}, {\"Number of wallets\": 1, \"Date wallet creation\": \"2020-11-23\"}, {\"Number of wallets\": 1, \"Date wallet creation\": \"2020-07-07\"}, {\"Number of wallets\": 19, \"Date wallet creation\": \"2021-06-28\"}, {\"Number of wallets\": 23, \"Date wallet creation\": \"2021-08-14\"}, {\"Number of wallets\": 22, \"Date wallet creation\": \"2021-03-13\"}, {\"Number of wallets\": 10, \"Date wallet creation\": \"2021-05-21\"}, {\"Number of wallets\": 27, \"Date wallet creation\": \"2021-11-16\"}, {\"Number of wallets\": 54, \"Date wallet creation\": \"2021-12-19\"}, {\"Number of wallets\": 12, \"Date wallet creation\": \"2021-07-27\"}, {\"Number of wallets\": 25, \"Date wallet creation\": \"2021-10-28\"}, {\"Number of wallets\": 14, \"Date wallet creation\": \"2021-10-02\"}, {\"Number of wallets\": 8, \"Date wallet creation\": \"2021-08-24\"}, {\"Number of wallets\": 15, \"Date wallet creation\": \"2021-08-09\"}, {\"Number of wallets\": 4, \"Date wallet creation\": \"2021-06-20\"}, {\"Number of wallets\": 22, \"Date wallet creation\": \"2021-09-16\"}, {\"Number of wallets\": 11, \"Date wallet creation\": \"2021-08-29\"}, {\"Number of wallets\": 3, \"Date wallet creation\": \"2021-06-05\"}, {\"Number of wallets\": 1, \"Date wallet creation\": \"2020-10-01\"}, {\"Number of wallets\": 3, \"Date wallet creation\": \"2021-06-21\"}, {\"Number of wallets\": 28, \"Date wallet creation\": \"2021-03-15\"}, {\"Number of wallets\": 5, \"Date wallet creation\": \"2021-03-28\"}, {\"Number of wallets\": 1, \"Date wallet creation\": \"2020-02-25\"}, {\"Number of wallets\": 12, \"Date wallet creation\": \"2021-05-23\"}, {\"Number of wallets\": 1, \"Date wallet creation\": \"2020-10-07\"}, {\"Number of wallets\": 5, \"Date wallet creation\": \"2021-06-12\"}, {\"Number of wallets\": 3, \"Date wallet creation\": \"2021-02-12\"}, {\"Number of wallets\": 2, \"Date wallet creation\": \"2020-10-08\"}, {\"Number of wallets\": 1, \"Date wallet creation\": \"2020-08-24\"}, {\"Number of wallets\": 2, \"Date wallet creation\": \"2020-11-12\"}, {\"Number of wallets\": 1, \"Date wallet creation\": \"2020-09-04\"}, {\"Number of wallets\": 15, \"Date wallet creation\": \"2021-03-09\"}, {\"Number of wallets\": 6, \"Date wallet creation\": \"2021-04-09\"}, {\"Number of wallets\": 9, \"Date wallet creation\": \"2021-04-23\"}, {\"Number of wallets\": 13, \"Date wallet creation\": \"2021-08-01\"}, {\"Number of wallets\": 14, \"Date wallet creation\": \"2021-06-10\"}, {\"Number of wallets\": 11, \"Date wallet creation\": \"2021-04-08\"}, {\"Number of wallets\": 55, \"Date wallet creation\": \"2021-11-30\"}, {\"Number of wallets\": 17, \"Date wallet creation\": \"2021-06-27\"}, {\"Number of wallets\": 21, \"Date wallet creation\": \"2021-11-03\"}, {\"Number of wallets\": 17, \"Date wallet creation\": \"2021-09-01\"}, {\"Number of wallets\": 21, \"Date wallet creation\": \"2021-11-19\"}, {\"Number of wallets\": 10, \"Date wallet creation\": \"2021-10-03\"}, {\"Number of wallets\": 3, \"Date wallet creation\": \"2021-01-25\"}, {\"Number of wallets\": 10, \"Date wallet creation\": \"2021-06-11\"}, {\"Number of wallets\": 12, \"Date wallet creation\": \"2021-05-11\"}, {\"Number of wallets\": 9, \"Date wallet creation\": \"2021-05-08\"}, {\"Number of wallets\": 6, \"Date wallet creation\": \"2021-02-11\"}, {\"Number of wallets\": 6, \"Date wallet creation\": \"2021-03-01\"}, {\"Number of wallets\": 1, \"Date wallet creation\": \"2020-09-18\"}, {\"Number of wallets\": 6, \"Date wallet creation\": \"2021-04-16\"}, {\"Number of wallets\": 5, \"Date wallet creation\": \"2021-03-31\"}, {\"Number of wallets\": 41, \"Date wallet creation\": \"2021-03-16\"}, {\"Number of wallets\": 10, \"Date wallet creation\": \"2021-02-10\"}, {\"Number of wallets\": 12, \"Date wallet creation\": \"2021-06-24\"}, {\"Number of wallets\": 9, \"Date wallet creation\": \"2021-06-07\"}, {\"Number of wallets\": 15, \"Date wallet creation\": \"2021-03-11\"}, {\"Number of wallets\": 14, \"Date wallet creation\": \"2021-08-22\"}, {\"Number of wallets\": 7, \"Date wallet creation\": \"2021-05-30\"}, {\"Number of wallets\": 20, \"Date wallet creation\": \"2021-08-16\"}, {\"Number of wallets\": 18, \"Date wallet creation\": \"2021-11-09\"}, {\"Number of wallets\": 89, \"Date wallet creation\": \"2021-12-14\"}, {\"Number of wallets\": 16, \"Date wallet creation\": \"2021-05-09\"}, {\"Number of wallets\": 10, \"Date wallet creation\": \"2021-02-08\"}, {\"Number of wallets\": 2, \"Date wallet creation\": \"2021-01-12\"}, {\"Number of wallets\": 21, \"Date wallet creation\": \"2021-08-18\"}, {\"Number of wallets\": 10, \"Date wallet creation\": \"2021-07-18\"}, {\"Number of wallets\": 43, \"Date wallet creation\": \"2021-12-01\"}, {\"Number of wallets\": 2, \"Date wallet creation\": \"2020-12-14\"}, {\"Number of wallets\": 4, \"Date wallet creation\": \"2020-12-06\"}, {\"Number of wallets\": 12, \"Date wallet creation\": \"2021-05-26\"}, {\"Number of wallets\": 12, \"Date wallet creation\": \"2021-10-16\"}, {\"Number of wallets\": 1, \"Date wallet creation\": \"2020-10-11\"}, {\"Number of wallets\": 3, \"Date wallet creation\": \"2021-04-02\"}, {\"Number of wallets\": 1, \"Date wallet creation\": \"2020-12-23\"}, {\"Number of wallets\": 1, \"Date wallet creation\": \"2021-01-04\"}, {\"Number of wallets\": 9, \"Date wallet creation\": \"2021-06-14\"}, {\"Number of wallets\": 18, \"Date wallet creation\": \"2021-07-03\"}, {\"Number of wallets\": 14, \"Date wallet creation\": \"2021-05-24\"}, {\"Number of wallets\": 9, \"Date wallet creation\": \"2021-02-03\"}, {\"Number of wallets\": 14, \"Date wallet creation\": \"2021-04-10\"}, {\"Number of wallets\": 18, \"Date wallet creation\": \"2021-03-19\"}, {\"Number of wallets\": 12, \"Date wallet creation\": \"2021-08-03\"}, {\"Number of wallets\": 16, \"Date wallet creation\": \"2021-08-04\"}, {\"Number of wallets\": 11, \"Date wallet creation\": \"2021-08-05\"}, {\"Number of wallets\": 29, \"Date wallet creation\": \"2021-10-19\"}, {\"Number of wallets\": 15, \"Date wallet creation\": \"2021-05-14\"}, {\"Number of wallets\": 14, \"Date wallet creation\": \"2021-09-28\"}, {\"Number of wallets\": 3, \"Date wallet creation\": \"2020-12-03\"}, {\"Number of wallets\": 43, \"Date wallet creation\": \"2021-12-04\"}, {\"Number of wallets\": 18, \"Date wallet creation\": \"2021-09-17\"}, {\"Number of wallets\": 1, \"Date wallet creation\": \"2020-08-10\"}, {\"Number of wallets\": 2, \"Date wallet creation\": \"2020-12-04\"}, {\"Number of wallets\": 1, \"Date wallet creation\": \"2020-12-16\"}, {\"Number of wallets\": 1, \"Date wallet creation\": \"2020-12-24\"}, {\"Number of wallets\": 2, \"Date wallet creation\": \"2020-12-08\"}, {\"Number of wallets\": 3, \"Date wallet creation\": \"2021-01-23\"}, {\"Number of wallets\": 1, \"Date wallet creation\": \"2021-01-03\"}, {\"Number of wallets\": 1, \"Date wallet creation\": \"2021-01-01\"}, {\"Number of wallets\": 1, \"Date wallet creation\": \"2020-04-16\"}, {\"Number of wallets\": 1, \"Date wallet creation\": \"2020-09-26\"}, {\"Number of wallets\": 6, \"Date wallet creation\": \"2021-04-19\"}, {\"Number of wallets\": 6, \"Date wallet creation\": \"2021-04-22\"}, {\"Number of wallets\": 8, \"Date wallet creation\": \"2021-02-14\"}, {\"Number of wallets\": 8, \"Date wallet creation\": \"2021-07-01\"}, {\"Number of wallets\": 18, \"Date wallet creation\": \"2021-10-31\"}, {\"Number of wallets\": 8, \"Date wallet creation\": \"2021-03-07\"}, {\"Number of wallets\": 14, \"Date wallet creation\": \"2021-07-21\"}, {\"Number of wallets\": 7, \"Date wallet creation\": \"2021-08-08\"}, {\"Number of wallets\": 8, \"Date wallet creation\": \"2021-05-16\"}, {\"Number of wallets\": 5, \"Date wallet creation\": \"2021-02-26\"}, {\"Number of wallets\": 7, \"Date wallet creation\": \"2021-05-28\"}, {\"Number of wallets\": 12, \"Date wallet creation\": \"2021-11-11\"}, {\"Number of wallets\": 10, \"Date wallet creation\": \"2021-07-29\"}, {\"Number of wallets\": 2, \"Date wallet creation\": \"2021-01-13\"}, {\"Number of wallets\": 8, \"Date wallet creation\": \"2021-04-21\"}, {\"Number of wallets\": 2, \"Date wallet creation\": \"2020-03-17\"}, {\"Number of wallets\": 4, \"Date wallet creation\": \"2021-02-02\"}, {\"Number of wallets\": 18, \"Date wallet creation\": \"2021-08-30\"}, {\"Number of wallets\": 11, \"Date wallet creation\": \"2021-09-26\"}, {\"Number of wallets\": 12, \"Date wallet creation\": \"2021-11-12\"}, {\"Number of wallets\": 1, \"Date wallet creation\": \"2020-12-09\"}, {\"Number of wallets\": 1, \"Date wallet creation\": \"2021-01-06\"}, {\"Number of wallets\": 1, \"Date wallet creation\": \"2021-01-07\"}, {\"Number of wallets\": 1, \"Date wallet creation\": \"2020-08-14\"}, {\"Number of wallets\": 15, \"Date wallet creation\": \"2021-06-26\"}, {\"Number of wallets\": 12, \"Date wallet creation\": \"2021-03-21\"}, {\"Number of wallets\": 9, \"Date wallet creation\": \"2021-05-06\"}, {\"Number of wallets\": 7, \"Date wallet creation\": \"2021-03-25\"}, {\"Number of wallets\": 19, \"Date wallet creation\": \"2021-08-11\"}, {\"Number of wallets\": 11, \"Date wallet creation\": \"2021-08-10\"}, {\"Number of wallets\": 24, \"Date wallet creation\": \"2021-07-12\"}, {\"Number of wallets\": 20, \"Date wallet creation\": \"2021-11-02\"}, {\"Number of wallets\": 19, \"Date wallet creation\": \"2021-09-29\"}, {\"Number of wallets\": 17, \"Date wallet creation\": \"2021-10-10\"}, {\"Number of wallets\": 33, \"Date wallet creation\": \"2021-12-03\"}, {\"Number of wallets\": 12, \"Date wallet creation\": \"2021-09-22\"}, {\"Number of wallets\": 19, \"Date wallet creation\": \"2021-11-06\"}, {\"Number of wallets\": 23, \"Date wallet creation\": \"2021-10-12\"}, {\"Number of wallets\": 4, \"Date wallet creation\": \"2020-12-10\"}, {\"Number of wallets\": 6, \"Date wallet creation\": \"2021-07-30\"}, {\"Number of wallets\": 8, \"Date wallet creation\": \"2021-01-30\"}, {\"Number of wallets\": 7, \"Date wallet creation\": \"2021-04-30\"}, {\"Number of wallets\": 8, \"Date wallet creation\": \"2021-04-11\"}, {\"Number of wallets\": 4, \"Date wallet creation\": \"2021-05-29\"}, {\"Number of wallets\": 20, \"Date wallet creation\": \"2021-10-20\"}, {\"Number of wallets\": 12, \"Date wallet creation\": \"2021-03-06\"}, {\"Number of wallets\": 8, \"Date wallet creation\": \"2021-01-29\"}, {\"Number of wallets\": 8, \"Date wallet creation\": \"2021-07-22\"}, {\"Number of wallets\": 4, \"Date wallet creation\": \"2021-04-18\"}, {\"Number of wallets\": 1, \"Date wallet creation\": \"2020-02-19\"}, {\"Number of wallets\": 1, \"Date wallet creation\": \"2020-04-23\"}, {\"Number of wallets\": 2, \"Date wallet creation\": \"2020-08-19\"}, {\"Number of wallets\": 1, \"Date wallet creation\": \"2020-08-11\"}, {\"Number of wallets\": 1, \"Date wallet creation\": \"2020-11-11\"}, {\"Number of wallets\": 5, \"Date wallet creation\": \"2021-06-22\"}, {\"Number of wallets\": 32, \"Date wallet creation\": \"2021-07-04\"}, {\"Number of wallets\": 8, \"Date wallet creation\": \"2021-04-26\"}, {\"Number of wallets\": 3, \"Date wallet creation\": \"2020-12-30\"}, {\"Number of wallets\": 15, \"Date wallet creation\": \"2021-05-04\"}, {\"Number of wallets\": 1, \"Date wallet creation\": \"2020-11-30\"}, {\"Number of wallets\": 26, \"Date wallet creation\": \"2021-11-14\"}, {\"Number of wallets\": 11, \"Date wallet creation\": \"2021-10-04\"}, {\"Number of wallets\": 24, \"Date wallet creation\": \"2021-10-29\"}, {\"Number of wallets\": 18, \"Date wallet creation\": \"2021-07-07\"}, {\"Number of wallets\": 9, \"Date wallet creation\": \"2021-05-10\"}, {\"Number of wallets\": 43, \"Date wallet creation\": \"2021-12-12\"}, {\"Number of wallets\": 22, \"Date wallet creation\": \"2021-10-25\"}, {\"Number of wallets\": 7, \"Date wallet creation\": \"2021-08-28\"}, {\"Number of wallets\": 27, \"Date wallet creation\": \"2021-11-23\"}, {\"Number of wallets\": 5, \"Date wallet creation\": \"2021-04-04\"}, {\"Number of wallets\": 1, \"Date wallet creation\": \"2020-12-17\"}, {\"Number of wallets\": 5, \"Date wallet creation\": \"2021-02-19\"}, {\"Number of wallets\": 10, \"Date wallet creation\": \"2021-03-10\"}, {\"Number of wallets\": 7, \"Date wallet creation\": \"2021-05-19\"}, {\"Number of wallets\": 3, \"Date wallet creation\": \"2021-01-09\"}, {\"Number of wallets\": 1, \"Date wallet creation\": \"2021-01-17\"}, {\"Number of wallets\": 1, \"Date wallet creation\": \"2020-09-23\"}, {\"Number of wallets\": 2, \"Date wallet creation\": \"2020-09-15\"}, {\"Number of wallets\": 1, \"Date wallet creation\": \"2020-06-04\"}, {\"Number of wallets\": 8, \"Date wallet creation\": \"2021-06-02\"}, {\"Number of wallets\": 35, \"Date wallet creation\": \"2021-03-17\"}, {\"Number of wallets\": 15, \"Date wallet creation\": \"2021-11-17\"}, {\"Number of wallets\": 9, \"Date wallet creation\": \"2021-04-01\"}, {\"Number of wallets\": 21, \"Date wallet creation\": \"2021-11-10\"}, {\"Number of wallets\": 4, \"Date wallet creation\": \"2020-12-05\"}, {\"Number of wallets\": 19, \"Date wallet creation\": \"2021-10-06\"}, {\"Number of wallets\": 22, \"Date wallet creation\": \"2021-11-15\"}, {\"Number of wallets\": 13, \"Date wallet creation\": \"2021-09-18\"}, {\"Number of wallets\": 9, \"Date wallet creation\": \"2021-04-28\"}, {\"Number of wallets\": 21, \"Date wallet creation\": \"2021-10-21\"}, {\"Number of wallets\": 20, \"Date wallet creation\": \"2021-09-12\"}, {\"Number of wallets\": 13, \"Date wallet creation\": \"2021-05-15\"}, {\"Number of wallets\": 9, \"Date wallet creation\": \"2021-04-24\"}, {\"Number of wallets\": 14, \"Date wallet creation\": \"2021-05-01\"}, {\"Number of wallets\": 22, \"Date wallet creation\": \"2021-11-20\"}, {\"Number of wallets\": 11, \"Date wallet creation\": \"2021-08-13\"}, {\"Number of wallets\": 15, \"Date wallet creation\": \"2021-07-28\"}, {\"Number of wallets\": 6, \"Date wallet creation\": \"2021-06-06\"}, {\"Number of wallets\": 6, \"Date wallet creation\": \"2021-03-03\"}, {\"Number of wallets\": 7, \"Date wallet creation\": \"2021-07-31\"}, {\"Number of wallets\": 7, \"Date wallet creation\": \"2021-07-23\"}, {\"Number of wallets\": 1, \"Date wallet creation\": \"2020-12-27\"}, {\"Number of wallets\": 7, \"Date wallet creation\": \"2021-03-05\"}, {\"Number of wallets\": 1, \"Date wallet creation\": \"2021-01-22\"}, {\"Number of wallets\": 47, \"Date wallet creation\": \"2021-12-20\"}, {\"Number of wallets\": 7, \"Date wallet creation\": \"2021-02-25\"}, {\"Number of wallets\": 15, \"Date wallet creation\": \"2021-02-09\"}, {\"Number of wallets\": 14, \"Date wallet creation\": \"2021-06-30\"}, {\"Number of wallets\": 6, \"Date wallet creation\": \"2021-03-04\"}, {\"Number of wallets\": 12, \"Date wallet creation\": \"2021-09-19\"}, {\"Number of wallets\": 5, \"Date wallet creation\": \"2021-06-13\"}, {\"Number of wallets\": 5, \"Date wallet creation\": \"2021-06-01\"}, {\"Number of wallets\": 2, \"Date wallet creation\": \"2021-01-20\"}, {\"Number of wallets\": 1, \"Date wallet creation\": \"2020-03-19\"}, {\"Number of wallets\": 1, \"Date wallet creation\": \"2021-02-27\"}, {\"Number of wallets\": 10, \"Date wallet creation\": \"2021-01-28\"}, {\"Number of wallets\": 32, \"Date wallet creation\": \"2021-03-18\"}, {\"Number of wallets\": 15, \"Date wallet creation\": \"2021-05-12\"}, {\"Number of wallets\": 6, \"Date wallet creation\": \"2021-02-04\"}, {\"Number of wallets\": 10, \"Date wallet creation\": \"2021-04-27\"}, {\"Number of wallets\": 11, \"Date wallet creation\": \"2021-05-18\"}, {\"Number of wallets\": 17, \"Date wallet creation\": \"2021-03-23\"}, {\"Number of wallets\": 1, \"Date wallet creation\": \"2020-12-25\"}, {\"Number of wallets\": 11, \"Date wallet creation\": \"2021-07-17\"}, {\"Number of wallets\": 14, \"Date wallet creation\": \"2021-11-05\"}, {\"Number of wallets\": 25, \"Date wallet creation\": \"2021-08-27\"}, {\"Number of wallets\": 28, \"Date wallet creation\": \"2021-10-13\"}, {\"Number of wallets\": 35, \"Date wallet creation\": \"2021-11-25\"}, {\"Number of wallets\": 9, \"Date wallet creation\": \"2021-09-10\"}, {\"Number of wallets\": 8, \"Date wallet creation\": \"2021-02-24\"}, {\"Number of wallets\": 8, \"Date wallet creation\": \"2021-09-05\"}, {\"Number of wallets\": 17, \"Date wallet creation\": \"2021-07-13\"}, {\"Number of wallets\": 58, \"Date wallet creation\": \"2021-11-29\"}, {\"Number of wallets\": 11, \"Date wallet creation\": \"2021-03-20\"}, {\"Number of wallets\": 1, \"Date wallet creation\": \"2020-09-22\"}, {\"Number of wallets\": 8, \"Date wallet creation\": \"2021-06-23\"}, {\"Number of wallets\": 32, \"Date wallet creation\": \"2021-10-26\"}, {\"Number of wallets\": 14, \"Date wallet creation\": \"2021-09-03\"}, {\"Number of wallets\": 15, \"Date wallet creation\": \"2021-10-18\"}, {\"Number of wallets\": 13, \"Date wallet creation\": \"2021-09-04\"}, {\"Number of wallets\": 9, \"Date wallet creation\": \"2021-07-26\"}, {\"Number of wallets\": 1, \"Date wallet creation\": \"2021-01-15\"}, {\"Number of wallets\": 1, \"Date wallet creation\": \"2020-11-27\"}, {\"Number of wallets\": 1, \"Date wallet creation\": \"2020-11-21\"}, {\"Number of wallets\": 1, \"Date wallet creation\": \"2021-01-18\"}, {\"Number of wallets\": 6, \"Date wallet creation\": \"2021-01-24\"}, {\"Number of wallets\": 10, \"Date wallet creation\": \"2021-04-20\"}, {\"Number of wallets\": 10, \"Date wallet creation\": \"2021-03-02\"}, {\"Number of wallets\": 14, \"Date wallet creation\": \"2021-08-06\"}, {\"Number of wallets\": 14, \"Date wallet creation\": \"2021-04-05\"}, {\"Number of wallets\": 12, \"Date wallet creation\": \"2021-06-25\"}, {\"Number of wallets\": 16, \"Date wallet creation\": \"2021-10-23\"}, {\"Number of wallets\": 9, \"Date wallet creation\": \"2021-02-20\"}, {\"Number of wallets\": 26, \"Date wallet creation\": \"2021-08-15\"}, {\"Number of wallets\": 63, \"Date wallet creation\": \"2021-12-16\"}, {\"Number of wallets\": 40, \"Date wallet creation\": \"2021-10-14\"}, {\"Number of wallets\": 14, \"Date wallet creation\": \"2021-11-07\"}, {\"Number of wallets\": 37, \"Date wallet creation\": \"2021-12-06\"}, {\"Number of wallets\": 12, \"Date wallet creation\": \"2021-06-16\"}, {\"Number of wallets\": 20, \"Date wallet creation\": \"2021-07-11\"}, {\"Number of wallets\": 13, \"Date wallet creation\": \"2021-02-22\"}, {\"Number of wallets\": 29, \"Date wallet creation\": \"2021-07-10\"}, {\"Number of wallets\": 25, \"Date wallet creation\": \"2021-12-02\"}, {\"Number of wallets\": 20, \"Date wallet creation\": \"2021-11-01\"}, {\"Number of wallets\": 16, \"Date wallet creation\": \"2021-10-08\"}, {\"Number of wallets\": 21, \"Date wallet creation\": \"2021-08-23\"}, {\"Number of wallets\": 5, \"Date wallet creation\": \"2021-04-06\"}, {\"Number of wallets\": 8, \"Date wallet creation\": \"2021-06-18\"}, {\"Number of wallets\": 2, \"Date wallet creation\": \"2020-12-19\"}, {\"Number of wallets\": 1, \"Date wallet creation\": \"2020-05-25\"}, {\"Number of wallets\": 1, \"Date wallet creation\": \"2020-12-20\"}, {\"Number of wallets\": 1, \"Date wallet creation\": \"2021-01-21\"}, {\"Number of wallets\": 9, \"Date wallet creation\": \"2021-02-23\"}, {\"Number of wallets\": 6, \"Date wallet creation\": \"2021-03-08\"}, {\"Number of wallets\": 26, \"Date wallet creation\": \"2021-07-06\"}, {\"Number of wallets\": 31, \"Date wallet creation\": \"2021-12-05\"}, {\"Number of wallets\": 38, \"Date wallet creation\": \"2021-12-07\"}, {\"Number of wallets\": 21, \"Date wallet creation\": \"2021-11-04\"}, {\"Number of wallets\": 15, \"Date wallet creation\": \"2021-09-23\"}, {\"Number of wallets\": 17, \"Date wallet creation\": \"2021-06-29\"}, {\"Number of wallets\": 12, \"Date wallet creation\": \"2021-07-25\"}, {\"Number of wallets\": 26, \"Date wallet creation\": \"2021-11-26\"}, {\"Number of wallets\": 28, \"Date wallet creation\": \"2021-12-11\"}, {\"Number of wallets\": 21, \"Date wallet creation\": \"2021-10-22\"}, {\"Number of wallets\": 26, \"Date wallet creation\": \"2021-11-24\"}, {\"Number of wallets\": 10, \"Date wallet creation\": \"2021-09-25\"}, {\"Number of wallets\": 3, \"Date wallet creation\": \"2021-02-13\"}, {\"Number of wallets\": 10, \"Date wallet creation\": \"2021-05-20\"}, {\"Number of wallets\": 6, \"Date wallet creation\": \"2021-04-15\"}, {\"Number of wallets\": 5, \"Date wallet creation\": \"2021-05-05\"}, {\"Number of wallets\": 22, \"Date wallet creation\": \"2021-12-13\"}, {\"Number of wallets\": 1, \"Date wallet creation\": \"2020-09-30\"}, {\"Number of wallets\": 32, \"Date wallet creation\": \"2021-11-27\"}, {\"Number of wallets\": 33, \"Date wallet creation\": \"2021-08-19\"}, {\"Number of wallets\": 10, \"Date wallet creation\": \"2021-07-20\"}, {\"Number of wallets\": 9, \"Date wallet creation\": \"2021-02-01\"}, {\"Number of wallets\": 5, \"Date wallet creation\": \"2021-03-30\"}, {\"Number of wallets\": 10, \"Date wallet creation\": \"2021-11-08\"}, {\"Number of wallets\": 9, \"Date wallet creation\": \"2021-05-22\"}, {\"Number of wallets\": 7, \"Date wallet creation\": \"2021-06-09\"}, {\"Number of wallets\": 6, \"Date wallet creation\": \"2021-01-26\"}, {\"Number of wallets\": 1, \"Date wallet creation\": \"2020-05-26\"}, {\"Number of wallets\": 1, \"Date wallet creation\": \"2020-08-18\"}, {\"Number of wallets\": 25, \"Date wallet creation\": \"2021-06-15\"}, {\"Number of wallets\": 12, \"Date wallet creation\": \"2021-06-03\"}, {\"Number of wallets\": 9, \"Date wallet creation\": \"2021-05-25\"}, {\"Number of wallets\": 27, \"Date wallet creation\": \"2021-08-12\"}, {\"Number of wallets\": 27, \"Date wallet creation\": \"2021-08-21\"}, {\"Number of wallets\": 9, \"Date wallet creation\": \"2021-07-02\"}, {\"Number of wallets\": 74, \"Date wallet creation\": \"2021-12-21\"}, {\"Number of wallets\": 15, \"Date wallet creation\": \"2021-08-20\"}, {\"Number of wallets\": 13, \"Date wallet creation\": \"2021-09-20\"}, {\"Number of wallets\": 30, \"Date wallet creation\": \"2021-09-15\"}, {\"Number of wallets\": 33, \"Date wallet creation\": \"2021-10-09\"}, {\"Number of wallets\": 11, \"Date wallet creation\": \"2021-07-16\"}, {\"Number of wallets\": 17, \"Date wallet creation\": \"2021-03-22\"}, {\"Number of wallets\": 17, \"Date wallet creation\": \"2021-10-05\"}, {\"Number of wallets\": 28, \"Date wallet creation\": \"2021-07-14\"}, {\"Number of wallets\": 18, \"Date wallet creation\": \"2021-08-26\"}, {\"Number of wallets\": 7, \"Date wallet creation\": \"2021-09-30\"}, {\"Number of wallets\": 14, \"Date wallet creation\": \"2021-03-29\"}, {\"Number of wallets\": 5, \"Date wallet creation\": \"2021-02-18\"}, {\"Number of wallets\": 15, \"Date wallet creation\": \"2021-08-31\"}, {\"Number of wallets\": 10, \"Date wallet creation\": \"2021-11-13\"}, {\"Number of wallets\": 10, \"Date wallet creation\": \"2021-04-03\"}, {\"Number of wallets\": 19, \"Date wallet creation\": \"2021-10-07\"}, {\"Number of wallets\": 5, \"Date wallet creation\": \"2021-04-13\"}, {\"Number of wallets\": 6, \"Date wallet creation\": \"2019-12-13\"}, {\"Number of wallets\": 1, \"Date wallet creation\": \"2021-01-05\"}, {\"Number of wallets\": 12, \"Date wallet creation\": \"2021-05-02\"}, {\"Number of wallets\": 9, \"Date wallet creation\": \"2021-06-17\"}, {\"Number of wallets\": 42, \"Date wallet creation\": \"2021-03-14\"}, {\"Number of wallets\": 13, \"Date wallet creation\": \"2021-06-19\"}, {\"Number of wallets\": 9, \"Date wallet creation\": \"2021-06-04\"}, {\"Number of wallets\": 1, \"Date wallet creation\": \"2020-04-19\"}, {\"Number of wallets\": 20, \"Date wallet creation\": \"2021-09-24\"}, {\"Number of wallets\": 5, \"Date wallet creation\": \"2021-02-17\"}, {\"Number of wallets\": 30, \"Date wallet creation\": \"2021-12-10\"}, {\"Number of wallets\": 2, \"Date wallet creation\": \"2020-12-28\"}, {\"Number of wallets\": 35, \"Date wallet creation\": \"2021-07-09\"}, {\"Number of wallets\": 30, \"Date wallet creation\": \"2021-11-28\"}, {\"Number of wallets\": 22, \"Date wallet creation\": \"2021-10-27\"}, {\"Number of wallets\": 32, \"Date wallet creation\": \"2021-09-14\"}, {\"Number of wallets\": 25, \"Date wallet creation\": \"2021-10-11\"}, {\"Number of wallets\": 9, \"Date wallet creation\": \"2021-02-05\"}, {\"Number of wallets\": 3, \"Date wallet creation\": \"2020-12-11\"}, {\"Number of wallets\": 9, \"Date wallet creation\": \"2021-01-31\"}, {\"Number of wallets\": 7, \"Date wallet creation\": \"2021-07-24\"}, {\"Number of wallets\": 28, \"Date wallet creation\": \"2021-11-21\"}, {\"Number of wallets\": 17, \"Date wallet creation\": \"2021-10-24\"}, {\"Number of wallets\": 11, \"Date wallet creation\": \"2021-03-27\"}, {\"Number of wallets\": 14, \"Date wallet creation\": \"2021-09-08\"}, {\"Number of wallets\": 21, \"Date wallet creation\": \"2021-09-27\"}, {\"Number of wallets\": 20, \"Date wallet creation\": \"2021-08-25\"}, {\"Number of wallets\": 7, \"Date wallet creation\": \"2021-04-07\"}, {\"Number of wallets\": 3, \"Date wallet creation\": \"2020-12-07\"}, {\"Number of wallets\": 10, \"Date wallet creation\": \"2021-03-12\"}, {\"Number of wallets\": 9, \"Date wallet creation\": \"2021-04-29\"}, {\"Number of wallets\": 2, \"Date wallet creation\": \"2020-09-13\"}, {\"Number of wallets\": 1, \"Date wallet creation\": \"2020-06-17\"}, {\"Number of wallets\": 1, \"Date wallet creation\": \"2020-02-10\"}, {\"Number of wallets\": 1, \"Date wallet creation\": \"2020-08-21\"}, {\"Number of wallets\": 4, \"Date wallet creation\": \"2021-08-02\"}, {\"Number of wallets\": 1, \"Date wallet creation\": \"2021-01-11\"}, {\"Number of wallets\": 8, \"Date wallet creation\": \"2021-02-06\"}, {\"Number of wallets\": 7, \"Date wallet creation\": \"2021-06-08\"}, {\"Number of wallets\": 8, \"Date wallet creation\": \"2021-04-14\"}, {\"Number of wallets\": 10, \"Date wallet creation\": \"2021-05-07\"}, {\"Number of wallets\": 13, \"Date wallet creation\": \"2021-07-15\"}, {\"Number of wallets\": 10, \"Date wallet creation\": \"2021-03-26\"}, {\"Number of wallets\": 24, \"Date wallet creation\": \"2021-09-21\"}, {\"Number of wallets\": 24, \"Date wallet creation\": \"2021-07-08\"}, {\"Number of wallets\": 13, \"Date wallet creation\": \"2021-11-18\"}, {\"Number of wallets\": 14, \"Date wallet creation\": \"2021-09-11\"}, {\"Number of wallets\": 5, \"Date wallet creation\": \"2021-10-01\"}, {\"Number of wallets\": 16, \"Date wallet creation\": \"2021-12-09\"}, {\"Number of wallets\": 6, \"Date wallet creation\": \"2021-04-12\"}, {\"Number of wallets\": 21, \"Date wallet creation\": \"2021-10-15\"}, {\"Number of wallets\": 2, \"Date wallet creation\": \"2020-12-13\"}, {\"Number of wallets\": 22, \"Date wallet creation\": \"2021-09-02\"}, {\"Number of wallets\": 10, \"Date wallet creation\": \"2021-05-31\"}, {\"Number of wallets\": 14, \"Date wallet creation\": \"2021-02-07\"}, {\"Number of wallets\": 4, \"Date wallet creation\": \"2021-02-16\"}, {\"Number of wallets\": 1, \"Date wallet creation\": \"2019-12-24\"}, {\"Number of wallets\": 1, \"Date wallet creation\": \"2020-03-05\"}], \"data-d47d5cfed558c7f8040a1ad6bc4ca45c\": [{\"text_date\": \"2021-03-04\", \"date\": \"2021-03-11\", \"height\": 120, \"text\": \"Anchor launch\"}, {\"text_date\": \"2021-09-24\", \"date\": \"2021-10-01\", \"height\": 120, \"text\": \"Columbus 5\"}, {\"text_date\": \"2022-01-17\", \"date\": \"2022-01-24\", \"height\": 120, \"text\": \"Prism launch\"}]}}, {\"theme\": \"dark\", \"mode\": \"vega-lite\"});\n",
       "</script>"
      ],
      "text/plain": [
       "alt.LayerChart(...)"
      ]
     },
     "execution_count": 240,
     "metadata": {},
     "output_type": "execute_result"
    }
   ],
   "source": [
    "wallet_age_df = wallet_age_df.rename(columns=cols_dict)\n",
    "c = alt.Chart(wallet_age_df).mark_bar(color='#ffde85').encode(\n",
    "    x=alt.X(cols_dict['MIN_DATE']+\":T\", axis=alt.Axis(tickCount=10, labelAngle=0)),\n",
    "    y=cols_dict['ADDRESS_COUNT']+\":Q\",\n",
    "    tooltip=[cols_dict['MIN_DATE'],cols_dict['ADDRESS_COUNT']+\":Q\"]\n",
    ")\n",
    "\n",
    "c2 = alt.Chart(dates_to_mark).mark_rule(color='#fab0ba').encode(\n",
    "    x='date'+':T'\n",
    ")\n",
    "\n",
    "c3 = alt.Chart(dates_to_mark).mark_text(\n",
    "    color='#fab0ba',\n",
    "    angle=270\n",
    ").encode(\n",
    "    x='text_date'+':T',\n",
    "    y='height',\n",
    "    text='text'\n",
    ")\n",
    "\n",
    "(c + c2 + c3).properties(width=600)"
   ]
  },
  {
   "cell_type": "code",
   "execution_count": null,
   "metadata": {},
   "outputs": [],
   "source": [
    "hourly_stats = '520fb3b6-a968-4742-bf0a-31cbb67b6b05'\n",
    "hourly_stats_df = claim(hourly_stats)"
   ]
  },
  {
   "cell_type": "code",
   "execution_count": 152,
   "metadata": {},
   "outputs": [],
   "source": [
    "hourly_stats_df.sort_values(by='HR')['cumsum_users'] = hourly_stats_df.sort_values(by='HR').TOT_USERS.cumsum()"
   ]
  },
  {
   "cell_type": "code",
   "execution_count": 153,
   "metadata": {},
   "outputs": [
    {
     "data": {
      "text/html": [
       "<div>\n",
       "<style scoped>\n",
       "    .dataframe tbody tr th:only-of-type {\n",
       "        vertical-align: middle;\n",
       "    }\n",
       "\n",
       "    .dataframe tbody tr th {\n",
       "        vertical-align: top;\n",
       "    }\n",
       "\n",
       "    .dataframe thead th {\n",
       "        text-align: right;\n",
       "    }\n",
       "</style>\n",
       "<table border=\"1\" class=\"dataframe\">\n",
       "  <thead>\n",
       "    <tr style=\"text-align: right;\">\n",
       "      <th></th>\n",
       "      <th>index</th>\n",
       "      <th>N° of users</th>\n",
       "    </tr>\n",
       "  </thead>\n",
       "  <tbody>\n",
       "  </tbody>\n",
       "</table>\n",
       "</div>"
      ],
      "text/plain": [
       "Empty DataFrame\n",
       "Columns: [index, N° of users]\n",
       "Index: []"
      ]
     },
     "execution_count": 153,
     "metadata": {},
     "output_type": "execute_result"
    }
   ],
   "source": [
    "df"
   ]
  },
  {
   "cell_type": "code",
   "execution_count": 154,
   "metadata": {},
   "outputs": [],
   "source": [
    "hourly_stats_df.sort_values(by='HR')['cumsum_ust'] = hourly_stats_df.sort_values(by='HR').NET_AMOUNT.cumsum()"
   ]
  },
  {
   "cell_type": "code",
   "execution_count": 155,
   "metadata": {},
   "outputs": [
    {
     "data": {
      "text/html": [
       "\n",
       "<div id=\"altair-viz-58033e063ed54e1c91299458c4c9aea9\"></div>\n",
       "<script type=\"text/javascript\">\n",
       "  var VEGA_DEBUG = (typeof VEGA_DEBUG == \"undefined\") ? {} : VEGA_DEBUG;\n",
       "  (function(spec, embedOpt){\n",
       "    let outputDiv = document.currentScript.previousElementSibling;\n",
       "    if (outputDiv.id !== \"altair-viz-58033e063ed54e1c91299458c4c9aea9\") {\n",
       "      outputDiv = document.getElementById(\"altair-viz-58033e063ed54e1c91299458c4c9aea9\");\n",
       "    }\n",
       "    const paths = {\n",
       "      \"vega\": \"https://cdn.jsdelivr.net/npm//vega@5?noext\",\n",
       "      \"vega-lib\": \"https://cdn.jsdelivr.net/npm//vega-lib?noext\",\n",
       "      \"vega-lite\": \"https://cdn.jsdelivr.net/npm//vega-lite@4.17.0?noext\",\n",
       "      \"vega-embed\": \"https://cdn.jsdelivr.net/npm//vega-embed@6?noext\",\n",
       "    };\n",
       "\n",
       "    function maybeLoadScript(lib, version) {\n",
       "      var key = `${lib.replace(\"-\", \"\")}_version`;\n",
       "      return (VEGA_DEBUG[key] == version) ?\n",
       "        Promise.resolve(paths[lib]) :\n",
       "        new Promise(function(resolve, reject) {\n",
       "          var s = document.createElement('script');\n",
       "          document.getElementsByTagName(\"head\")[0].appendChild(s);\n",
       "          s.async = true;\n",
       "          s.onload = () => {\n",
       "            VEGA_DEBUG[key] = version;\n",
       "            return resolve(paths[lib]);\n",
       "          };\n",
       "          s.onerror = () => reject(`Error loading script: ${paths[lib]}`);\n",
       "          s.src = paths[lib];\n",
       "        });\n",
       "    }\n",
       "\n",
       "    function showError(err) {\n",
       "      outputDiv.innerHTML = `<div class=\"error\" style=\"color:red;\">${err}</div>`;\n",
       "      throw err;\n",
       "    }\n",
       "\n",
       "    function displayChart(vegaEmbed) {\n",
       "      vegaEmbed(outputDiv, spec, embedOpt)\n",
       "        .catch(err => showError(`Javascript Error: ${err.message}<br>This usually means there's a typo in your chart specification. See the javascript console for the full traceback.`));\n",
       "    }\n",
       "\n",
       "    if(typeof define === \"function\" && define.amd) {\n",
       "      requirejs.config({paths});\n",
       "      require([\"vega-embed\"], displayChart, err => showError(`Error loading script: ${err.message}`));\n",
       "    } else {\n",
       "      maybeLoadScript(\"vega\", \"5\")\n",
       "        .then(() => maybeLoadScript(\"vega-lite\", \"4.17.0\"))\n",
       "        .then(() => maybeLoadScript(\"vega-embed\", \"6\"))\n",
       "        .catch(showError)\n",
       "        .then(() => displayChart(vegaEmbed));\n",
       "    }\n",
       "  })({\"config\": {\"view\": {\"continuousWidth\": 400, \"continuousHeight\": 300, \"strokeOpacity\": 0}, \"axisX\": {\"labelAngle\": 0}, \"mark\": {\"color\": \"#fab0ba\"}}, \"data\": {\"name\": \"data-672ef163dab0b39429e020d27f4de061\"}, \"mark\": {\"type\": \"line\", \"point\": true}, \"encoding\": {\"tooltip\": [{\"field\": \"Time\", \"type\": \"temporal\"}, {\"field\": \"Cumulative UST amount\", \"type\": \"quantitative\"}], \"x\": {\"field\": \"Time\", \"sort\": {\"order\": \"ascending\"}, \"type\": \"temporal\"}, \"y\": {\"field\": \"Cumulative UST amount\", \"type\": \"quantitative\"}}, \"width\": 700, \"$schema\": \"https://vega.github.io/schema/vega-lite/v4.17.0.json\", \"datasets\": {\"data-672ef163dab0b39429e020d27f4de061\": [{\"Amount deposited\": 232848.77325600001, \"DEPOSIT_TX\": 148, \"N\\u00b0 of depositing users\": 140, \"Time\": \"12/22  02:00\", \"Net amount deposited\": 187347.03325600002, \"N\\u00b0 of txs\": 156, \"N\\u00b0 of users\": 148, \"Withdrawn amount\": 45501.74, \"WITH_TX\": 8, \"N\\u00b0 of withdrawing users\": 8}, {\"Amount deposited\": 1442645.240617, \"DEPOSIT_TX\": 615, \"N\\u00b0 of depositing users\": 547, \"Time\": \"12/21  08:00\", \"Net amount deposited\": 1437189.556331, \"N\\u00b0 of txs\": 632, \"N\\u00b0 of users\": 563, \"Withdrawn amount\": 5455.684286, \"WITH_TX\": 17, \"N\\u00b0 of withdrawing users\": 16}, {\"Amount deposited\": 1250385.91042, \"DEPOSIT_TX\": 295, \"N\\u00b0 of depositing users\": 278, \"Time\": \"12/21  19:00\", \"Net amount deposited\": 1206266.905003, \"N\\u00b0 of txs\": 305, \"N\\u00b0 of users\": 288, \"Withdrawn amount\": 44119.005417, \"WITH_TX\": 10, \"N\\u00b0 of withdrawing users\": 10}, {\"Amount deposited\": 432358.453242, \"DEPOSIT_TX\": 141, \"N\\u00b0 of depositing users\": 129, \"Time\": \"12/22  01:00\", \"Net amount deposited\": 432025.46934400004, \"N\\u00b0 of txs\": 143, \"N\\u00b0 of users\": 131, \"Withdrawn amount\": 332.983898, \"WITH_TX\": 2, \"N\\u00b0 of withdrawing users\": 2}, {\"Amount deposited\": 302956.639625, \"DEPOSIT_TX\": 176, \"N\\u00b0 of depositing users\": 165, \"Time\": \"12/21  22:00\", \"Net amount deposited\": 289692.15962500003, \"N\\u00b0 of txs\": 180, \"N\\u00b0 of users\": 169, \"Withdrawn amount\": 13264.48, \"WITH_TX\": 4, \"N\\u00b0 of withdrawing users\": 4}, {\"Amount deposited\": 379550.10999, \"DEPOSIT_TX\": 119, \"N\\u00b0 of depositing users\": 106, \"Time\": \"12/22  05:00\", \"Net amount deposited\": 335462.240011, \"N\\u00b0 of txs\": 124, \"N\\u00b0 of users\": 111, \"Withdrawn amount\": 44087.869978999996, \"WITH_TX\": 5, \"N\\u00b0 of withdrawing users\": 5}, {\"Amount deposited\": 19250.0, \"DEPOSIT_TX\": 5, \"N\\u00b0 of depositing users\": 5, \"Time\": \"12/21  07:00\", \"Net amount deposited\": 19250.0, \"N\\u00b0 of txs\": 5, \"N\\u00b0 of users\": 5, \"Withdrawn amount\": 0.0, \"WITH_TX\": 0, \"N\\u00b0 of withdrawing users\": 0}, {\"Amount deposited\": 891552.993351, \"DEPOSIT_TX\": 426, \"N\\u00b0 of depositing users\": 397, \"Time\": \"12/21  15:00\", \"Net amount deposited\": 855757.166351, \"N\\u00b0 of txs\": 439, \"N\\u00b0 of users\": 410, \"Withdrawn amount\": 35795.827, \"WITH_TX\": 13, \"N\\u00b0 of withdrawing users\": 13}, {\"Amount deposited\": 249337.079528, \"DEPOSIT_TX\": 119, \"N\\u00b0 of depositing users\": 109, \"Time\": \"12/22  04:00\", \"Net amount deposited\": 235327.079528, \"N\\u00b0 of txs\": 122, \"N\\u00b0 of users\": 112, \"Withdrawn amount\": 14010.0, \"WITH_TX\": 3, \"N\\u00b0 of withdrawing users\": 3}, {\"Amount deposited\": 1093518.038401, \"DEPOSIT_TX\": 481, \"N\\u00b0 of depositing users\": 455, \"Time\": \"12/21  10:00\", \"Net amount deposited\": 929826.938401, \"N\\u00b0 of txs\": 492, \"N\\u00b0 of users\": 465, \"Withdrawn amount\": 163691.1, \"WITH_TX\": 11, \"N\\u00b0 of withdrawing users\": 10}, {\"Amount deposited\": 397950.5716469999, \"DEPOSIT_TX\": 128, \"N\\u00b0 of depositing users\": 123, \"Time\": \"12/22  07:00\", \"Net amount deposited\": 391974.1846469999, \"N\\u00b0 of txs\": 134, \"N\\u00b0 of users\": 128, \"Withdrawn amount\": 5976.387, \"WITH_TX\": 6, \"N\\u00b0 of withdrawing users\": 5}, {\"Amount deposited\": 1763138.020706, \"DEPOSIT_TX\": 585, \"N\\u00b0 of depositing users\": 518, \"Time\": \"12/21  09:00\", \"Net amount deposited\": 1750545.267706, \"N\\u00b0 of txs\": 596, \"N\\u00b0 of users\": 529, \"Withdrawn amount\": 12592.753, \"WITH_TX\": 11, \"N\\u00b0 of withdrawing users\": 11}, {\"Amount deposited\": 413775.20923400007, \"DEPOSIT_TX\": 363, \"N\\u00b0 of depositing users\": 343, \"Time\": \"12/21  12:00\", \"Net amount deposited\": -21795.96985299996, \"N\\u00b0 of txs\": 371, \"N\\u00b0 of users\": 351, \"Withdrawn amount\": 435571.179087, \"WITH_TX\": 8, \"N\\u00b0 of withdrawing users\": 8}, {\"Amount deposited\": 473987.2796320001, \"DEPOSIT_TX\": 383, \"N\\u00b0 of depositing users\": 356, \"Time\": \"12/21  11:00\", \"Net amount deposited\": 465395.10945800005, \"N\\u00b0 of txs\": 393, \"N\\u00b0 of users\": 366, \"Withdrawn amount\": 8592.170174, \"WITH_TX\": 10, \"N\\u00b0 of withdrawing users\": 10}, {\"Amount deposited\": 703651.593028, \"DEPOSIT_TX\": 252, \"N\\u00b0 of depositing users\": 239, \"Time\": \"12/21  20:00\", \"Net amount deposited\": 696541.478864, \"N\\u00b0 of txs\": 260, \"N\\u00b0 of users\": 247, \"Withdrawn amount\": 7110.114164, \"WITH_TX\": 8, \"N\\u00b0 of withdrawing users\": 8}, {\"Amount deposited\": 747510.7314560001, \"DEPOSIT_TX\": 347, \"N\\u00b0 of depositing users\": 329, \"Time\": \"12/21  17:00\", \"Net amount deposited\": 742621.9179300001, \"N\\u00b0 of txs\": 353, \"N\\u00b0 of users\": 335, \"Withdrawn amount\": 4888.813526, \"WITH_TX\": 6, \"N\\u00b0 of withdrawing users\": 6}, {\"Amount deposited\": 252260.087849, \"DEPOSIT_TX\": 127, \"N\\u00b0 of depositing users\": 114, \"Time\": \"12/22  06:00\", \"Net amount deposited\": -58030.277552000014, \"N\\u00b0 of txs\": 141, \"N\\u00b0 of users\": 128, \"Withdrawn amount\": 310290.365401, \"WITH_TX\": 14, \"N\\u00b0 of withdrawing users\": 14}, {\"Amount deposited\": 306820.269019, \"DEPOSIT_TX\": 181, \"N\\u00b0 of depositing users\": 168, \"Time\": \"12/21  23:00\", \"Net amount deposited\": 297130.871337, \"N\\u00b0 of txs\": 185, \"N\\u00b0 of users\": 172, \"Withdrawn amount\": 9689.397681999999, \"WITH_TX\": 4, \"N\\u00b0 of withdrawing users\": 4}, {\"Amount deposited\": 281016.960555, \"DEPOSIT_TX\": 172, \"N\\u00b0 of depositing users\": 156, \"Time\": \"12/22  00:00\", \"Net amount deposited\": 279071.744362, \"N\\u00b0 of txs\": 179, \"N\\u00b0 of users\": 163, \"Withdrawn amount\": 1945.2161929999997, \"WITH_TX\": 7, \"N\\u00b0 of withdrawing users\": 7}, {\"Amount deposited\": 507105.038177, \"DEPOSIT_TX\": 394, \"N\\u00b0 of depositing users\": 363, \"Time\": \"12/21  16:00\", \"Net amount deposited\": 499805.038177, \"N\\u00b0 of txs\": 399, \"N\\u00b0 of users\": 368, \"Withdrawn amount\": 7300.0, \"WITH_TX\": 5, \"N\\u00b0 of withdrawing users\": 5}, {\"Amount deposited\": 794319.1185160001, \"DEPOSIT_TX\": 328, \"N\\u00b0 of depositing users\": 309, \"Time\": \"12/21  18:00\", \"Net amount deposited\": 748740.2374270001, \"N\\u00b0 of txs\": 335, \"N\\u00b0 of users\": 316, \"Withdrawn amount\": 45578.881089, \"WITH_TX\": 7, \"N\\u00b0 of withdrawing users\": 7}, {\"Amount deposited\": 1484186.7086600002, \"DEPOSIT_TX\": 377, \"N\\u00b0 of depositing users\": 351, \"Time\": \"12/21  14:00\", \"Net amount deposited\": 1472911.9011120002, \"N\\u00b0 of txs\": 389, \"N\\u00b0 of users\": 363, \"Withdrawn amount\": 11274.807548, \"WITH_TX\": 12, \"N\\u00b0 of withdrawing users\": 12}, {\"Amount deposited\": 142306.937226, \"DEPOSIT_TX\": 129, \"N\\u00b0 of depositing users\": 118, \"Time\": \"12/22  03:00\", \"Net amount deposited\": 138742.883697, \"N\\u00b0 of txs\": 138, \"N\\u00b0 of users\": 125, \"Withdrawn amount\": 3564.053529, \"WITH_TX\": 9, \"N\\u00b0 of withdrawing users\": 7}, {\"Amount deposited\": 246927.53408199997, \"DEPOSIT_TX\": 237, \"N\\u00b0 of depositing users\": 221, \"Time\": \"12/21  21:00\", \"Net amount deposited\": -161853.54591800005, \"N\\u00b0 of txs\": 244, \"N\\u00b0 of users\": 228, \"Withdrawn amount\": 408781.08, \"WITH_TX\": 7, \"N\\u00b0 of withdrawing users\": 7}, {\"Amount deposited\": 713458.3046569999, \"DEPOSIT_TX\": 396, \"N\\u00b0 of depositing users\": 357, \"Time\": \"12/21  13:00\", \"Net amount deposited\": 371131.90571999986, \"N\\u00b0 of txs\": 412, \"N\\u00b0 of users\": 372, \"Withdrawn amount\": 342326.398937, \"WITH_TX\": 16, \"N\\u00b0 of withdrawing users\": 15}]}}, {\"theme\": \"dark\", \"mode\": \"vega-lite\"});\n",
       "</script>"
      ],
      "text/plain": [
       "alt.Chart(...)"
      ]
     },
     "execution_count": 155,
     "metadata": {},
     "output_type": "execute_result"
    }
   ],
   "source": [
    "alt.Chart(hourly_stats_df.rename(columns=cols_dict)).mark_line(point=True).encode(\n",
    "    x=alt.X(cols_dict['HR']+':T', sort=alt.EncodingSortField(order='ascending')),\n",
    "    y=cols_dict['cumsum_ust']+\":Q\",\n",
    "    tooltip=[cols_dict['HR']+':T',cols_dict['cumsum_ust']+\":Q\"]\n",
    ").configure_mark(\n",
    "    color='#fab0ba'\n",
    ").properties(width=700).configure_axisX(\n",
    "    labelAngle=0\n",
    ").configure_view(strokeOpacity=0)"
   ]
  },
  {
   "cell_type": "code",
   "execution_count": 156,
   "metadata": {},
   "outputs": [],
   "source": [
    "prev_launches = '22bf0295-9733-46d6-ab98-1cb753552c6b'\n",
    "prev_launches_df = claim(prev_launches)"
   ]
  },
  {
   "cell_type": "code",
   "execution_count": 157,
   "metadata": {},
   "outputs": [
    {
     "data": {
      "text/html": [
       "<div>\n",
       "<style scoped>\n",
       "    .dataframe tbody tr th:only-of-type {\n",
       "        vertical-align: middle;\n",
       "    }\n",
       "\n",
       "    .dataframe tbody tr th {\n",
       "        vertical-align: top;\n",
       "    }\n",
       "\n",
       "    .dataframe thead th {\n",
       "        text-align: right;\n",
       "    }\n",
       "</style>\n",
       "<table border=\"1\" class=\"dataframe\">\n",
       "  <thead>\n",
       "    <tr style=\"text-align: right;\">\n",
       "      <th></th>\n",
       "      <th>PARTICIPANTS</th>\n",
       "      <th>PARTICIPATE_TYPE</th>\n",
       "      <th>TYPE</th>\n",
       "    </tr>\n",
       "  </thead>\n",
       "  <tbody>\n",
       "    <tr>\n",
       "      <th>0</th>\n",
       "      <td>161</td>\n",
       "      <td>In Prism Launch</td>\n",
       "      <td>Angel LBP</td>\n",
       "    </tr>\n",
       "    <tr>\n",
       "      <th>1</th>\n",
       "      <td>738</td>\n",
       "      <td>Not in Prism Launch</td>\n",
       "      <td>Angel LBP</td>\n",
       "    </tr>\n",
       "    <tr>\n",
       "      <th>2</th>\n",
       "      <td>1006</td>\n",
       "      <td>In Prism Launch</td>\n",
       "      <td>Whitewhale Bootswap</td>\n",
       "    </tr>\n",
       "    <tr>\n",
       "      <th>3</th>\n",
       "      <td>6200</td>\n",
       "      <td>Not in Prism Launch</td>\n",
       "      <td>Whitewhale Bootswap</td>\n",
       "    </tr>\n",
       "    <tr>\n",
       "      <th>4</th>\n",
       "      <td>5903</td>\n",
       "      <td>In Prism Launch</td>\n",
       "      <td>Astro-UST Bootstrap</td>\n",
       "    </tr>\n",
       "    <tr>\n",
       "      <th>5</th>\n",
       "      <td>11872</td>\n",
       "      <td>Not in Prism Launch</td>\n",
       "      <td>Astro-UST Bootstrap</td>\n",
       "    </tr>\n",
       "    <tr>\n",
       "      <th>6</th>\n",
       "      <td>517</td>\n",
       "      <td>In Prism Launch</td>\n",
       "      <td>Levana Meteor Shower</td>\n",
       "    </tr>\n",
       "    <tr>\n",
       "      <th>7</th>\n",
       "      <td>5822</td>\n",
       "      <td>Not in Prism Launch</td>\n",
       "      <td>Levana Meteor Shower</td>\n",
       "    </tr>\n",
       "    <tr>\n",
       "      <th>8</th>\n",
       "      <td>1498</td>\n",
       "      <td>In Prism Launch</td>\n",
       "      <td>Apollo tokens CFE</td>\n",
       "    </tr>\n",
       "    <tr>\n",
       "      <th>9</th>\n",
       "      <td>13794</td>\n",
       "      <td>Not in Prism Launch</td>\n",
       "      <td>Apollo tokens CFE</td>\n",
       "    </tr>\n",
       "    <tr>\n",
       "      <th>10</th>\n",
       "      <td>4739</td>\n",
       "      <td>In Prism Launch</td>\n",
       "      <td>Astroport Lockdrop</td>\n",
       "    </tr>\n",
       "    <tr>\n",
       "      <th>11</th>\n",
       "      <td>18640</td>\n",
       "      <td>Not in Prism Launch</td>\n",
       "      <td>Astroport Lockdrop</td>\n",
       "    </tr>\n",
       "    <tr>\n",
       "      <th>12</th>\n",
       "      <td>1154</td>\n",
       "      <td>In Prism Launch</td>\n",
       "      <td>Stader Plain Staking CFE</td>\n",
       "    </tr>\n",
       "    <tr>\n",
       "      <th>13</th>\n",
       "      <td>8312</td>\n",
       "      <td>Not in Prism Launch</td>\n",
       "      <td>Stader Plain Staking CFE</td>\n",
       "    </tr>\n",
       "  </tbody>\n",
       "</table>\n",
       "</div>"
      ],
      "text/plain": [
       "    PARTICIPANTS     PARTICIPATE_TYPE                      TYPE\n",
       "0            161      In Prism Launch                 Angel LBP\n",
       "1            738  Not in Prism Launch                 Angel LBP\n",
       "2           1006      In Prism Launch       Whitewhale Bootswap\n",
       "3           6200  Not in Prism Launch       Whitewhale Bootswap\n",
       "4           5903      In Prism Launch       Astro-UST Bootstrap\n",
       "5          11872  Not in Prism Launch       Astro-UST Bootstrap\n",
       "6            517      In Prism Launch      Levana Meteor Shower\n",
       "7           5822  Not in Prism Launch      Levana Meteor Shower\n",
       "8           1498      In Prism Launch         Apollo tokens CFE\n",
       "9          13794  Not in Prism Launch         Apollo tokens CFE\n",
       "10          4739      In Prism Launch        Astroport Lockdrop\n",
       "11         18640  Not in Prism Launch        Astroport Lockdrop\n",
       "12          1154      In Prism Launch  Stader Plain Staking CFE\n",
       "13          8312  Not in Prism Launch  Stader Plain Staking CFE"
      ]
     },
     "execution_count": 157,
     "metadata": {},
     "output_type": "execute_result"
    }
   ],
   "source": [
    "prev_launches_df"
   ]
  },
  {
   "cell_type": "code",
   "execution_count": 158,
   "metadata": {},
   "outputs": [
    {
     "data": {
      "text/html": [
       "\n",
       "<div id=\"altair-viz-a463cbac4775482eb7d83bd40db3c7d7\"></div>\n",
       "<script type=\"text/javascript\">\n",
       "  var VEGA_DEBUG = (typeof VEGA_DEBUG == \"undefined\") ? {} : VEGA_DEBUG;\n",
       "  (function(spec, embedOpt){\n",
       "    let outputDiv = document.currentScript.previousElementSibling;\n",
       "    if (outputDiv.id !== \"altair-viz-a463cbac4775482eb7d83bd40db3c7d7\") {\n",
       "      outputDiv = document.getElementById(\"altair-viz-a463cbac4775482eb7d83bd40db3c7d7\");\n",
       "    }\n",
       "    const paths = {\n",
       "      \"vega\": \"https://cdn.jsdelivr.net/npm//vega@5?noext\",\n",
       "      \"vega-lib\": \"https://cdn.jsdelivr.net/npm//vega-lib?noext\",\n",
       "      \"vega-lite\": \"https://cdn.jsdelivr.net/npm//vega-lite@4.17.0?noext\",\n",
       "      \"vega-embed\": \"https://cdn.jsdelivr.net/npm//vega-embed@6?noext\",\n",
       "    };\n",
       "\n",
       "    function maybeLoadScript(lib, version) {\n",
       "      var key = `${lib.replace(\"-\", \"\")}_version`;\n",
       "      return (VEGA_DEBUG[key] == version) ?\n",
       "        Promise.resolve(paths[lib]) :\n",
       "        new Promise(function(resolve, reject) {\n",
       "          var s = document.createElement('script');\n",
       "          document.getElementsByTagName(\"head\")[0].appendChild(s);\n",
       "          s.async = true;\n",
       "          s.onload = () => {\n",
       "            VEGA_DEBUG[key] = version;\n",
       "            return resolve(paths[lib]);\n",
       "          };\n",
       "          s.onerror = () => reject(`Error loading script: ${paths[lib]}`);\n",
       "          s.src = paths[lib];\n",
       "        });\n",
       "    }\n",
       "\n",
       "    function showError(err) {\n",
       "      outputDiv.innerHTML = `<div class=\"error\" style=\"color:red;\">${err}</div>`;\n",
       "      throw err;\n",
       "    }\n",
       "\n",
       "    function displayChart(vegaEmbed) {\n",
       "      vegaEmbed(outputDiv, spec, embedOpt)\n",
       "        .catch(err => showError(`Javascript Error: ${err.message}<br>This usually means there's a typo in your chart specification. See the javascript console for the full traceback.`));\n",
       "    }\n",
       "\n",
       "    if(typeof define === \"function\" && define.amd) {\n",
       "      requirejs.config({paths});\n",
       "      require([\"vega-embed\"], displayChart, err => showError(`Error loading script: ${err.message}`));\n",
       "    } else {\n",
       "      maybeLoadScript(\"vega\", \"5\")\n",
       "        .then(() => maybeLoadScript(\"vega-lite\", \"4.17.0\"))\n",
       "        .then(() => maybeLoadScript(\"vega-embed\", \"6\"))\n",
       "        .catch(showError)\n",
       "        .then(() => displayChart(vegaEmbed));\n",
       "    }\n",
       "  })({\"config\": {\"view\": {\"continuousWidth\": 400, \"continuousHeight\": 300}}, \"data\": {\"name\": \"data-5af56633694c8846b56d86ea53d9968d\"}, \"mark\": \"bar\", \"encoding\": {\"color\": {\"field\": \"PARTICIPATE_TYPE\", \"type\": \"nominal\"}, \"tooltip\": [{\"field\": \"TYPE\", \"type\": \"nominal\"}, {\"field\": \"PARTICIPANTS\", \"type\": \"quantitative\"}, {\"field\": \"PARTICIPATE_TYPE\", \"type\": \"nominal\"}], \"x\": {\"field\": \"PARTICIPANTS\", \"type\": \"quantitative\"}, \"y\": {\"field\": \"TYPE\", \"type\": \"nominal\"}}, \"$schema\": \"https://vega.github.io/schema/vega-lite/v4.17.0.json\", \"datasets\": {\"data-5af56633694c8846b56d86ea53d9968d\": [{\"PARTICIPANTS\": 161, \"PARTICIPATE_TYPE\": \"In Prism Launch\", \"TYPE\": \"Angel LBP\"}, {\"PARTICIPANTS\": 738, \"PARTICIPATE_TYPE\": \"Not in Prism Launch\", \"TYPE\": \"Angel LBP\"}, {\"PARTICIPANTS\": 1006, \"PARTICIPATE_TYPE\": \"In Prism Launch\", \"TYPE\": \"Whitewhale Bootswap\"}, {\"PARTICIPANTS\": 6200, \"PARTICIPATE_TYPE\": \"Not in Prism Launch\", \"TYPE\": \"Whitewhale Bootswap\"}, {\"PARTICIPANTS\": 5903, \"PARTICIPATE_TYPE\": \"In Prism Launch\", \"TYPE\": \"Astro-UST Bootstrap\"}, {\"PARTICIPANTS\": 11872, \"PARTICIPATE_TYPE\": \"Not in Prism Launch\", \"TYPE\": \"Astro-UST Bootstrap\"}, {\"PARTICIPANTS\": 517, \"PARTICIPATE_TYPE\": \"In Prism Launch\", \"TYPE\": \"Levana Meteor Shower\"}, {\"PARTICIPANTS\": 5822, \"PARTICIPATE_TYPE\": \"Not in Prism Launch\", \"TYPE\": \"Levana Meteor Shower\"}, {\"PARTICIPANTS\": 1498, \"PARTICIPATE_TYPE\": \"In Prism Launch\", \"TYPE\": \"Apollo tokens CFE\"}, {\"PARTICIPANTS\": 13794, \"PARTICIPATE_TYPE\": \"Not in Prism Launch\", \"TYPE\": \"Apollo tokens CFE\"}, {\"PARTICIPANTS\": 4739, \"PARTICIPATE_TYPE\": \"In Prism Launch\", \"TYPE\": \"Astroport Lockdrop\"}, {\"PARTICIPANTS\": 18640, \"PARTICIPATE_TYPE\": \"Not in Prism Launch\", \"TYPE\": \"Astroport Lockdrop\"}, {\"PARTICIPANTS\": 1154, \"PARTICIPATE_TYPE\": \"In Prism Launch\", \"TYPE\": \"Stader Plain Staking CFE\"}, {\"PARTICIPANTS\": 8312, \"PARTICIPATE_TYPE\": \"Not in Prism Launch\", \"TYPE\": \"Stader Plain Staking CFE\"}]}}, {\"theme\": \"dark\", \"mode\": \"vega-lite\"});\n",
       "</script>"
      ],
      "text/plain": [
       "alt.Chart(...)"
      ]
     },
     "execution_count": 158,
     "metadata": {},
     "output_type": "execute_result"
    }
   ],
   "source": [
    "alt.Chart(prev_launches_df).mark_bar().encode(\n",
    "    y='TYPE',\n",
    "    x='PARTICIPANTS',\n",
    "    color='PARTICIPATE_TYPE',\n",
    "    tooltip=['TYPE','PARTICIPANTS','PARTICIPATE_TYPE']\n",
    ")"
   ]
  },
  {
   "cell_type": "code",
   "execution_count": 159,
   "metadata": {},
   "outputs": [
    {
     "data": {
      "text/html": [
       "<div>\n",
       "<style scoped>\n",
       "    .dataframe tbody tr th:only-of-type {\n",
       "        vertical-align: middle;\n",
       "    }\n",
       "\n",
       "    .dataframe tbody tr th {\n",
       "        vertical-align: top;\n",
       "    }\n",
       "\n",
       "    .dataframe thead th {\n",
       "        text-align: right;\n",
       "    }\n",
       "</style>\n",
       "<table border=\"1\" class=\"dataframe\">\n",
       "  <thead>\n",
       "    <tr style=\"text-align: right;\">\n",
       "      <th></th>\n",
       "      <th>BUCKET</th>\n",
       "      <th>N_USERS</th>\n",
       "      <th>bucket_name</th>\n",
       "    </tr>\n",
       "  </thead>\n",
       "  <tbody>\n",
       "    <tr>\n",
       "      <th>6</th>\n",
       "      <td>0</td>\n",
       "      <td>32</td>\n",
       "      <td>-$0</td>\n",
       "    </tr>\n",
       "    <tr>\n",
       "      <th>0</th>\n",
       "      <td>1</td>\n",
       "      <td>733</td>\n",
       "      <td>$0-$10</td>\n",
       "    </tr>\n",
       "    <tr>\n",
       "      <th>4</th>\n",
       "      <td>2</td>\n",
       "      <td>1733</td>\n",
       "      <td>$10-$100</td>\n",
       "    </tr>\n",
       "    <tr>\n",
       "      <th>5</th>\n",
       "      <td>3</td>\n",
       "      <td>2239</td>\n",
       "      <td>$100-$1k</td>\n",
       "    </tr>\n",
       "    <tr>\n",
       "      <th>3</th>\n",
       "      <td>4</td>\n",
       "      <td>995</td>\n",
       "      <td>$1k-$10k</td>\n",
       "    </tr>\n",
       "    <tr>\n",
       "      <th>2</th>\n",
       "      <td>5</td>\n",
       "      <td>158</td>\n",
       "      <td>$10k-$100k</td>\n",
       "    </tr>\n",
       "    <tr>\n",
       "      <th>7</th>\n",
       "      <td>6</td>\n",
       "      <td>11</td>\n",
       "      <td>$100k-$1m</td>\n",
       "    </tr>\n",
       "    <tr>\n",
       "      <th>1</th>\n",
       "      <td>7</td>\n",
       "      <td>2</td>\n",
       "      <td>$1m-</td>\n",
       "    </tr>\n",
       "  </tbody>\n",
       "</table>\n",
       "</div>"
      ],
      "text/plain": [
       "   BUCKET  N_USERS bucket_name\n",
       "6       0       32         -$0\n",
       "0       1      733      $0-$10\n",
       "4       2     1733    $10-$100\n",
       "5       3     2239    $100-$1k\n",
       "3       4      995    $1k-$10k\n",
       "2       5      158  $10k-$100k\n",
       "7       6       11   $100k-$1m\n",
       "1       7        2        $1m-"
      ]
     },
     "execution_count": 159,
     "metadata": {},
     "output_type": "execute_result"
    }
   ],
   "source": [
    "deposits_bucket_df['bucket_name']=deposits_bucket_df.BUCKET.map({0:'-$0',1:'$0-$10',2:'$10-$100',3:'$100-$1k',4:'$1k-$10k',\n",
    "                               5:'$10k-$100k',6:'$100k-$1m',7:'$1m-'})\n",
    "deposits_bucket_df.sort_values(by='BUCKET')"
   ]
  },
  {
   "cell_type": "code",
   "execution_count": 160,
   "metadata": {},
   "outputs": [
    {
     "data": {
      "text/html": [
       "<div>\n",
       "<style scoped>\n",
       "    .dataframe tbody tr th:only-of-type {\n",
       "        vertical-align: middle;\n",
       "    }\n",
       "\n",
       "    .dataframe tbody tr th {\n",
       "        vertical-align: top;\n",
       "    }\n",
       "\n",
       "    .dataframe thead th {\n",
       "        text-align: right;\n",
       "    }\n",
       "</style>\n",
       "<table border=\"1\" class=\"dataframe\">\n",
       "  <thead>\n",
       "    <tr style=\"text-align: right;\">\n",
       "      <th></th>\n",
       "      <th>DEPOSIT_AMOUNT</th>\n",
       "      <th>DEPOSIT_TXS</th>\n",
       "      <th>SENDER</th>\n",
       "      <th>WITHDRAWN_AMOUNT</th>\n",
       "      <th>WITHDRAW_TXS</th>\n",
       "    </tr>\n",
       "  </thead>\n",
       "  <tbody>\n",
       "  </tbody>\n",
       "</table>\n",
       "</div>"
      ],
      "text/plain": [
       "Empty DataFrame\n",
       "Columns: [DEPOSIT_AMOUNT, DEPOSIT_TXS, SENDER, WITHDRAWN_AMOUNT, WITHDRAW_TXS]\n",
       "Index: []"
      ]
     },
     "execution_count": 160,
     "metadata": {},
     "output_type": "execute_result"
    }
   ],
   "source": [
    "user_stats_df"
   ]
  },
  {
   "cell_type": "code",
   "execution_count": 161,
   "metadata": {},
   "outputs": [
    {
     "data": {
      "text/html": [
       "<div>\n",
       "<style scoped>\n",
       "    .dataframe tbody tr th:only-of-type {\n",
       "        vertical-align: middle;\n",
       "    }\n",
       "\n",
       "    .dataframe tbody tr th {\n",
       "        vertical-align: top;\n",
       "    }\n",
       "\n",
       "    .dataframe thead th {\n",
       "        text-align: right;\n",
       "    }\n",
       "</style>\n",
       "<table border=\"1\" class=\"dataframe\">\n",
       "  <thead>\n",
       "    <tr style=\"text-align: right;\">\n",
       "      <th></th>\n",
       "      <th>index</th>\n",
       "      <th>N° of users</th>\n",
       "    </tr>\n",
       "  </thead>\n",
       "  <tbody>\n",
       "  </tbody>\n",
       "</table>\n",
       "</div>"
      ],
      "text/plain": [
       "Empty DataFrame\n",
       "Columns: [index, N° of users]\n",
       "Index: []"
      ]
     },
     "execution_count": 161,
     "metadata": {},
     "output_type": "execute_result"
    }
   ],
   "source": [
    "df = user_stats_df.rename(columns=cols_dict)[cols_dict['DEPOSIT_TXS']]\\\n",
    "    .value_counts().sort_index().rename('N° of users').reset_index()\n",
    "df"
   ]
  },
  {
   "cell_type": "code",
   "execution_count": 162,
   "metadata": {},
   "outputs": [
    {
     "name": "stderr",
     "output_type": "stream",
     "text": [
      "/Users/alexincerti/Library/Python/3.8/lib/python/site-packages/altair/utils/core.py:219: UserWarning: I don't know how to infer vegalite type from 'empty'.  Defaulting to nominal.\n",
      "  warnings.warn(\n"
     ]
    },
    {
     "data": {
      "text/html": [
       "\n",
       "<div id=\"altair-viz-01d7c585bc904ef7baec38395d47689f\"></div>\n",
       "<script type=\"text/javascript\">\n",
       "  var VEGA_DEBUG = (typeof VEGA_DEBUG == \"undefined\") ? {} : VEGA_DEBUG;\n",
       "  (function(spec, embedOpt){\n",
       "    let outputDiv = document.currentScript.previousElementSibling;\n",
       "    if (outputDiv.id !== \"altair-viz-01d7c585bc904ef7baec38395d47689f\") {\n",
       "      outputDiv = document.getElementById(\"altair-viz-01d7c585bc904ef7baec38395d47689f\");\n",
       "    }\n",
       "    const paths = {\n",
       "      \"vega\": \"https://cdn.jsdelivr.net/npm//vega@5?noext\",\n",
       "      \"vega-lib\": \"https://cdn.jsdelivr.net/npm//vega-lib?noext\",\n",
       "      \"vega-lite\": \"https://cdn.jsdelivr.net/npm//vega-lite@4.17.0?noext\",\n",
       "      \"vega-embed\": \"https://cdn.jsdelivr.net/npm//vega-embed@6?noext\",\n",
       "    };\n",
       "\n",
       "    function maybeLoadScript(lib, version) {\n",
       "      var key = `${lib.replace(\"-\", \"\")}_version`;\n",
       "      return (VEGA_DEBUG[key] == version) ?\n",
       "        Promise.resolve(paths[lib]) :\n",
       "        new Promise(function(resolve, reject) {\n",
       "          var s = document.createElement('script');\n",
       "          document.getElementsByTagName(\"head\")[0].appendChild(s);\n",
       "          s.async = true;\n",
       "          s.onload = () => {\n",
       "            VEGA_DEBUG[key] = version;\n",
       "            return resolve(paths[lib]);\n",
       "          };\n",
       "          s.onerror = () => reject(`Error loading script: ${paths[lib]}`);\n",
       "          s.src = paths[lib];\n",
       "        });\n",
       "    }\n",
       "\n",
       "    function showError(err) {\n",
       "      outputDiv.innerHTML = `<div class=\"error\" style=\"color:red;\">${err}</div>`;\n",
       "      throw err;\n",
       "    }\n",
       "\n",
       "    function displayChart(vegaEmbed) {\n",
       "      vegaEmbed(outputDiv, spec, embedOpt)\n",
       "        .catch(err => showError(`Javascript Error: ${err.message}<br>This usually means there's a typo in your chart specification. See the javascript console for the full traceback.`));\n",
       "    }\n",
       "\n",
       "    if(typeof define === \"function\" && define.amd) {\n",
       "      requirejs.config({paths});\n",
       "      require([\"vega-embed\"], displayChart, err => showError(`Error loading script: ${err.message}`));\n",
       "    } else {\n",
       "      maybeLoadScript(\"vega\", \"5\")\n",
       "        .then(() => maybeLoadScript(\"vega-lite\", \"4.17.0\"))\n",
       "        .then(() => maybeLoadScript(\"vega-embed\", \"6\"))\n",
       "        .catch(showError)\n",
       "        .then(() => displayChart(vegaEmbed));\n",
       "    }\n",
       "  })({\"config\": {\"view\": {\"continuousWidth\": 400, \"continuousHeight\": 300}}, \"data\": {\"name\": \"data-d751713988987e9331980363e24189ce\"}, \"mark\": \"line\", \"encoding\": {\"x\": {\"field\": \"index\", \"type\": \"nominal\"}, \"y\": {\"field\": \"N\\u00b0 of deposit txs\", \"type\": \"quantitative\"}}, \"$schema\": \"https://vega.github.io/schema/vega-lite/v4.17.0.json\", \"datasets\": {\"data-d751713988987e9331980363e24189ce\": []}}, {\"theme\": \"dark\", \"mode\": \"vega-lite\"});\n",
       "</script>"
      ],
      "text/plain": [
       "alt.Chart(...)"
      ]
     },
     "execution_count": 162,
     "metadata": {},
     "output_type": "execute_result"
    }
   ],
   "source": [
    "alt.Chart(df).mark_line().encode(\n",
    "    x='index',\n",
    "    y=cols_dict['DEPOSIT_TXS']+\":Q\"\n",
    ")"
   ]
  },
  {
   "cell_type": "code",
   "execution_count": 163,
   "metadata": {},
   "outputs": [
    {
     "data": {
      "text/html": [
       "<div>\n",
       "<style scoped>\n",
       "    .dataframe tbody tr th:only-of-type {\n",
       "        vertical-align: middle;\n",
       "    }\n",
       "\n",
       "    .dataframe tbody tr th {\n",
       "        vertical-align: top;\n",
       "    }\n",
       "\n",
       "    .dataframe thead th {\n",
       "        text-align: right;\n",
       "    }\n",
       "</style>\n",
       "<table border=\"1\" class=\"dataframe\">\n",
       "  <thead>\n",
       "    <tr style=\"text-align: right;\">\n",
       "      <th></th>\n",
       "      <th>Deposit range</th>\n",
       "      <th>N° of users</th>\n",
       "      <th>bucket_name</th>\n",
       "    </tr>\n",
       "  </thead>\n",
       "  <tbody>\n",
       "    <tr>\n",
       "      <th>0</th>\n",
       "      <td>1</td>\n",
       "      <td>733</td>\n",
       "      <td>$0-$10</td>\n",
       "    </tr>\n",
       "    <tr>\n",
       "      <th>1</th>\n",
       "      <td>7</td>\n",
       "      <td>2</td>\n",
       "      <td>$1m-</td>\n",
       "    </tr>\n",
       "    <tr>\n",
       "      <th>2</th>\n",
       "      <td>5</td>\n",
       "      <td>158</td>\n",
       "      <td>$10k-$100k</td>\n",
       "    </tr>\n",
       "    <tr>\n",
       "      <th>3</th>\n",
       "      <td>4</td>\n",
       "      <td>995</td>\n",
       "      <td>$1k-$10k</td>\n",
       "    </tr>\n",
       "    <tr>\n",
       "      <th>4</th>\n",
       "      <td>2</td>\n",
       "      <td>1733</td>\n",
       "      <td>$10-$100</td>\n",
       "    </tr>\n",
       "    <tr>\n",
       "      <th>5</th>\n",
       "      <td>3</td>\n",
       "      <td>2239</td>\n",
       "      <td>$100-$1k</td>\n",
       "    </tr>\n",
       "    <tr>\n",
       "      <th>6</th>\n",
       "      <td>0</td>\n",
       "      <td>32</td>\n",
       "      <td>-$0</td>\n",
       "    </tr>\n",
       "    <tr>\n",
       "      <th>7</th>\n",
       "      <td>6</td>\n",
       "      <td>11</td>\n",
       "      <td>$100k-$1m</td>\n",
       "    </tr>\n",
       "  </tbody>\n",
       "</table>\n",
       "</div>"
      ],
      "text/plain": [
       "   Deposit range  N° of users bucket_name\n",
       "0              1          733      $0-$10\n",
       "1              7            2        $1m-\n",
       "2              5          158  $10k-$100k\n",
       "3              4          995    $1k-$10k\n",
       "4              2         1733    $10-$100\n",
       "5              3         2239    $100-$1k\n",
       "6              0           32         -$0\n",
       "7              6           11   $100k-$1m"
      ]
     },
     "execution_count": 163,
     "metadata": {},
     "output_type": "execute_result"
    }
   ],
   "source": [
    "deposits_bucket_df.rename(columns=cols_dict)"
   ]
  },
  {
   "cell_type": "code",
   "execution_count": 173,
   "metadata": {},
   "outputs": [
    {
     "data": {
      "text/html": [
       "\n",
       "<div id=\"altair-viz-841264b330484088ad26f39d83016ca8\"></div>\n",
       "<script type=\"text/javascript\">\n",
       "  var VEGA_DEBUG = (typeof VEGA_DEBUG == \"undefined\") ? {} : VEGA_DEBUG;\n",
       "  (function(spec, embedOpt){\n",
       "    let outputDiv = document.currentScript.previousElementSibling;\n",
       "    if (outputDiv.id !== \"altair-viz-841264b330484088ad26f39d83016ca8\") {\n",
       "      outputDiv = document.getElementById(\"altair-viz-841264b330484088ad26f39d83016ca8\");\n",
       "    }\n",
       "    const paths = {\n",
       "      \"vega\": \"https://cdn.jsdelivr.net/npm//vega@5?noext\",\n",
       "      \"vega-lib\": \"https://cdn.jsdelivr.net/npm//vega-lib?noext\",\n",
       "      \"vega-lite\": \"https://cdn.jsdelivr.net/npm//vega-lite@4.17.0?noext\",\n",
       "      \"vega-embed\": \"https://cdn.jsdelivr.net/npm//vega-embed@6?noext\",\n",
       "    };\n",
       "\n",
       "    function maybeLoadScript(lib, version) {\n",
       "      var key = `${lib.replace(\"-\", \"\")}_version`;\n",
       "      return (VEGA_DEBUG[key] == version) ?\n",
       "        Promise.resolve(paths[lib]) :\n",
       "        new Promise(function(resolve, reject) {\n",
       "          var s = document.createElement('script');\n",
       "          document.getElementsByTagName(\"head\")[0].appendChild(s);\n",
       "          s.async = true;\n",
       "          s.onload = () => {\n",
       "            VEGA_DEBUG[key] = version;\n",
       "            return resolve(paths[lib]);\n",
       "          };\n",
       "          s.onerror = () => reject(`Error loading script: ${paths[lib]}`);\n",
       "          s.src = paths[lib];\n",
       "        });\n",
       "    }\n",
       "\n",
       "    function showError(err) {\n",
       "      outputDiv.innerHTML = `<div class=\"error\" style=\"color:red;\">${err}</div>`;\n",
       "      throw err;\n",
       "    }\n",
       "\n",
       "    function displayChart(vegaEmbed) {\n",
       "      vegaEmbed(outputDiv, spec, embedOpt)\n",
       "        .catch(err => showError(`Javascript Error: ${err.message}<br>This usually means there's a typo in your chart specification. See the javascript console for the full traceback.`));\n",
       "    }\n",
       "\n",
       "    if(typeof define === \"function\" && define.amd) {\n",
       "      requirejs.config({paths});\n",
       "      require([\"vega-embed\"], displayChart, err => showError(`Error loading script: ${err.message}`));\n",
       "    } else {\n",
       "      maybeLoadScript(\"vega\", \"5\")\n",
       "        .then(() => maybeLoadScript(\"vega-lite\", \"4.17.0\"))\n",
       "        .then(() => maybeLoadScript(\"vega-embed\", \"6\"))\n",
       "        .catch(showError)\n",
       "        .then(() => displayChart(vegaEmbed));\n",
       "    }\n",
       "  })({\"config\": {\"view\": {\"continuousWidth\": 400, \"continuousHeight\": 300, \"strokeOpacity\": 0}, \"axisX\": {\"labelAngle\": 0}, \"mark\": {\"color\": \"#fab0ba\"}}, \"data\": {\"name\": \"data-4001d3590450edd8a38f5e36211abb12\"}, \"mark\": \"bar\", \"encoding\": {\"tooltip\": [{\"field\": \"Deposit bucket\", \"type\": \"nominal\"}, {\"field\": \"N\\u00b0 of users\", \"type\": \"quantitative\"}], \"x\": {\"field\": \"Deposit bucket\", \"sort\": {\"order\": \"ascending\"}, \"type\": \"nominal\"}, \"y\": {\"field\": \"N\\u00b0 of users\", \"type\": \"quantitative\"}}, \"selection\": {\"selector021\": {\"type\": \"interval\", \"bind\": \"scales\", \"encodings\": [\"x\", \"y\"]}}, \"width\": 700, \"$schema\": \"https://vega.github.io/schema/vega-lite/v4.17.0.json\", \"datasets\": {\"data-4001d3590450edd8a38f5e36211abb12\": [{\"Deposit range\": 0, \"N\\u00b0 of users\": 32, \"Deposit bucket\": \"-$0\"}, {\"Deposit range\": 1, \"N\\u00b0 of users\": 733, \"Deposit bucket\": \"$0-$10\"}, {\"Deposit range\": 2, \"N\\u00b0 of users\": 1733, \"Deposit bucket\": \"$10-$100\"}, {\"Deposit range\": 3, \"N\\u00b0 of users\": 2239, \"Deposit bucket\": \"$100-$1k\"}, {\"Deposit range\": 4, \"N\\u00b0 of users\": 995, \"Deposit bucket\": \"$1k-$10k\"}, {\"Deposit range\": 5, \"N\\u00b0 of users\": 158, \"Deposit bucket\": \"$10k-$100k\"}, {\"Deposit range\": 6, \"N\\u00b0 of users\": 11, \"Deposit bucket\": \"$100k-$1m\"}, {\"Deposit range\": 7, \"N\\u00b0 of users\": 2, \"Deposit bucket\": \"$1m-\"}]}}, {\"theme\": \"dark\", \"mode\": \"vega-lite\"});\n",
       "</script>"
      ],
      "text/plain": [
       "alt.Chart(...)"
      ]
     },
     "execution_count": 173,
     "metadata": {},
     "output_type": "execute_result"
    }
   ],
   "source": [
    "alt.Chart(deposits_bucket_df.sort_values(by='BUCKET').rename(columns=cols_dict)).mark_bar().encode(\n",
    "    x=alt.X(cols_dict['bucket_name']+\":N\", sort=alt.EncodingSortField(order='ascending')),\n",
    "    y=cols_dict['N_USERS']+\":Q\",\n",
    "    tooltip=[cols_dict['bucket_name']+\":N\",cols_dict['N_USERS']+\":Q\"]\n",
    ").configure_mark(\n",
    "    color='#fab0ba'\n",
    ").properties(width=700).configure_axisX(\n",
    "    labelAngle=0\n",
    ").configure_view(strokeOpacity=0).interactive()"
   ]
  },
  {
   "cell_type": "code",
   "execution_count": 127,
   "metadata": {},
   "outputs": [
    {
     "data": {
      "text/plain": [
       "0"
      ]
     },
     "execution_count": 127,
     "metadata": {},
     "output_type": "execute_result"
    }
   ],
   "source": [
    "user_stats_df.SENDER.nunique()"
   ]
  },
  {
   "cell_type": "code",
   "execution_count": 128,
   "metadata": {},
   "outputs": [
    {
     "data": {
      "text/plain": [
       "0"
      ]
     },
     "execution_count": 128,
     "metadata": {},
     "output_type": "execute_result"
    }
   ],
   "source": [
    "user_stats_df.DEPOSIT_TXS.sum() + user_stats_df.WITHDRAW_TXS.sum()"
   ]
  },
  {
   "cell_type": "code",
   "execution_count": 129,
   "metadata": {},
   "outputs": [
    {
     "data": {
      "text/plain": [
       "0"
      ]
     },
     "execution_count": 129,
     "metadata": {},
     "output_type": "execute_result"
    }
   ],
   "source": [
    "user_stats_df.DEPOSIT_AMOUNT.sum() - user_stats_df.WITHDRAWN_AMOUNT.sum()"
   ]
  },
  {
   "cell_type": "code",
   "execution_count": 130,
   "metadata": {},
   "outputs": [
    {
     "data": {
      "text/html": [
       "<div>\n",
       "<style scoped>\n",
       "    .dataframe tbody tr th:only-of-type {\n",
       "        vertical-align: middle;\n",
       "    }\n",
       "\n",
       "    .dataframe tbody tr th {\n",
       "        vertical-align: top;\n",
       "    }\n",
       "\n",
       "    .dataframe thead th {\n",
       "        text-align: right;\n",
       "    }\n",
       "</style>\n",
       "<table border=\"1\" class=\"dataframe\">\n",
       "  <thead>\n",
       "    <tr style=\"text-align: right;\">\n",
       "      <th></th>\n",
       "      <th>DEPOSIT_AMOUNT</th>\n",
       "      <th>DEPOSIT_TXS</th>\n",
       "      <th>SENDER</th>\n",
       "      <th>WITHDRAWN_AMOUNT</th>\n",
       "      <th>WITHDRAW_TXS</th>\n",
       "    </tr>\n",
       "  </thead>\n",
       "  <tbody>\n",
       "  </tbody>\n",
       "</table>\n",
       "</div>"
      ],
      "text/plain": [
       "Empty DataFrame\n",
       "Columns: [DEPOSIT_AMOUNT, DEPOSIT_TXS, SENDER, WITHDRAWN_AMOUNT, WITHDRAW_TXS]\n",
       "Index: []"
      ]
     },
     "execution_count": 130,
     "metadata": {},
     "output_type": "execute_result"
    }
   ],
   "source": [
    "user_stats_df"
   ]
  },
  {
   "cell_type": "code",
   "execution_count": 131,
   "metadata": {},
   "outputs": [
    {
     "ename": "NameError",
     "evalue": "name 'deposit_balance_df' is not defined",
     "output_type": "error",
     "traceback": [
      "\u001b[0;31m---------------------------------------------------------------------------\u001b[0m",
      "\u001b[0;31mNameError\u001b[0m                                 Traceback (most recent call last)",
      "\u001b[0;32m<ipython-input-131-63f0d11d174a>\u001b[0m in \u001b[0;36m<module>\u001b[0;34m\u001b[0m\n\u001b[0;32m----> 1\u001b[0;31m \u001b[0mdeposit_balance_df\u001b[0m\u001b[0;34m\u001b[0m\u001b[0;34m\u001b[0m\u001b[0m\n\u001b[0m",
      "\u001b[0;31mNameError\u001b[0m: name 'deposit_balance_df' is not defined"
     ]
    }
   ],
   "source": [
    "deposit_balance_df"
   ]
  },
  {
   "cell_type": "code",
   "execution_count": 126,
   "metadata": {},
   "outputs": [
    {
     "ename": "NameError",
     "evalue": "name 'deposit_balance_df' is not defined",
     "output_type": "error",
     "traceback": [
      "\u001b[0;31m---------------------------------------------------------------------------\u001b[0m",
      "\u001b[0;31mNameError\u001b[0m                                 Traceback (most recent call last)",
      "\u001b[0;32m<ipython-input-126-90a11645d702>\u001b[0m in \u001b[0;36m<module>\u001b[0;34m\u001b[0m\n\u001b[0;32m----> 1\u001b[0;31m \u001b[0mdf\u001b[0m \u001b[0;34m=\u001b[0m \u001b[0mdeposit_balance_df\u001b[0m\u001b[0;34m.\u001b[0m\u001b[0mrename\u001b[0m\u001b[0;34m(\u001b[0m\u001b[0mcolumns\u001b[0m\u001b[0;34m=\u001b[0m\u001b[0mcols_dict\u001b[0m\u001b[0;34m)\u001b[0m\u001b[0;34m\u001b[0m\u001b[0;34m\u001b[0m\u001b[0m\n\u001b[0m\u001b[1;32m      2\u001b[0m c =alt.Chart(df.head(5000)).mark_point().encode(\n\u001b[1;32m      3\u001b[0m   \u001b[0my\u001b[0m\u001b[0;34m=\u001b[0m\u001b[0mcols_dict\u001b[0m\u001b[0;34m[\u001b[0m\u001b[0;34m'AMOUNT'\u001b[0m\u001b[0;34m]\u001b[0m\u001b[0;34m+\u001b[0m\u001b[0;34m\":Q\"\u001b[0m\u001b[0;34m,\u001b[0m\u001b[0;34m\u001b[0m\u001b[0;34m\u001b[0m\u001b[0m\n\u001b[1;32m      4\u001b[0m   \u001b[0mx\u001b[0m\u001b[0;34m=\u001b[0m\u001b[0mcols_dict\u001b[0m\u001b[0;34m[\u001b[0m\u001b[0;34m'AVG_BALANCE_USD'\u001b[0m\u001b[0;34m]\u001b[0m\u001b[0;34m+\u001b[0m\u001b[0;34m\":Q\"\u001b[0m\u001b[0;34m,\u001b[0m\u001b[0;34m\u001b[0m\u001b[0;34m\u001b[0m\u001b[0m\n\u001b[1;32m      5\u001b[0m   color=alt.Color(cols_dict['N_TXS'],\n",
      "\u001b[0;31mNameError\u001b[0m: name 'deposit_balance_df' is not defined"
     ]
    }
   ],
   "source": [
    "df = deposit_balance_df.rename(columns=cols_dict)\n",
    "c =alt.Chart(df.head(5000)).mark_point().encode(\n",
    "  y=cols_dict['AMOUNT']+\":Q\",\n",
    "  x=cols_dict['AVG_BALANCE_USD']+\":Q\",\n",
    "  color=alt.Color(cols_dict['N_TXS'],\n",
    "          scale=alt.Scale(scheme='yelloworangered')),\n",
    "  tooltip=[cols_dict['SENDER'], cols_dict['AMOUNT'],\n",
    "           cols_dict['AVG_BALANCE_USD']+\":Q\",\n",
    "          cols_dict['N_TXS']+\":Q\"]\n",
    ").interactive()\n",
    "c"
   ]
  },
  {
   "cell_type": "code",
   "execution_count": 49,
   "metadata": {},
   "outputs": [
    {
     "data": {
      "text/html": [
       "<div>\n",
       "<style scoped>\n",
       "    .dataframe tbody tr th:only-of-type {\n",
       "        vertical-align: middle;\n",
       "    }\n",
       "\n",
       "    .dataframe tbody tr th {\n",
       "        vertical-align: top;\n",
       "    }\n",
       "\n",
       "    .dataframe thead th {\n",
       "        text-align: right;\n",
       "    }\n",
       "</style>\n",
       "<table border=\"1\" class=\"dataframe\">\n",
       "  <thead>\n",
       "    <tr style=\"text-align: right;\">\n",
       "      <th></th>\n",
       "      <th>DEPOSIT_AMOUNT</th>\n",
       "      <th>DEPOSIT_TX</th>\n",
       "      <th>DEP_USERS</th>\n",
       "      <th>HR</th>\n",
       "      <th>NET_AMOUNT</th>\n",
       "      <th>TOT_TXS</th>\n",
       "      <th>TOT_USERS</th>\n",
       "      <th>WITH_AMOUNT</th>\n",
       "      <th>WITH_TX</th>\n",
       "      <th>WITH_USERS</th>\n",
       "    </tr>\n",
       "  </thead>\n",
       "  <tbody>\n",
       "    <tr>\n",
       "      <th>0</th>\n",
       "      <td>2.328488e+05</td>\n",
       "      <td>148</td>\n",
       "      <td>140</td>\n",
       "      <td>12/22  02:00</td>\n",
       "      <td>1.873470e+05</td>\n",
       "      <td>156</td>\n",
       "      <td>148</td>\n",
       "      <td>45501.740000</td>\n",
       "      <td>8</td>\n",
       "      <td>8</td>\n",
       "    </tr>\n",
       "    <tr>\n",
       "      <th>1</th>\n",
       "      <td>1.442645e+06</td>\n",
       "      <td>615</td>\n",
       "      <td>547</td>\n",
       "      <td>12/21  08:00</td>\n",
       "      <td>1.437190e+06</td>\n",
       "      <td>632</td>\n",
       "      <td>563</td>\n",
       "      <td>5455.684286</td>\n",
       "      <td>17</td>\n",
       "      <td>16</td>\n",
       "    </tr>\n",
       "    <tr>\n",
       "      <th>2</th>\n",
       "      <td>1.250386e+06</td>\n",
       "      <td>295</td>\n",
       "      <td>278</td>\n",
       "      <td>12/21  19:00</td>\n",
       "      <td>1.206267e+06</td>\n",
       "      <td>305</td>\n",
       "      <td>288</td>\n",
       "      <td>44119.005417</td>\n",
       "      <td>10</td>\n",
       "      <td>10</td>\n",
       "    </tr>\n",
       "    <tr>\n",
       "      <th>3</th>\n",
       "      <td>4.323585e+05</td>\n",
       "      <td>141</td>\n",
       "      <td>129</td>\n",
       "      <td>12/22  01:00</td>\n",
       "      <td>4.320255e+05</td>\n",
       "      <td>143</td>\n",
       "      <td>131</td>\n",
       "      <td>332.983898</td>\n",
       "      <td>2</td>\n",
       "      <td>2</td>\n",
       "    </tr>\n",
       "    <tr>\n",
       "      <th>4</th>\n",
       "      <td>3.029566e+05</td>\n",
       "      <td>176</td>\n",
       "      <td>165</td>\n",
       "      <td>12/21  22:00</td>\n",
       "      <td>2.896922e+05</td>\n",
       "      <td>180</td>\n",
       "      <td>169</td>\n",
       "      <td>13264.480000</td>\n",
       "      <td>4</td>\n",
       "      <td>4</td>\n",
       "    </tr>\n",
       "  </tbody>\n",
       "</table>\n",
       "</div>"
      ],
      "text/plain": [
       "   DEPOSIT_AMOUNT  DEPOSIT_TX  DEP_USERS            HR    NET_AMOUNT  TOT_TXS  \\\n",
       "0    2.328488e+05         148        140  12/22  02:00  1.873470e+05      156   \n",
       "1    1.442645e+06         615        547  12/21  08:00  1.437190e+06      632   \n",
       "2    1.250386e+06         295        278  12/21  19:00  1.206267e+06      305   \n",
       "3    4.323585e+05         141        129  12/22  01:00  4.320255e+05      143   \n",
       "4    3.029566e+05         176        165  12/21  22:00  2.896922e+05      180   \n",
       "\n",
       "   TOT_USERS   WITH_AMOUNT  WITH_TX  WITH_USERS  \n",
       "0        148  45501.740000        8           8  \n",
       "1        563   5455.684286       17          16  \n",
       "2        288  44119.005417       10          10  \n",
       "3        131    332.983898        2           2  \n",
       "4        169  13264.480000        4           4  "
      ]
     },
     "execution_count": 49,
     "metadata": {},
     "output_type": "execute_result"
    }
   ],
   "source": [
    "hourly_stats_df.head()"
   ]
  },
  {
   "cell_type": "code",
   "execution_count": 90,
   "metadata": {},
   "outputs": [
    {
     "data": {
      "text/html": [
       "\n",
       "<div id=\"altair-viz-e1c7d7b430d944009c93cd45e22ee44f\"></div>\n",
       "<script type=\"text/javascript\">\n",
       "  var VEGA_DEBUG = (typeof VEGA_DEBUG == \"undefined\") ? {} : VEGA_DEBUG;\n",
       "  (function(spec, embedOpt){\n",
       "    let outputDiv = document.currentScript.previousElementSibling;\n",
       "    if (outputDiv.id !== \"altair-viz-e1c7d7b430d944009c93cd45e22ee44f\") {\n",
       "      outputDiv = document.getElementById(\"altair-viz-e1c7d7b430d944009c93cd45e22ee44f\");\n",
       "    }\n",
       "    const paths = {\n",
       "      \"vega\": \"https://cdn.jsdelivr.net/npm//vega@5?noext\",\n",
       "      \"vega-lib\": \"https://cdn.jsdelivr.net/npm//vega-lib?noext\",\n",
       "      \"vega-lite\": \"https://cdn.jsdelivr.net/npm//vega-lite@4.17.0?noext\",\n",
       "      \"vega-embed\": \"https://cdn.jsdelivr.net/npm//vega-embed@6?noext\",\n",
       "    };\n",
       "\n",
       "    function maybeLoadScript(lib, version) {\n",
       "      var key = `${lib.replace(\"-\", \"\")}_version`;\n",
       "      return (VEGA_DEBUG[key] == version) ?\n",
       "        Promise.resolve(paths[lib]) :\n",
       "        new Promise(function(resolve, reject) {\n",
       "          var s = document.createElement('script');\n",
       "          document.getElementsByTagName(\"head\")[0].appendChild(s);\n",
       "          s.async = true;\n",
       "          s.onload = () => {\n",
       "            VEGA_DEBUG[key] = version;\n",
       "            return resolve(paths[lib]);\n",
       "          };\n",
       "          s.onerror = () => reject(`Error loading script: ${paths[lib]}`);\n",
       "          s.src = paths[lib];\n",
       "        });\n",
       "    }\n",
       "\n",
       "    function showError(err) {\n",
       "      outputDiv.innerHTML = `<div class=\"error\" style=\"color:red;\">${err}</div>`;\n",
       "      throw err;\n",
       "    }\n",
       "\n",
       "    function displayChart(vegaEmbed) {\n",
       "      vegaEmbed(outputDiv, spec, embedOpt)\n",
       "        .catch(err => showError(`Javascript Error: ${err.message}<br>This usually means there's a typo in your chart specification. See the javascript console for the full traceback.`));\n",
       "    }\n",
       "\n",
       "    if(typeof define === \"function\" && define.amd) {\n",
       "      requirejs.config({paths});\n",
       "      require([\"vega-embed\"], displayChart, err => showError(`Error loading script: ${err.message}`));\n",
       "    } else {\n",
       "      maybeLoadScript(\"vega\", \"5\")\n",
       "        .then(() => maybeLoadScript(\"vega-lite\", \"4.17.0\"))\n",
       "        .then(() => maybeLoadScript(\"vega-embed\", \"6\"))\n",
       "        .catch(showError)\n",
       "        .then(() => displayChart(vegaEmbed));\n",
       "    }\n",
       "  })({\"config\": {\"view\": {\"continuousWidth\": 400, \"continuousHeight\": 300, \"strokeOpacity\": 0}, \"mark\": {\"color\": \"#ffde85\"}}, \"data\": {\"name\": \"data-51db0147d6fc83a78a194f00d9b36757\"}, \"mark\": \"bar\", \"encoding\": {\"tooltip\": [{\"field\": \"Time\", \"type\": \"nominal\"}, {\"field\": \"N\\u00b0 of txs\", \"type\": \"quantitative\"}], \"x\": {\"axis\": {\"labelAngle\": 0, \"tickCount\": 10}, \"field\": \"Time\", \"type\": \"temporal\"}, \"y\": {\"field\": \"N\\u00b0 of txs\", \"type\": \"quantitative\"}}, \"$schema\": \"https://vega.github.io/schema/vega-lite/v4.17.0.json\", \"datasets\": {\"data-51db0147d6fc83a78a194f00d9b36757\": [{\"Amount deposited\": 232848.77325600001, \"N\\u00b0 of deposit txs\": 148, \"N\\u00b0 of depositing users\": 140, \"Time\": \"12/22  02:00\", \"Net amount deposited\": 187347.03325600002, \"N\\u00b0 of txs\": 156, \"N\\u00b0 of users\": 148, \"Withdrawn amount\": 45501.74, \"N\\u00b0 of withdraw txs\": 8, \"N\\u00b0 of withdrawing users\": 8}, {\"Amount deposited\": 1442645.240617, \"N\\u00b0 of deposit txs\": 615, \"N\\u00b0 of depositing users\": 547, \"Time\": \"12/21  08:00\", \"Net amount deposited\": 1437189.556331, \"N\\u00b0 of txs\": 632, \"N\\u00b0 of users\": 563, \"Withdrawn amount\": 5455.684286, \"N\\u00b0 of withdraw txs\": 17, \"N\\u00b0 of withdrawing users\": 16}, {\"Amount deposited\": 1250385.91042, \"N\\u00b0 of deposit txs\": 295, \"N\\u00b0 of depositing users\": 278, \"Time\": \"12/21  19:00\", \"Net amount deposited\": 1206266.905003, \"N\\u00b0 of txs\": 305, \"N\\u00b0 of users\": 288, \"Withdrawn amount\": 44119.005417, \"N\\u00b0 of withdraw txs\": 10, \"N\\u00b0 of withdrawing users\": 10}, {\"Amount deposited\": 432358.453242, \"N\\u00b0 of deposit txs\": 141, \"N\\u00b0 of depositing users\": 129, \"Time\": \"12/22  01:00\", \"Net amount deposited\": 432025.46934400004, \"N\\u00b0 of txs\": 143, \"N\\u00b0 of users\": 131, \"Withdrawn amount\": 332.983898, \"N\\u00b0 of withdraw txs\": 2, \"N\\u00b0 of withdrawing users\": 2}, {\"Amount deposited\": 302956.639625, \"N\\u00b0 of deposit txs\": 176, \"N\\u00b0 of depositing users\": 165, \"Time\": \"12/21  22:00\", \"Net amount deposited\": 289692.15962500003, \"N\\u00b0 of txs\": 180, \"N\\u00b0 of users\": 169, \"Withdrawn amount\": 13264.48, \"N\\u00b0 of withdraw txs\": 4, \"N\\u00b0 of withdrawing users\": 4}, {\"Amount deposited\": 379550.10999, \"N\\u00b0 of deposit txs\": 119, \"N\\u00b0 of depositing users\": 106, \"Time\": \"12/22  05:00\", \"Net amount deposited\": 335462.240011, \"N\\u00b0 of txs\": 124, \"N\\u00b0 of users\": 111, \"Withdrawn amount\": 44087.869978999996, \"N\\u00b0 of withdraw txs\": 5, \"N\\u00b0 of withdrawing users\": 5}, {\"Amount deposited\": 19250.0, \"N\\u00b0 of deposit txs\": 5, \"N\\u00b0 of depositing users\": 5, \"Time\": \"12/21  07:00\", \"Net amount deposited\": 19250.0, \"N\\u00b0 of txs\": 5, \"N\\u00b0 of users\": 5, \"Withdrawn amount\": 0.0, \"N\\u00b0 of withdraw txs\": 0, \"N\\u00b0 of withdrawing users\": 0}, {\"Amount deposited\": 891552.993351, \"N\\u00b0 of deposit txs\": 426, \"N\\u00b0 of depositing users\": 397, \"Time\": \"12/21  15:00\", \"Net amount deposited\": 855757.166351, \"N\\u00b0 of txs\": 439, \"N\\u00b0 of users\": 410, \"Withdrawn amount\": 35795.827, \"N\\u00b0 of withdraw txs\": 13, \"N\\u00b0 of withdrawing users\": 13}, {\"Amount deposited\": 249337.079528, \"N\\u00b0 of deposit txs\": 119, \"N\\u00b0 of depositing users\": 109, \"Time\": \"12/22  04:00\", \"Net amount deposited\": 235327.079528, \"N\\u00b0 of txs\": 122, \"N\\u00b0 of users\": 112, \"Withdrawn amount\": 14010.0, \"N\\u00b0 of withdraw txs\": 3, \"N\\u00b0 of withdrawing users\": 3}, {\"Amount deposited\": 1093518.038401, \"N\\u00b0 of deposit txs\": 481, \"N\\u00b0 of depositing users\": 455, \"Time\": \"12/21  10:00\", \"Net amount deposited\": 929826.938401, \"N\\u00b0 of txs\": 492, \"N\\u00b0 of users\": 465, \"Withdrawn amount\": 163691.1, \"N\\u00b0 of withdraw txs\": 11, \"N\\u00b0 of withdrawing users\": 10}, {\"Amount deposited\": 397950.5716469999, \"N\\u00b0 of deposit txs\": 128, \"N\\u00b0 of depositing users\": 123, \"Time\": \"12/22  07:00\", \"Net amount deposited\": 391974.1846469999, \"N\\u00b0 of txs\": 134, \"N\\u00b0 of users\": 128, \"Withdrawn amount\": 5976.387, \"N\\u00b0 of withdraw txs\": 6, \"N\\u00b0 of withdrawing users\": 5}, {\"Amount deposited\": 1763138.020706, \"N\\u00b0 of deposit txs\": 585, \"N\\u00b0 of depositing users\": 518, \"Time\": \"12/21  09:00\", \"Net amount deposited\": 1750545.267706, \"N\\u00b0 of txs\": 596, \"N\\u00b0 of users\": 529, \"Withdrawn amount\": 12592.753, \"N\\u00b0 of withdraw txs\": 11, \"N\\u00b0 of withdrawing users\": 11}, {\"Amount deposited\": 413775.20923400007, \"N\\u00b0 of deposit txs\": 363, \"N\\u00b0 of depositing users\": 343, \"Time\": \"12/21  12:00\", \"Net amount deposited\": -21795.96985299996, \"N\\u00b0 of txs\": 371, \"N\\u00b0 of users\": 351, \"Withdrawn amount\": 435571.179087, \"N\\u00b0 of withdraw txs\": 8, \"N\\u00b0 of withdrawing users\": 8}, {\"Amount deposited\": 473987.2796320001, \"N\\u00b0 of deposit txs\": 383, \"N\\u00b0 of depositing users\": 356, \"Time\": \"12/21  11:00\", \"Net amount deposited\": 465395.10945800005, \"N\\u00b0 of txs\": 393, \"N\\u00b0 of users\": 366, \"Withdrawn amount\": 8592.170174, \"N\\u00b0 of withdraw txs\": 10, \"N\\u00b0 of withdrawing users\": 10}, {\"Amount deposited\": 703651.593028, \"N\\u00b0 of deposit txs\": 252, \"N\\u00b0 of depositing users\": 239, \"Time\": \"12/21  20:00\", \"Net amount deposited\": 696541.478864, \"N\\u00b0 of txs\": 260, \"N\\u00b0 of users\": 247, \"Withdrawn amount\": 7110.114164, \"N\\u00b0 of withdraw txs\": 8, \"N\\u00b0 of withdrawing users\": 8}, {\"Amount deposited\": 747510.7314560001, \"N\\u00b0 of deposit txs\": 347, \"N\\u00b0 of depositing users\": 329, \"Time\": \"12/21  17:00\", \"Net amount deposited\": 742621.9179300001, \"N\\u00b0 of txs\": 353, \"N\\u00b0 of users\": 335, \"Withdrawn amount\": 4888.813526, \"N\\u00b0 of withdraw txs\": 6, \"N\\u00b0 of withdrawing users\": 6}, {\"Amount deposited\": 252260.087849, \"N\\u00b0 of deposit txs\": 127, \"N\\u00b0 of depositing users\": 114, \"Time\": \"12/22  06:00\", \"Net amount deposited\": -58030.277552000014, \"N\\u00b0 of txs\": 141, \"N\\u00b0 of users\": 128, \"Withdrawn amount\": 310290.365401, \"N\\u00b0 of withdraw txs\": 14, \"N\\u00b0 of withdrawing users\": 14}, {\"Amount deposited\": 306820.269019, \"N\\u00b0 of deposit txs\": 181, \"N\\u00b0 of depositing users\": 168, \"Time\": \"12/21  23:00\", \"Net amount deposited\": 297130.871337, \"N\\u00b0 of txs\": 185, \"N\\u00b0 of users\": 172, \"Withdrawn amount\": 9689.397681999999, \"N\\u00b0 of withdraw txs\": 4, \"N\\u00b0 of withdrawing users\": 4}, {\"Amount deposited\": 281016.960555, \"N\\u00b0 of deposit txs\": 172, \"N\\u00b0 of depositing users\": 156, \"Time\": \"12/22  00:00\", \"Net amount deposited\": 279071.744362, \"N\\u00b0 of txs\": 179, \"N\\u00b0 of users\": 163, \"Withdrawn amount\": 1945.2161929999997, \"N\\u00b0 of withdraw txs\": 7, \"N\\u00b0 of withdrawing users\": 7}, {\"Amount deposited\": 507105.038177, \"N\\u00b0 of deposit txs\": 394, \"N\\u00b0 of depositing users\": 363, \"Time\": \"12/21  16:00\", \"Net amount deposited\": 499805.038177, \"N\\u00b0 of txs\": 399, \"N\\u00b0 of users\": 368, \"Withdrawn amount\": 7300.0, \"N\\u00b0 of withdraw txs\": 5, \"N\\u00b0 of withdrawing users\": 5}, {\"Amount deposited\": 794319.1185160001, \"N\\u00b0 of deposit txs\": 328, \"N\\u00b0 of depositing users\": 309, \"Time\": \"12/21  18:00\", \"Net amount deposited\": 748740.2374270001, \"N\\u00b0 of txs\": 335, \"N\\u00b0 of users\": 316, \"Withdrawn amount\": 45578.881089, \"N\\u00b0 of withdraw txs\": 7, \"N\\u00b0 of withdrawing users\": 7}, {\"Amount deposited\": 1484186.7086600002, \"N\\u00b0 of deposit txs\": 377, \"N\\u00b0 of depositing users\": 351, \"Time\": \"12/21  14:00\", \"Net amount deposited\": 1472911.9011120002, \"N\\u00b0 of txs\": 389, \"N\\u00b0 of users\": 363, \"Withdrawn amount\": 11274.807548, \"N\\u00b0 of withdraw txs\": 12, \"N\\u00b0 of withdrawing users\": 12}, {\"Amount deposited\": 142306.937226, \"N\\u00b0 of deposit txs\": 129, \"N\\u00b0 of depositing users\": 118, \"Time\": \"12/22  03:00\", \"Net amount deposited\": 138742.883697, \"N\\u00b0 of txs\": 138, \"N\\u00b0 of users\": 125, \"Withdrawn amount\": 3564.053529, \"N\\u00b0 of withdraw txs\": 9, \"N\\u00b0 of withdrawing users\": 7}, {\"Amount deposited\": 246927.53408199997, \"N\\u00b0 of deposit txs\": 237, \"N\\u00b0 of depositing users\": 221, \"Time\": \"12/21  21:00\", \"Net amount deposited\": -161853.54591800005, \"N\\u00b0 of txs\": 244, \"N\\u00b0 of users\": 228, \"Withdrawn amount\": 408781.08, \"N\\u00b0 of withdraw txs\": 7, \"N\\u00b0 of withdrawing users\": 7}, {\"Amount deposited\": 713458.3046569999, \"N\\u00b0 of deposit txs\": 396, \"N\\u00b0 of depositing users\": 357, \"Time\": \"12/21  13:00\", \"Net amount deposited\": 371131.90571999986, \"N\\u00b0 of txs\": 412, \"N\\u00b0 of users\": 372, \"Withdrawn amount\": 342326.398937, \"N\\u00b0 of withdraw txs\": 16, \"N\\u00b0 of withdrawing users\": 15}]}}, {\"theme\": \"dark\", \"mode\": \"vega-lite\"});\n",
       "</script>"
      ],
      "text/plain": [
       "alt.Chart(...)"
      ]
     },
     "execution_count": 90,
     "metadata": {},
     "output_type": "execute_result"
    }
   ],
   "source": [
    "hourly_stats_df = hourly_stats_df.rename(columns=cols_dict)\n",
    "alt.Chart(hourly_stats_df).mark_bar().encode(\n",
    "    x=alt.X(cols_dict['HR']+\":T\", axis=alt.Axis(tickCount=10, labelAngle=0)),\n",
    "    y=cols_dict['TOT_TXS'],\n",
    "    tooltip=[cols_dict['HR'],cols_dict['TOT_TXS']]\n",
    ").configure_mark(\n",
    "    color='#ffde85'\n",
    ").configure_view(strokeOpacity=0)"
   ]
  },
  {
   "cell_type": "code",
   "execution_count": 65,
   "metadata": {},
   "outputs": [
    {
     "data": {
      "text/html": [
       "\n",
       "<div id=\"altair-viz-34bf0683f613475bb1d4e179a4a83497\"></div>\n",
       "<script type=\"text/javascript\">\n",
       "  var VEGA_DEBUG = (typeof VEGA_DEBUG == \"undefined\") ? {} : VEGA_DEBUG;\n",
       "  (function(spec, embedOpt){\n",
       "    let outputDiv = document.currentScript.previousElementSibling;\n",
       "    if (outputDiv.id !== \"altair-viz-34bf0683f613475bb1d4e179a4a83497\") {\n",
       "      outputDiv = document.getElementById(\"altair-viz-34bf0683f613475bb1d4e179a4a83497\");\n",
       "    }\n",
       "    const paths = {\n",
       "      \"vega\": \"https://cdn.jsdelivr.net/npm//vega@5?noext\",\n",
       "      \"vega-lib\": \"https://cdn.jsdelivr.net/npm//vega-lib?noext\",\n",
       "      \"vega-lite\": \"https://cdn.jsdelivr.net/npm//vega-lite@4.17.0?noext\",\n",
       "      \"vega-embed\": \"https://cdn.jsdelivr.net/npm//vega-embed@6?noext\",\n",
       "    };\n",
       "\n",
       "    function maybeLoadScript(lib, version) {\n",
       "      var key = `${lib.replace(\"-\", \"\")}_version`;\n",
       "      return (VEGA_DEBUG[key] == version) ?\n",
       "        Promise.resolve(paths[lib]) :\n",
       "        new Promise(function(resolve, reject) {\n",
       "          var s = document.createElement('script');\n",
       "          document.getElementsByTagName(\"head\")[0].appendChild(s);\n",
       "          s.async = true;\n",
       "          s.onload = () => {\n",
       "            VEGA_DEBUG[key] = version;\n",
       "            return resolve(paths[lib]);\n",
       "          };\n",
       "          s.onerror = () => reject(`Error loading script: ${paths[lib]}`);\n",
       "          s.src = paths[lib];\n",
       "        });\n",
       "    }\n",
       "\n",
       "    function showError(err) {\n",
       "      outputDiv.innerHTML = `<div class=\"error\" style=\"color:red;\">${err}</div>`;\n",
       "      throw err;\n",
       "    }\n",
       "\n",
       "    function displayChart(vegaEmbed) {\n",
       "      vegaEmbed(outputDiv, spec, embedOpt)\n",
       "        .catch(err => showError(`Javascript Error: ${err.message}<br>This usually means there's a typo in your chart specification. See the javascript console for the full traceback.`));\n",
       "    }\n",
       "\n",
       "    if(typeof define === \"function\" && define.amd) {\n",
       "      requirejs.config({paths});\n",
       "      require([\"vega-embed\"], displayChart, err => showError(`Error loading script: ${err.message}`));\n",
       "    } else {\n",
       "      maybeLoadScript(\"vega\", \"5\")\n",
       "        .then(() => maybeLoadScript(\"vega-lite\", \"4.17.0\"))\n",
       "        .then(() => maybeLoadScript(\"vega-embed\", \"6\"))\n",
       "        .catch(showError)\n",
       "        .then(() => displayChart(vegaEmbed));\n",
       "    }\n",
       "  })({\"config\": {\"view\": {\"continuousWidth\": 400, \"continuousHeight\": 300, \"strokeOpacity\": 0}, \"axisX\": {\"labelAngle\": 30}, \"mark\": {\"color\": \"#fab0ba\"}}, \"data\": {\"name\": \"data-51db0147d6fc83a78a194f00d9b36757\"}, \"mark\": \"bar\", \"encoding\": {\"tooltip\": [{\"field\": \"Time\", \"type\": \"nominal\"}, {\"field\": \"N\\u00b0 of users\", \"type\": \"quantitative\"}], \"x\": {\"field\": \"Time\", \"type\": \"nominal\"}, \"y\": {\"field\": \"N\\u00b0 of users\", \"type\": \"quantitative\"}}, \"selection\": {\"selector032\": {\"type\": \"interval\", \"bind\": \"scales\", \"encodings\": [\"x\", \"y\"]}}, \"width\": 700, \"$schema\": \"https://vega.github.io/schema/vega-lite/v4.17.0.json\", \"datasets\": {\"data-51db0147d6fc83a78a194f00d9b36757\": [{\"Amount deposited\": 232848.77325600001, \"N\\u00b0 of deposit txs\": 148, \"N\\u00b0 of depositing users\": 140, \"Time\": \"12/22  02:00\", \"Net amount deposited\": 187347.03325600002, \"N\\u00b0 of txs\": 156, \"N\\u00b0 of users\": 148, \"Withdrawn amount\": 45501.74, \"N\\u00b0 of withdraw txs\": 8, \"N\\u00b0 of withdrawing users\": 8}, {\"Amount deposited\": 1442645.240617, \"N\\u00b0 of deposit txs\": 615, \"N\\u00b0 of depositing users\": 547, \"Time\": \"12/21  08:00\", \"Net amount deposited\": 1437189.556331, \"N\\u00b0 of txs\": 632, \"N\\u00b0 of users\": 563, \"Withdrawn amount\": 5455.684286, \"N\\u00b0 of withdraw txs\": 17, \"N\\u00b0 of withdrawing users\": 16}, {\"Amount deposited\": 1250385.91042, \"N\\u00b0 of deposit txs\": 295, \"N\\u00b0 of depositing users\": 278, \"Time\": \"12/21  19:00\", \"Net amount deposited\": 1206266.905003, \"N\\u00b0 of txs\": 305, \"N\\u00b0 of users\": 288, \"Withdrawn amount\": 44119.005417, \"N\\u00b0 of withdraw txs\": 10, \"N\\u00b0 of withdrawing users\": 10}, {\"Amount deposited\": 432358.453242, \"N\\u00b0 of deposit txs\": 141, \"N\\u00b0 of depositing users\": 129, \"Time\": \"12/22  01:00\", \"Net amount deposited\": 432025.46934400004, \"N\\u00b0 of txs\": 143, \"N\\u00b0 of users\": 131, \"Withdrawn amount\": 332.983898, \"N\\u00b0 of withdraw txs\": 2, \"N\\u00b0 of withdrawing users\": 2}, {\"Amount deposited\": 302956.639625, \"N\\u00b0 of deposit txs\": 176, \"N\\u00b0 of depositing users\": 165, \"Time\": \"12/21  22:00\", \"Net amount deposited\": 289692.15962500003, \"N\\u00b0 of txs\": 180, \"N\\u00b0 of users\": 169, \"Withdrawn amount\": 13264.48, \"N\\u00b0 of withdraw txs\": 4, \"N\\u00b0 of withdrawing users\": 4}, {\"Amount deposited\": 379550.10999, \"N\\u00b0 of deposit txs\": 119, \"N\\u00b0 of depositing users\": 106, \"Time\": \"12/22  05:00\", \"Net amount deposited\": 335462.240011, \"N\\u00b0 of txs\": 124, \"N\\u00b0 of users\": 111, \"Withdrawn amount\": 44087.869978999996, \"N\\u00b0 of withdraw txs\": 5, \"N\\u00b0 of withdrawing users\": 5}, {\"Amount deposited\": 19250.0, \"N\\u00b0 of deposit txs\": 5, \"N\\u00b0 of depositing users\": 5, \"Time\": \"12/21  07:00\", \"Net amount deposited\": 19250.0, \"N\\u00b0 of txs\": 5, \"N\\u00b0 of users\": 5, \"Withdrawn amount\": 0.0, \"N\\u00b0 of withdraw txs\": 0, \"N\\u00b0 of withdrawing users\": 0}, {\"Amount deposited\": 891552.993351, \"N\\u00b0 of deposit txs\": 426, \"N\\u00b0 of depositing users\": 397, \"Time\": \"12/21  15:00\", \"Net amount deposited\": 855757.166351, \"N\\u00b0 of txs\": 439, \"N\\u00b0 of users\": 410, \"Withdrawn amount\": 35795.827, \"N\\u00b0 of withdraw txs\": 13, \"N\\u00b0 of withdrawing users\": 13}, {\"Amount deposited\": 249337.079528, \"N\\u00b0 of deposit txs\": 119, \"N\\u00b0 of depositing users\": 109, \"Time\": \"12/22  04:00\", \"Net amount deposited\": 235327.079528, \"N\\u00b0 of txs\": 122, \"N\\u00b0 of users\": 112, \"Withdrawn amount\": 14010.0, \"N\\u00b0 of withdraw txs\": 3, \"N\\u00b0 of withdrawing users\": 3}, {\"Amount deposited\": 1093518.038401, \"N\\u00b0 of deposit txs\": 481, \"N\\u00b0 of depositing users\": 455, \"Time\": \"12/21  10:00\", \"Net amount deposited\": 929826.938401, \"N\\u00b0 of txs\": 492, \"N\\u00b0 of users\": 465, \"Withdrawn amount\": 163691.1, \"N\\u00b0 of withdraw txs\": 11, \"N\\u00b0 of withdrawing users\": 10}, {\"Amount deposited\": 397950.5716469999, \"N\\u00b0 of deposit txs\": 128, \"N\\u00b0 of depositing users\": 123, \"Time\": \"12/22  07:00\", \"Net amount deposited\": 391974.1846469999, \"N\\u00b0 of txs\": 134, \"N\\u00b0 of users\": 128, \"Withdrawn amount\": 5976.387, \"N\\u00b0 of withdraw txs\": 6, \"N\\u00b0 of withdrawing users\": 5}, {\"Amount deposited\": 1763138.020706, \"N\\u00b0 of deposit txs\": 585, \"N\\u00b0 of depositing users\": 518, \"Time\": \"12/21  09:00\", \"Net amount deposited\": 1750545.267706, \"N\\u00b0 of txs\": 596, \"N\\u00b0 of users\": 529, \"Withdrawn amount\": 12592.753, \"N\\u00b0 of withdraw txs\": 11, \"N\\u00b0 of withdrawing users\": 11}, {\"Amount deposited\": 413775.20923400007, \"N\\u00b0 of deposit txs\": 363, \"N\\u00b0 of depositing users\": 343, \"Time\": \"12/21  12:00\", \"Net amount deposited\": -21795.96985299996, \"N\\u00b0 of txs\": 371, \"N\\u00b0 of users\": 351, \"Withdrawn amount\": 435571.179087, \"N\\u00b0 of withdraw txs\": 8, \"N\\u00b0 of withdrawing users\": 8}, {\"Amount deposited\": 473987.2796320001, \"N\\u00b0 of deposit txs\": 383, \"N\\u00b0 of depositing users\": 356, \"Time\": \"12/21  11:00\", \"Net amount deposited\": 465395.10945800005, \"N\\u00b0 of txs\": 393, \"N\\u00b0 of users\": 366, \"Withdrawn amount\": 8592.170174, \"N\\u00b0 of withdraw txs\": 10, \"N\\u00b0 of withdrawing users\": 10}, {\"Amount deposited\": 703651.593028, \"N\\u00b0 of deposit txs\": 252, \"N\\u00b0 of depositing users\": 239, \"Time\": \"12/21  20:00\", \"Net amount deposited\": 696541.478864, \"N\\u00b0 of txs\": 260, \"N\\u00b0 of users\": 247, \"Withdrawn amount\": 7110.114164, \"N\\u00b0 of withdraw txs\": 8, \"N\\u00b0 of withdrawing users\": 8}, {\"Amount deposited\": 747510.7314560001, \"N\\u00b0 of deposit txs\": 347, \"N\\u00b0 of depositing users\": 329, \"Time\": \"12/21  17:00\", \"Net amount deposited\": 742621.9179300001, \"N\\u00b0 of txs\": 353, \"N\\u00b0 of users\": 335, \"Withdrawn amount\": 4888.813526, \"N\\u00b0 of withdraw txs\": 6, \"N\\u00b0 of withdrawing users\": 6}, {\"Amount deposited\": 252260.087849, \"N\\u00b0 of deposit txs\": 127, \"N\\u00b0 of depositing users\": 114, \"Time\": \"12/22  06:00\", \"Net amount deposited\": -58030.277552000014, \"N\\u00b0 of txs\": 141, \"N\\u00b0 of users\": 128, \"Withdrawn amount\": 310290.365401, \"N\\u00b0 of withdraw txs\": 14, \"N\\u00b0 of withdrawing users\": 14}, {\"Amount deposited\": 306820.269019, \"N\\u00b0 of deposit txs\": 181, \"N\\u00b0 of depositing users\": 168, \"Time\": \"12/21  23:00\", \"Net amount deposited\": 297130.871337, \"N\\u00b0 of txs\": 185, \"N\\u00b0 of users\": 172, \"Withdrawn amount\": 9689.397681999999, \"N\\u00b0 of withdraw txs\": 4, \"N\\u00b0 of withdrawing users\": 4}, {\"Amount deposited\": 281016.960555, \"N\\u00b0 of deposit txs\": 172, \"N\\u00b0 of depositing users\": 156, \"Time\": \"12/22  00:00\", \"Net amount deposited\": 279071.744362, \"N\\u00b0 of txs\": 179, \"N\\u00b0 of users\": 163, \"Withdrawn amount\": 1945.2161929999997, \"N\\u00b0 of withdraw txs\": 7, \"N\\u00b0 of withdrawing users\": 7}, {\"Amount deposited\": 507105.038177, \"N\\u00b0 of deposit txs\": 394, \"N\\u00b0 of depositing users\": 363, \"Time\": \"12/21  16:00\", \"Net amount deposited\": 499805.038177, \"N\\u00b0 of txs\": 399, \"N\\u00b0 of users\": 368, \"Withdrawn amount\": 7300.0, \"N\\u00b0 of withdraw txs\": 5, \"N\\u00b0 of withdrawing users\": 5}, {\"Amount deposited\": 794319.1185160001, \"N\\u00b0 of deposit txs\": 328, \"N\\u00b0 of depositing users\": 309, \"Time\": \"12/21  18:00\", \"Net amount deposited\": 748740.2374270001, \"N\\u00b0 of txs\": 335, \"N\\u00b0 of users\": 316, \"Withdrawn amount\": 45578.881089, \"N\\u00b0 of withdraw txs\": 7, \"N\\u00b0 of withdrawing users\": 7}, {\"Amount deposited\": 1484186.7086600002, \"N\\u00b0 of deposit txs\": 377, \"N\\u00b0 of depositing users\": 351, \"Time\": \"12/21  14:00\", \"Net amount deposited\": 1472911.9011120002, \"N\\u00b0 of txs\": 389, \"N\\u00b0 of users\": 363, \"Withdrawn amount\": 11274.807548, \"N\\u00b0 of withdraw txs\": 12, \"N\\u00b0 of withdrawing users\": 12}, {\"Amount deposited\": 142306.937226, \"N\\u00b0 of deposit txs\": 129, \"N\\u00b0 of depositing users\": 118, \"Time\": \"12/22  03:00\", \"Net amount deposited\": 138742.883697, \"N\\u00b0 of txs\": 138, \"N\\u00b0 of users\": 125, \"Withdrawn amount\": 3564.053529, \"N\\u00b0 of withdraw txs\": 9, \"N\\u00b0 of withdrawing users\": 7}, {\"Amount deposited\": 246927.53408199997, \"N\\u00b0 of deposit txs\": 237, \"N\\u00b0 of depositing users\": 221, \"Time\": \"12/21  21:00\", \"Net amount deposited\": -161853.54591800005, \"N\\u00b0 of txs\": 244, \"N\\u00b0 of users\": 228, \"Withdrawn amount\": 408781.08, \"N\\u00b0 of withdraw txs\": 7, \"N\\u00b0 of withdrawing users\": 7}, {\"Amount deposited\": 713458.3046569999, \"N\\u00b0 of deposit txs\": 396, \"N\\u00b0 of depositing users\": 357, \"Time\": \"12/21  13:00\", \"Net amount deposited\": 371131.90571999986, \"N\\u00b0 of txs\": 412, \"N\\u00b0 of users\": 372, \"Withdrawn amount\": 342326.398937, \"N\\u00b0 of withdraw txs\": 16, \"N\\u00b0 of withdrawing users\": 15}]}}, {\"theme\": \"dark\", \"mode\": \"vega-lite\"});\n",
       "</script>"
      ],
      "text/plain": [
       "alt.Chart(...)"
      ]
     },
     "execution_count": 65,
     "metadata": {},
     "output_type": "execute_result"
    }
   ],
   "source": [
    "alt.Chart(hourly_stats_df).mark_bar().encode(\n",
    "    x=cols_dict['HR'],\n",
    "    y=cols_dict['TOT_USERS'],\n",
    "    tooltip=[cols_dict['HR'],cols_dict['TOT_USERS']]\n",
    ").configure_mark(\n",
    "    color='#fab0ba'\n",
    ").properties(width=700).configure_axisX(\n",
    "    labelAngle=30\n",
    ").configure_view(strokeOpacity=0).interactive()"
   ]
  },
  {
   "cell_type": "code",
   "execution_count": null,
   "metadata": {},
   "outputs": [],
   "source": []
  }
 ],
 "metadata": {
  "kernelspec": {
   "display_name": "Python 3",
   "language": "python",
   "name": "python3"
  },
  "language_info": {
   "codemirror_mode": {
    "name": "ipython",
    "version": 3
   },
   "file_extension": ".py",
   "mimetype": "text/x-python",
   "name": "python",
   "nbconvert_exporter": "python",
   "pygments_lexer": "ipython3",
   "version": "3.8.2"
  }
 },
 "nbformat": 4,
 "nbformat_minor": 4
}
